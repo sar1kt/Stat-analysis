{
 "cells": [
  {
   "cell_type": "markdown",
   "id": "d77457ad",
   "metadata": {},
   "source": [
    "## Иследование самокатов GoFast и прверка статистичеких гипотез##\n",
    "В этом проекте мы рассмотрим самокаты GoFast которые часто ипользутся в больших городах России и рассмотрим их более подробно.\n",
    "\n",
    "Цель иследования: \n",
    "\n",
    "Провести гипотезы по клиентам с подпиской и без подписки и выяснить какие из них более прибыльные для комании\n",
    "\n",
    "1 Для начала разгрузим данные которые нам дали в них входит три файла\n",
    "\n",
    "2 После чего сделаем предобработку данных и проверим данныхе на наличие дубликатов\n",
    "\n",
    "3 Рассмотрим данных подробней и визуализируем некоторые столбцы чтобы было визуальное понимание\n",
    "\n",
    "4 так как у нас три датафрейма лучше будет работать не с каждым по отдельности а все вместе, поэтому мы объеденим все данные таблицы \n",
    "\n",
    "5 В этом шаге мы подсчитаем выручку за каждый месяц чтобы было понимаение разницы между клиентов с подпиской и без подписки \n",
    "\n",
    "6 Рассмотрим 4 гипотезы которые больше всего концентрированы на разницу между клиентами с подпиской и без подписки"
   ]
  },
  {
   "cell_type": "markdown",
   "id": "5616f495",
   "metadata": {},
   "source": []
  },
  {
   "cell_type": "code",
   "execution_count": 1,
   "id": "72576667",
   "metadata": {},
   "outputs": [],
   "source": [
    "import pandas as pd\n",
    "import numpy as np\n",
    "from scipy import stats as st\n",
    "from math import sqrt\n",
    "import matplotlib.pyplot as plt"
   ]
  },
  {
   "cell_type": "markdown",
   "id": "c42cbe00",
   "metadata": {},
   "source": [
    "#### Шаг 1. Загрузка данных"
   ]
  },
  {
   "cell_type": "code",
   "execution_count": 2,
   "id": "eff9f206",
   "metadata": {},
   "outputs": [],
   "source": [
    "user = pd.read_csv('/datasets/users_go.csv')\n",
    "rides = pd.read_csv('/datasets/rides_go.csv')\n",
    "subscription = pd.read_csv('/datasets/subscriptions_go.csv')"
   ]
  },
  {
   "cell_type": "markdown",
   "id": "dab050c8",
   "metadata": {},
   "source": [
    "разгрузили нужные данных"
   ]
  },
  {
   "cell_type": "code",
   "execution_count": 3,
   "id": "bf3147c3",
   "metadata": {},
   "outputs": [
    {
     "data": {
      "text/html": [
       "<div>\n",
       "<style scoped>\n",
       "    .dataframe tbody tr th:only-of-type {\n",
       "        vertical-align: middle;\n",
       "    }\n",
       "\n",
       "    .dataframe tbody tr th {\n",
       "        vertical-align: top;\n",
       "    }\n",
       "\n",
       "    .dataframe thead th {\n",
       "        text-align: right;\n",
       "    }\n",
       "</style>\n",
       "<table border=\"1\" class=\"dataframe\">\n",
       "  <thead>\n",
       "    <tr style=\"text-align: right;\">\n",
       "      <th></th>\n",
       "      <th>user_id</th>\n",
       "      <th>name</th>\n",
       "      <th>age</th>\n",
       "      <th>city</th>\n",
       "      <th>subscription_type</th>\n",
       "    </tr>\n",
       "  </thead>\n",
       "  <tbody>\n",
       "    <tr>\n",
       "      <th>0</th>\n",
       "      <td>1</td>\n",
       "      <td>Кира</td>\n",
       "      <td>22</td>\n",
       "      <td>Тюмень</td>\n",
       "      <td>ultra</td>\n",
       "    </tr>\n",
       "    <tr>\n",
       "      <th>1</th>\n",
       "      <td>2</td>\n",
       "      <td>Станислав</td>\n",
       "      <td>31</td>\n",
       "      <td>Омск</td>\n",
       "      <td>ultra</td>\n",
       "    </tr>\n",
       "    <tr>\n",
       "      <th>2</th>\n",
       "      <td>3</td>\n",
       "      <td>Алексей</td>\n",
       "      <td>20</td>\n",
       "      <td>Москва</td>\n",
       "      <td>ultra</td>\n",
       "    </tr>\n",
       "    <tr>\n",
       "      <th>3</th>\n",
       "      <td>4</td>\n",
       "      <td>Константин</td>\n",
       "      <td>26</td>\n",
       "      <td>Ростов-на-Дону</td>\n",
       "      <td>ultra</td>\n",
       "    </tr>\n",
       "    <tr>\n",
       "      <th>4</th>\n",
       "      <td>5</td>\n",
       "      <td>Адель</td>\n",
       "      <td>28</td>\n",
       "      <td>Омск</td>\n",
       "      <td>ultra</td>\n",
       "    </tr>\n",
       "  </tbody>\n",
       "</table>\n",
       "</div>"
      ],
      "text/plain": [
       "   user_id        name  age            city subscription_type\n",
       "0        1        Кира   22          Тюмень             ultra\n",
       "1        2   Станислав   31            Омск             ultra\n",
       "2        3     Алексей   20          Москва             ultra\n",
       "3        4  Константин   26  Ростов-на-Дону             ultra\n",
       "4        5       Адель   28            Омск             ultra"
      ]
     },
     "metadata": {},
     "output_type": "display_data"
    },
    {
     "data": {
      "text/html": [
       "<div>\n",
       "<style scoped>\n",
       "    .dataframe tbody tr th:only-of-type {\n",
       "        vertical-align: middle;\n",
       "    }\n",
       "\n",
       "    .dataframe tbody tr th {\n",
       "        vertical-align: top;\n",
       "    }\n",
       "\n",
       "    .dataframe thead th {\n",
       "        text-align: right;\n",
       "    }\n",
       "</style>\n",
       "<table border=\"1\" class=\"dataframe\">\n",
       "  <thead>\n",
       "    <tr style=\"text-align: right;\">\n",
       "      <th></th>\n",
       "      <th>user_id</th>\n",
       "      <th>distance</th>\n",
       "      <th>duration</th>\n",
       "      <th>date</th>\n",
       "    </tr>\n",
       "  </thead>\n",
       "  <tbody>\n",
       "    <tr>\n",
       "      <th>0</th>\n",
       "      <td>1</td>\n",
       "      <td>4409.919140</td>\n",
       "      <td>25.599769</td>\n",
       "      <td>2021-01-01</td>\n",
       "    </tr>\n",
       "    <tr>\n",
       "      <th>1</th>\n",
       "      <td>1</td>\n",
       "      <td>2617.592153</td>\n",
       "      <td>15.816871</td>\n",
       "      <td>2021-01-18</td>\n",
       "    </tr>\n",
       "    <tr>\n",
       "      <th>2</th>\n",
       "      <td>1</td>\n",
       "      <td>754.159807</td>\n",
       "      <td>6.232113</td>\n",
       "      <td>2021-04-20</td>\n",
       "    </tr>\n",
       "    <tr>\n",
       "      <th>3</th>\n",
       "      <td>1</td>\n",
       "      <td>2694.783254</td>\n",
       "      <td>18.511000</td>\n",
       "      <td>2021-08-11</td>\n",
       "    </tr>\n",
       "    <tr>\n",
       "      <th>4</th>\n",
       "      <td>1</td>\n",
       "      <td>4028.687306</td>\n",
       "      <td>26.265803</td>\n",
       "      <td>2021-08-28</td>\n",
       "    </tr>\n",
       "  </tbody>\n",
       "</table>\n",
       "</div>"
      ],
      "text/plain": [
       "   user_id     distance   duration        date\n",
       "0        1  4409.919140  25.599769  2021-01-01\n",
       "1        1  2617.592153  15.816871  2021-01-18\n",
       "2        1   754.159807   6.232113  2021-04-20\n",
       "3        1  2694.783254  18.511000  2021-08-11\n",
       "4        1  4028.687306  26.265803  2021-08-28"
      ]
     },
     "metadata": {},
     "output_type": "display_data"
    },
    {
     "data": {
      "text/html": [
       "<div>\n",
       "<style scoped>\n",
       "    .dataframe tbody tr th:only-of-type {\n",
       "        vertical-align: middle;\n",
       "    }\n",
       "\n",
       "    .dataframe tbody tr th {\n",
       "        vertical-align: top;\n",
       "    }\n",
       "\n",
       "    .dataframe thead th {\n",
       "        text-align: right;\n",
       "    }\n",
       "</style>\n",
       "<table border=\"1\" class=\"dataframe\">\n",
       "  <thead>\n",
       "    <tr style=\"text-align: right;\">\n",
       "      <th></th>\n",
       "      <th>subscription_type</th>\n",
       "      <th>minute_price</th>\n",
       "      <th>start_ride_price</th>\n",
       "      <th>subscription_fee</th>\n",
       "    </tr>\n",
       "  </thead>\n",
       "  <tbody>\n",
       "    <tr>\n",
       "      <th>0</th>\n",
       "      <td>free</td>\n",
       "      <td>8</td>\n",
       "      <td>50</td>\n",
       "      <td>0</td>\n",
       "    </tr>\n",
       "    <tr>\n",
       "      <th>1</th>\n",
       "      <td>ultra</td>\n",
       "      <td>6</td>\n",
       "      <td>0</td>\n",
       "      <td>199</td>\n",
       "    </tr>\n",
       "  </tbody>\n",
       "</table>\n",
       "</div>"
      ],
      "text/plain": [
       "  subscription_type  minute_price  start_ride_price  subscription_fee\n",
       "0              free             8                50                 0\n",
       "1             ultra             6                 0               199"
      ]
     },
     "metadata": {},
     "output_type": "display_data"
    }
   ],
   "source": [
    "display(user.head())\n",
    "display(rides.head())\n",
    "display(subscription.head())"
   ]
  },
  {
   "cell_type": "code",
   "execution_count": 4,
   "id": "09885cd4",
   "metadata": {},
   "outputs": [
    {
     "name": "stdout",
     "output_type": "stream",
     "text": [
      "<class 'pandas.core.frame.DataFrame'>\n",
      "RangeIndex: 1565 entries, 0 to 1564\n",
      "Data columns (total 5 columns):\n",
      " #   Column             Non-Null Count  Dtype \n",
      "---  ------             --------------  ----- \n",
      " 0   user_id            1565 non-null   int64 \n",
      " 1   name               1565 non-null   object\n",
      " 2   age                1565 non-null   int64 \n",
      " 3   city               1565 non-null   object\n",
      " 4   subscription_type  1565 non-null   object\n",
      "dtypes: int64(2), object(3)\n",
      "memory usage: 61.3+ KB\n",
      "<class 'pandas.core.frame.DataFrame'>\n",
      "RangeIndex: 18068 entries, 0 to 18067\n",
      "Data columns (total 4 columns):\n",
      " #   Column    Non-Null Count  Dtype  \n",
      "---  ------    --------------  -----  \n",
      " 0   user_id   18068 non-null  int64  \n",
      " 1   distance  18068 non-null  float64\n",
      " 2   duration  18068 non-null  float64\n",
      " 3   date      18068 non-null  object \n",
      "dtypes: float64(2), int64(1), object(1)\n",
      "memory usage: 564.8+ KB\n",
      "<class 'pandas.core.frame.DataFrame'>\n",
      "RangeIndex: 2 entries, 0 to 1\n",
      "Data columns (total 4 columns):\n",
      " #   Column             Non-Null Count  Dtype \n",
      "---  ------             --------------  ----- \n",
      " 0   subscription_type  2 non-null      object\n",
      " 1   minute_price       2 non-null      int64 \n",
      " 2   start_ride_price   2 non-null      int64 \n",
      " 3   subscription_fee   2 non-null      int64 \n",
      "dtypes: int64(3), object(1)\n",
      "memory usage: 192.0+ bytes\n"
     ]
    }
   ],
   "source": [
    "user.info()\n",
    "rides.info()\n",
    "subscription.info()"
   ]
  },
  {
   "cell_type": "markdown",
   "id": "880e8b5e",
   "metadata": {},
   "source": [
    "Просматриваем данные для общего понимания с чем мы будем работать\n",
    "\n",
    "Можем заметить разницу в кол-ве строк что говорит о том что когда мы будем совмещать столбцы кол-во строк увеличиться с 1565 до 18068\n",
    "\n",
    "Также можем заметить что колонка 'date' является типом object соответсветнно мы должны поменять его на время "
   ]
  },
  {
   "cell_type": "markdown",
   "id": "e95ebca7",
   "metadata": {},
   "source": [
    "#### Шаг 2. Предобработка данных"
   ]
  },
  {
   "cell_type": "code",
   "execution_count": 5,
   "id": "af6d202c",
   "metadata": {},
   "outputs": [
    {
     "data": {
      "text/plain": [
       "0       2021-01-01\n",
       "1       2021-01-18\n",
       "2       2021-04-20\n",
       "3       2021-08-11\n",
       "4       2021-08-28\n",
       "           ...    \n",
       "18063   2021-11-04\n",
       "18064   2021-11-16\n",
       "18065   2021-11-18\n",
       "18066   2021-11-27\n",
       "18067   2021-12-29\n",
       "Name: date, Length: 18068, dtype: datetime64[ns]"
      ]
     },
     "execution_count": 5,
     "metadata": {},
     "output_type": "execute_result"
    }
   ],
   "source": [
    "rides['date'] = pd.to_datetime(rides['date'], format='%Y-%m-%d')\n",
    "rides['date']"
   ]
  },
  {
   "cell_type": "markdown",
   "id": "eb132720",
   "metadata": {},
   "source": [
    "Переводим формат во временой"
   ]
  },
  {
   "cell_type": "code",
   "execution_count": 6,
   "id": "e08bbc5b",
   "metadata": {},
   "outputs": [
    {
     "data": {
      "text/plain": [
       "0    1\n",
       "1    1\n",
       "2    4\n",
       "3    8\n",
       "4    8\n",
       "Name: month_num, dtype: int64"
      ]
     },
     "execution_count": 6,
     "metadata": {},
     "output_type": "execute_result"
    }
   ],
   "source": [
    "rides['month_num'] = rides['date'].dt.month\n",
    "rides['month_num'].head()"
   ]
  },
  {
   "cell_type": "markdown",
   "id": "9df673cc",
   "metadata": {},
   "source": [
    "также создаем отдельный столбец нумерации месяца чтобы в дальнейшем расчитывать доход именно по месяцам"
   ]
  },
  {
   "cell_type": "code",
   "execution_count": 7,
   "id": "0145ddb9",
   "metadata": {},
   "outputs": [
    {
     "data": {
      "text/html": [
       "<div>\n",
       "<style scoped>\n",
       "    .dataframe tbody tr th:only-of-type {\n",
       "        vertical-align: middle;\n",
       "    }\n",
       "\n",
       "    .dataframe tbody tr th {\n",
       "        vertical-align: top;\n",
       "    }\n",
       "\n",
       "    .dataframe thead th {\n",
       "        text-align: right;\n",
       "    }\n",
       "</style>\n",
       "<table border=\"1\" class=\"dataframe\">\n",
       "  <thead>\n",
       "    <tr style=\"text-align: right;\">\n",
       "      <th></th>\n",
       "      <th>date</th>\n",
       "      <th>month_num</th>\n",
       "    </tr>\n",
       "  </thead>\n",
       "  <tbody>\n",
       "    <tr>\n",
       "      <th>0</th>\n",
       "      <td>2021-01-01</td>\n",
       "      <td>1</td>\n",
       "    </tr>\n",
       "    <tr>\n",
       "      <th>1</th>\n",
       "      <td>2021-01-18</td>\n",
       "      <td>1</td>\n",
       "    </tr>\n",
       "    <tr>\n",
       "      <th>2</th>\n",
       "      <td>2021-04-20</td>\n",
       "      <td>4</td>\n",
       "    </tr>\n",
       "    <tr>\n",
       "      <th>3</th>\n",
       "      <td>2021-08-11</td>\n",
       "      <td>8</td>\n",
       "    </tr>\n",
       "    <tr>\n",
       "      <th>4</th>\n",
       "      <td>2021-08-28</td>\n",
       "      <td>8</td>\n",
       "    </tr>\n",
       "    <tr>\n",
       "      <th>5</th>\n",
       "      <td>2021-10-09</td>\n",
       "      <td>10</td>\n",
       "    </tr>\n",
       "    <tr>\n",
       "      <th>6</th>\n",
       "      <td>2021-10-19</td>\n",
       "      <td>10</td>\n",
       "    </tr>\n",
       "    <tr>\n",
       "      <th>7</th>\n",
       "      <td>2021-11-06</td>\n",
       "      <td>11</td>\n",
       "    </tr>\n",
       "    <tr>\n",
       "      <th>8</th>\n",
       "      <td>2021-11-14</td>\n",
       "      <td>11</td>\n",
       "    </tr>\n",
       "    <tr>\n",
       "      <th>9</th>\n",
       "      <td>2021-11-22</td>\n",
       "      <td>11</td>\n",
       "    </tr>\n",
       "  </tbody>\n",
       "</table>\n",
       "</div>"
      ],
      "text/plain": [
       "        date  month_num\n",
       "0 2021-01-01          1\n",
       "1 2021-01-18          1\n",
       "2 2021-04-20          4\n",
       "3 2021-08-11          8\n",
       "4 2021-08-28          8\n",
       "5 2021-10-09         10\n",
       "6 2021-10-19         10\n",
       "7 2021-11-06         11\n",
       "8 2021-11-14         11\n",
       "9 2021-11-22         11"
      ]
     },
     "metadata": {},
     "output_type": "display_data"
    },
    {
     "data": {
      "text/html": [
       "<div>\n",
       "<style scoped>\n",
       "    .dataframe tbody tr th:only-of-type {\n",
       "        vertical-align: middle;\n",
       "    }\n",
       "\n",
       "    .dataframe tbody tr th {\n",
       "        vertical-align: top;\n",
       "    }\n",
       "\n",
       "    .dataframe thead th {\n",
       "        text-align: right;\n",
       "    }\n",
       "</style>\n",
       "<table border=\"1\" class=\"dataframe\">\n",
       "  <thead>\n",
       "    <tr style=\"text-align: right;\">\n",
       "      <th></th>\n",
       "      <th>date</th>\n",
       "      <th>month_num</th>\n",
       "    </tr>\n",
       "  </thead>\n",
       "  <tbody>\n",
       "    <tr>\n",
       "      <th>18058</th>\n",
       "      <td>2021-06-11</td>\n",
       "      <td>6</td>\n",
       "    </tr>\n",
       "    <tr>\n",
       "      <th>18059</th>\n",
       "      <td>2021-06-18</td>\n",
       "      <td>6</td>\n",
       "    </tr>\n",
       "    <tr>\n",
       "      <th>18060</th>\n",
       "      <td>2021-08-08</td>\n",
       "      <td>8</td>\n",
       "    </tr>\n",
       "    <tr>\n",
       "      <th>18061</th>\n",
       "      <td>2021-08-20</td>\n",
       "      <td>8</td>\n",
       "    </tr>\n",
       "    <tr>\n",
       "      <th>18062</th>\n",
       "      <td>2021-09-13</td>\n",
       "      <td>9</td>\n",
       "    </tr>\n",
       "    <tr>\n",
       "      <th>18063</th>\n",
       "      <td>2021-11-04</td>\n",
       "      <td>11</td>\n",
       "    </tr>\n",
       "    <tr>\n",
       "      <th>18064</th>\n",
       "      <td>2021-11-16</td>\n",
       "      <td>11</td>\n",
       "    </tr>\n",
       "    <tr>\n",
       "      <th>18065</th>\n",
       "      <td>2021-11-18</td>\n",
       "      <td>11</td>\n",
       "    </tr>\n",
       "    <tr>\n",
       "      <th>18066</th>\n",
       "      <td>2021-11-27</td>\n",
       "      <td>11</td>\n",
       "    </tr>\n",
       "    <tr>\n",
       "      <th>18067</th>\n",
       "      <td>2021-12-29</td>\n",
       "      <td>12</td>\n",
       "    </tr>\n",
       "  </tbody>\n",
       "</table>\n",
       "</div>"
      ],
      "text/plain": [
       "            date  month_num\n",
       "18058 2021-06-11          6\n",
       "18059 2021-06-18          6\n",
       "18060 2021-08-08          8\n",
       "18061 2021-08-20          8\n",
       "18062 2021-09-13          9\n",
       "18063 2021-11-04         11\n",
       "18064 2021-11-16         11\n",
       "18065 2021-11-18         11\n",
       "18066 2021-11-27         11\n",
       "18067 2021-12-29         12"
      ]
     },
     "metadata": {},
     "output_type": "display_data"
    }
   ],
   "source": [
    "rides_date_month = pd.DataFrame(rides, columns = ['date', 'month_num'])\n",
    "display(rides_date_month.head(10))\n",
    "display(rides_date_month.tail(10))"
   ]
  },
  {
   "cell_type": "code",
   "execution_count": 8,
   "id": "96fae640",
   "metadata": {},
   "outputs": [
    {
     "data": {
      "text/plain": [
       "array([2021])"
      ]
     },
     "execution_count": 8,
     "metadata": {},
     "output_type": "execute_result"
    }
   ],
   "source": [
    "rides['date'].dt.year.unique()"
   ]
  },
  {
   "cell_type": "markdown",
   "id": "7695f041",
   "metadata": {},
   "source": []
  },
  {
   "cell_type": "markdown",
   "id": "d9d872fa",
   "metadata": {},
   "source": []
  },
  {
   "cell_type": "code",
   "execution_count": 9,
   "id": "2be3460d",
   "metadata": {},
   "outputs": [
    {
     "name": "stdout",
     "output_type": "stream",
     "text": [
      "31\n",
      "0\n"
     ]
    }
   ],
   "source": [
    "print(user.duplicated().sum())\n",
    "print(rides.duplicated().sum())"
   ]
  },
  {
   "cell_type": "markdown",
   "id": "f5e9a137",
   "metadata": {},
   "source": [
    "находим явные дубликаты "
   ]
  },
  {
   "cell_type": "code",
   "execution_count": 10,
   "id": "a7820c4c",
   "metadata": {},
   "outputs": [],
   "source": [
    "user = user.drop_duplicates()"
   ]
  },
  {
   "cell_type": "code",
   "execution_count": 11,
   "id": "112c3f5a",
   "metadata": {},
   "outputs": [
    {
     "name": "stdout",
     "output_type": "stream",
     "text": [
      "0\n"
     ]
    }
   ],
   "source": [
    "print(user['user_id'].duplicated().sum())"
   ]
  },
  {
   "cell_type": "markdown",
   "id": "dfa10739",
   "metadata": {},
   "source": [
    "убрали явные дубликаты"
   ]
  },
  {
   "cell_type": "code",
   "execution_count": 12,
   "id": "920dae06",
   "metadata": {},
   "outputs": [
    {
     "name": "stdout",
     "output_type": "stream",
     "text": [
      "user_id              0\n",
      "name                 0\n",
      "age                  0\n",
      "city                 0\n",
      "subscription_type    0\n",
      "dtype: int64\n",
      "user_id      0\n",
      "distance     0\n",
      "duration     0\n",
      "date         0\n",
      "month_num    0\n",
      "dtype: int64\n"
     ]
    },
    {
     "data": {
      "text/plain": [
       "subscription_type    0\n",
       "minute_price         0\n",
       "start_ride_price     0\n",
       "subscription_fee     0\n",
       "dtype: int64"
      ]
     },
     "execution_count": 12,
     "metadata": {},
     "output_type": "execute_result"
    }
   ],
   "source": [
    "print(user.isna().sum())\n",
    "print(rides.isna().sum())\n",
    "subscription.isna().sum()"
   ]
  },
  {
   "cell_type": "markdown",
   "id": "05d5d49c",
   "metadata": {},
   "source": [
    "Можем увидить что во всех трех дата фреймах у нас отсутствуют дубликаты. Можем не считать последний дата фрейм так как в нем всего две строчки."
   ]
  },
  {
   "cell_type": "markdown",
   "id": "212593c7",
   "metadata": {},
   "source": [
    "#### Шаг 3. Исследовательский анализ данных"
   ]
  },
  {
   "cell_type": "code",
   "execution_count": 13,
   "id": "e3a4274c",
   "metadata": {},
   "outputs": [
    {
     "data": {
      "text/plain": [
       "Text(0, 0.5, 'Частота')"
      ]
     },
     "execution_count": 13,
     "metadata": {},
     "output_type": "execute_result"
    },
    {
     "data": {
      "image/png": "[encoded data removed]",
      "text/plain": [
       "<Figure size 720x432 with 1 Axes>"
      ]
     },
     "metadata": {
      "needs_background": "light"
     },
     "output_type": "display_data"
    }
   ],
   "source": [
    "user_group = user.groupby('city')['city'].value_counts(ascending = True).sort_values().plot(y='city', kind = 'bar', figsize = (10, 6),grid = True,color = 'green', title = 'Часотота встречаемых городов')\n",
    "plt.ylabel('Частота') \n"
   ]
  },
  {
   "cell_type": "markdown",
   "id": "030083f8",
   "metadata": {},
   "source": [
    "Можем заметить что больше всего используют эти самокаты в городе Пятегорск а меньше всего что очень странно Москва, "
   ]
  },
  {
   "cell_type": "markdown",
   "id": "dd6bd713",
   "metadata": {},
   "source": []
  },
  {
   "cell_type": "code",
   "execution_count": 14,
   "id": "5166c872",
   "metadata": {},
   "outputs": [
    {
     "name": "stdout",
     "output_type": "stream",
     "text": [
      "Соотношение подписки \"ultra\" c общим кол-вом (в процентах): 45.56714471968709\n",
      "Соотношение подписки \"free\" c общим кол-вом (в процентах): 54.43285528031291\n"
     ]
    },
    {
     "data": {
      "image/png": "[encoded data removed]",
      "text/plain": [
       "<Figure size 216x360 with 1 Axes>"
      ]
     },
     "metadata": {
      "needs_background": "light"
     },
     "output_type": "display_data"
    }
   ],
   "source": [
    "user['subscription_type'].hist(figsize = (3, 5), bins = 3, color = 'orange', histtype = 'barstacked')\n",
    "plt.title('Соотношение подписки \"ultra\" c подписчиками \"free\"\\n\\n', fontweight = \"bold\")\n",
    "#title = 'Соотношение подписки \"ultra\" c подписчиками \"free\"'\n",
    "#user['subscription_type'].set_title(title)\n",
    "ultra_percent = user[user['subscription_type'] == 'ultra'].count() / user['subscription_type'].count()\n",
    "print(f'Соотношение подписки \"ultra\" c общим кол-вом (в процентах):', ultra_percent['name'] * 100)\n",
    "print(f'Соотношение подписки \"free\" c общим кол-вом (в процентах):', 100 - (ultra_percent['name'] * 100))"
   ]
  },
  {
   "cell_type": "markdown",
   "id": "4b1b940b",
   "metadata": {},
   "source": [
    "Cравнили соотношение пользователей с подпиской и без подписки. Пользователей с подпиской немного меньше, тем не менее у компании-прокатчика есть неплохая база постоянных клиентов. Вывод: пользователей без подписки больше но разница незначительная "
   ]
  },
  {
   "cell_type": "markdown",
   "id": "698f440e",
   "metadata": {},
   "source": []
  },
  {
   "cell_type": "code",
   "execution_count": 15,
   "id": "829b4454",
   "metadata": {},
   "outputs": [
    {
     "data": {
      "text/plain": [
       "<AxesSubplot:title={'center':'График частоты использования самокатов по возрасту'}, ylabel='age'>"
      ]
     },
     "execution_count": 15,
     "metadata": {},
     "output_type": "execute_result"
    },
    {
     "data": {
      "image/png": "[encoded data removed]",
      "text/plain": [
       "<Figure size 432x432 with 1 Axes>"
      ]
     },
     "metadata": {
      "needs_background": "light"
     },
     "output_type": "display_data"
    }
   ],
   "source": [
    "#user['age'].hist(bins = 30)\n",
    "user_age = user.groupby('age').count()\n",
    "user_age.plot(y = 'user_id', kind = 'barh', grid = True, figsize = (6, 6), color = 'green', title = 'График частоты использования самокатов по возрасту')\n"
   ]
  },
  {
   "cell_type": "markdown",
   "id": "e7563a36",
   "metadata": {},
   "source": [
    "Наша целевая аудитория в возрасте от 22 до 28 из них больше всего пользуются клиенты возрасте 25 лет. Можно также отметить что это нормальное распределение. Все что меньше 15 лет и больше 40 можно считать редкими значениями."
   ]
  },
  {
   "cell_type": "code",
   "execution_count": 16,
   "id": "91a29d3d",
   "metadata": {},
   "outputs": [
    {
     "data": {
      "text/plain": [
       "Text(0.5, 1.0, 'Распределение по времени поездки\\n\\n')"
      ]
     },
     "execution_count": 16,
     "metadata": {},
     "output_type": "execute_result"
    },
    {
     "data": {
      "image/png": "[encoded data removed]",
      "text/plain": [
       "<Figure size 432x360 with 1 Axes>"
      ]
     },
     "metadata": {
      "needs_background": "light"
     },
     "output_type": "display_data"
    }
   ],
   "source": [
    "rides_group = rides.groupby('user_id')['duration'].count()\n",
    "rides_group.hist(bins = 50, color = 'blue', figsize = (6, 5))\n",
    "plt.title('Распределение по времени поездки\\n\\n', fontweight = \"bold\")\n",
    "#rides_group.plot(x = 'duration', y = 'duration', kind = 'scatter', figsize = (8, 10))\n",
    "#rides_group.plot.bar()"
   ]
  },
  {
   "cell_type": "markdown",
   "id": "a673f305",
   "metadata": {},
   "source": [
    "Среднее время поездки на самокате от 8 до 15 минут, в среднем 12 минут "
   ]
  },
  {
   "cell_type": "code",
   "execution_count": 17,
   "id": "90107624",
   "metadata": {},
   "outputs": [
    {
     "data": {
      "text/plain": [
       "{'whiskers': [<matplotlib.lines.Line2D at 0x7f36fc9ce3d0>,\n",
       "  <matplotlib.lines.Line2D at 0x7f36fc9ce760>],\n",
       " 'caps': [<matplotlib.lines.Line2D at 0x7f36fc9ceac0>,\n",
       "  <matplotlib.lines.Line2D at 0x7f36fc9cee20>],\n",
       " 'boxes': [<matplotlib.lines.Line2D at 0x7f36fc9ce070>],\n",
       " 'medians': [<matplotlib.lines.Line2D at 0x7f36fc9da1c0>],\n",
       " 'fliers': [<matplotlib.lines.Line2D at 0x7f36fc9da520>],\n",
       " 'means': []}"
      ]
     },
     "execution_count": 17,
     "metadata": {},
     "output_type": "execute_result"
    },
    {
     "data": {
      "image/png": "[encoded data removed]",
      "text/plain": [
       "<Figure size 432x288 with 1 Axes>"
      ]
     },
     "metadata": {
      "needs_background": "light"
     },
     "output_type": "display_data"
    }
   ],
   "source": [
    "plt.boxplot(rides_group)"
   ]
  },
  {
   "cell_type": "markdown",
   "id": "22498328",
   "metadata": {},
   "source": [
    "Здесь мы можем сказать что данные которые не стоит учитывать находяться свыше 22 "
   ]
  },
  {
   "cell_type": "code",
   "execution_count": 18,
   "id": "172508a0",
   "metadata": {},
   "outputs": [
    {
     "data": {
      "text/plain": [
       "Text(0.5, 1.0, 'Распределение по времени поездки\\n\\n')"
      ]
     },
     "execution_count": 18,
     "metadata": {},
     "output_type": "execute_result"
    },
    {
     "data": {
      "image/png": "[encoded data removed]",
      "text/plain": [
       "<Figure size 432x360 with 1 Axes>"
      ]
     },
     "metadata": {
      "needs_background": "light"
     },
     "output_type": "display_data"
    }
   ],
   "source": [
    "rides['distance'].hist(bins = 100, figsize = (6, 5))\n",
    "plt.title('Распределение по времени поездки\\n\\n', fontweight = \"bold\")"
   ]
  },
  {
   "cell_type": "markdown",
   "id": "c16800fb",
   "metadata": {},
   "source": [
    "здесь мы можем заметить два пика а именно на 600 метрах (пик не значительный) и также на 3200 метрах. Основная часть поездок занимает от 2500 до 3800 метров. Медиана 3133 метра. Поездки на расстояние более 5 км редки. Однако на гистограмме видно, что некоторая часть пользователей использует самокаты для коротких поездок - до 1500 м."
   ]
  },
  {
   "cell_type": "markdown",
   "id": "1e902953",
   "metadata": {},
   "source": []
  },
  {
   "cell_type": "markdown",
   "id": "4ef51331",
   "metadata": {},
   "source": [
    "#### Шаг 4. Объединение данных"
   ]
  },
  {
   "cell_type": "code",
   "execution_count": 19,
   "id": "12d4a9b3",
   "metadata": {},
   "outputs": [
    {
     "name": "stdout",
     "output_type": "stream",
     "text": [
      "Размеры результирующего датафрейма до изменения (user): (1534, 5)\n",
      "Размеры результирующего датафрейма до изменения (rides): (18068, 5)\n"
     ]
    }
   ],
   "source": [
    "print(\"Размеры результирующего датафрейма до изменения (user):\", user.shape)\n",
    "print(\"Размеры результирующего датафрейма до изменения (rides):\", rides.shape)"
   ]
  },
  {
   "cell_type": "code",
   "execution_count": 20,
   "id": "6bf288b5",
   "metadata": {},
   "outputs": [
    {
     "data": {
      "text/html": [
       "<div>\n",
       "<style scoped>\n",
       "    .dataframe tbody tr th:only-of-type {\n",
       "        vertical-align: middle;\n",
       "    }\n",
       "\n",
       "    .dataframe tbody tr th {\n",
       "        vertical-align: top;\n",
       "    }\n",
       "\n",
       "    .dataframe thead th {\n",
       "        text-align: right;\n",
       "    }\n",
       "</style>\n",
       "<table border=\"1\" class=\"dataframe\">\n",
       "  <thead>\n",
       "    <tr style=\"text-align: right;\">\n",
       "      <th></th>\n",
       "      <th>user_id</th>\n",
       "      <th>name</th>\n",
       "      <th>age</th>\n",
       "      <th>city</th>\n",
       "      <th>subscription_type</th>\n",
       "      <th>distance</th>\n",
       "      <th>duration</th>\n",
       "      <th>date</th>\n",
       "      <th>month_num</th>\n",
       "      <th>minute_price</th>\n",
       "      <th>start_ride_price</th>\n",
       "      <th>subscription_fee</th>\n",
       "    </tr>\n",
       "  </thead>\n",
       "  <tbody>\n",
       "    <tr>\n",
       "      <th>0</th>\n",
       "      <td>1</td>\n",
       "      <td>Кира</td>\n",
       "      <td>22</td>\n",
       "      <td>Тюмень</td>\n",
       "      <td>ultra</td>\n",
       "      <td>4409.919140</td>\n",
       "      <td>25.599769</td>\n",
       "      <td>2021-01-01</td>\n",
       "      <td>1</td>\n",
       "      <td>6</td>\n",
       "      <td>0</td>\n",
       "      <td>199</td>\n",
       "    </tr>\n",
       "    <tr>\n",
       "      <th>1</th>\n",
       "      <td>1</td>\n",
       "      <td>Кира</td>\n",
       "      <td>22</td>\n",
       "      <td>Тюмень</td>\n",
       "      <td>ultra</td>\n",
       "      <td>2617.592153</td>\n",
       "      <td>15.816871</td>\n",
       "      <td>2021-01-18</td>\n",
       "      <td>1</td>\n",
       "      <td>6</td>\n",
       "      <td>0</td>\n",
       "      <td>199</td>\n",
       "    </tr>\n",
       "    <tr>\n",
       "      <th>2</th>\n",
       "      <td>1</td>\n",
       "      <td>Кира</td>\n",
       "      <td>22</td>\n",
       "      <td>Тюмень</td>\n",
       "      <td>ultra</td>\n",
       "      <td>754.159807</td>\n",
       "      <td>6.232113</td>\n",
       "      <td>2021-04-20</td>\n",
       "      <td>4</td>\n",
       "      <td>6</td>\n",
       "      <td>0</td>\n",
       "      <td>199</td>\n",
       "    </tr>\n",
       "    <tr>\n",
       "      <th>3</th>\n",
       "      <td>1</td>\n",
       "      <td>Кира</td>\n",
       "      <td>22</td>\n",
       "      <td>Тюмень</td>\n",
       "      <td>ultra</td>\n",
       "      <td>2694.783254</td>\n",
       "      <td>18.511000</td>\n",
       "      <td>2021-08-11</td>\n",
       "      <td>8</td>\n",
       "      <td>6</td>\n",
       "      <td>0</td>\n",
       "      <td>199</td>\n",
       "    </tr>\n",
       "    <tr>\n",
       "      <th>4</th>\n",
       "      <td>1</td>\n",
       "      <td>Кира</td>\n",
       "      <td>22</td>\n",
       "      <td>Тюмень</td>\n",
       "      <td>ultra</td>\n",
       "      <td>4028.687306</td>\n",
       "      <td>26.265803</td>\n",
       "      <td>2021-08-28</td>\n",
       "      <td>8</td>\n",
       "      <td>6</td>\n",
       "      <td>0</td>\n",
       "      <td>199</td>\n",
       "    </tr>\n",
       "  </tbody>\n",
       "</table>\n",
       "</div>"
      ],
      "text/plain": [
       "   user_id  name  age    city subscription_type     distance   duration  \\\n",
       "0        1  Кира   22  Тюмень             ultra  4409.919140  25.599769   \n",
       "1        1  Кира   22  Тюмень             ultra  2617.592153  15.816871   \n",
       "2        1  Кира   22  Тюмень             ultra   754.159807   6.232113   \n",
       "3        1  Кира   22  Тюмень             ultra  2694.783254  18.511000   \n",
       "4        1  Кира   22  Тюмень             ultra  4028.687306  26.265803   \n",
       "\n",
       "        date  month_num  minute_price  start_ride_price  subscription_fee  \n",
       "0 2021-01-01          1             6                 0               199  \n",
       "1 2021-01-18          1             6                 0               199  \n",
       "2 2021-04-20          4             6                 0               199  \n",
       "3 2021-08-11          8             6                 0               199  \n",
       "4 2021-08-28          8             6                 0               199  "
      ]
     },
     "execution_count": 20,
     "metadata": {},
     "output_type": "execute_result"
    }
   ],
   "source": [
    "user_rides = user.merge(rides, on='user_id', how='left')\n",
    "user_rides_sub = user_rides.merge(subscription, on='subscription_type', how='left')\n",
    "user_rides_sub.head()"
   ]
  },
  {
   "cell_type": "code",
   "execution_count": 21,
   "id": "e448ff3d",
   "metadata": {},
   "outputs": [
    {
     "name": "stdout",
     "output_type": "stream",
     "text": [
      "Размеры результирующего датафрейма до изменения (user): (1534, 5)\n",
      "Размеры результирующего датафрейма до изменения (rides): (18068, 5)\n",
      "Размеры результирующего датафрейма после изменения (user_rides_sub): (18068, 12)\n"
     ]
    }
   ],
   "source": [
    "print(\"Размеры результирующего датафрейма до изменения (user):\", user.shape)\n",
    "print(\"Размеры результирующего датафрейма до изменения (rides):\", rides.shape)\n",
    "print(\"Размеры результирующего датафрейма после изменения (user_rides_sub):\", user_rides_sub.shape)"
   ]
  },
  {
   "cell_type": "markdown",
   "id": "b3c39491",
   "metadata": {},
   "source": [
    "Можем заметить изменение кол-ва столбцов которое в новом объединении равен 12 а кол-во строк равно кол-ву строк дата фрейма \"rides\""
   ]
  },
  {
   "cell_type": "code",
   "execution_count": 22,
   "id": "2b38d768",
   "metadata": {},
   "outputs": [
    {
     "data": {
      "text/html": [
       "<div>\n",
       "<style scoped>\n",
       "    .dataframe tbody tr th:only-of-type {\n",
       "        vertical-align: middle;\n",
       "    }\n",
       "\n",
       "    .dataframe tbody tr th {\n",
       "        vertical-align: top;\n",
       "    }\n",
       "\n",
       "    .dataframe thead th {\n",
       "        text-align: right;\n",
       "    }\n",
       "</style>\n",
       "<table border=\"1\" class=\"dataframe\">\n",
       "  <thead>\n",
       "    <tr style=\"text-align: right;\">\n",
       "      <th></th>\n",
       "      <th>user_id</th>\n",
       "      <th>name</th>\n",
       "      <th>age</th>\n",
       "      <th>city</th>\n",
       "      <th>subscription_type</th>\n",
       "      <th>distance</th>\n",
       "      <th>duration</th>\n",
       "      <th>date</th>\n",
       "      <th>month_num</th>\n",
       "      <th>minute_price</th>\n",
       "      <th>start_ride_price</th>\n",
       "      <th>subscription_fee</th>\n",
       "    </tr>\n",
       "  </thead>\n",
       "  <tbody>\n",
       "    <tr>\n",
       "      <th>0</th>\n",
       "      <td>1</td>\n",
       "      <td>Кира</td>\n",
       "      <td>22</td>\n",
       "      <td>Тюмень</td>\n",
       "      <td>ultra</td>\n",
       "      <td>4409.919140</td>\n",
       "      <td>25.599769</td>\n",
       "      <td>2021-01-01</td>\n",
       "      <td>1</td>\n",
       "      <td>6</td>\n",
       "      <td>0</td>\n",
       "      <td>199</td>\n",
       "    </tr>\n",
       "    <tr>\n",
       "      <th>1</th>\n",
       "      <td>1</td>\n",
       "      <td>Кира</td>\n",
       "      <td>22</td>\n",
       "      <td>Тюмень</td>\n",
       "      <td>ultra</td>\n",
       "      <td>2617.592153</td>\n",
       "      <td>15.816871</td>\n",
       "      <td>2021-01-18</td>\n",
       "      <td>1</td>\n",
       "      <td>6</td>\n",
       "      <td>0</td>\n",
       "      <td>199</td>\n",
       "    </tr>\n",
       "    <tr>\n",
       "      <th>2</th>\n",
       "      <td>1</td>\n",
       "      <td>Кира</td>\n",
       "      <td>22</td>\n",
       "      <td>Тюмень</td>\n",
       "      <td>ultra</td>\n",
       "      <td>754.159807</td>\n",
       "      <td>6.232113</td>\n",
       "      <td>2021-04-20</td>\n",
       "      <td>4</td>\n",
       "      <td>6</td>\n",
       "      <td>0</td>\n",
       "      <td>199</td>\n",
       "    </tr>\n",
       "    <tr>\n",
       "      <th>3</th>\n",
       "      <td>1</td>\n",
       "      <td>Кира</td>\n",
       "      <td>22</td>\n",
       "      <td>Тюмень</td>\n",
       "      <td>ultra</td>\n",
       "      <td>2694.783254</td>\n",
       "      <td>18.511000</td>\n",
       "      <td>2021-08-11</td>\n",
       "      <td>8</td>\n",
       "      <td>6</td>\n",
       "      <td>0</td>\n",
       "      <td>199</td>\n",
       "    </tr>\n",
       "    <tr>\n",
       "      <th>4</th>\n",
       "      <td>1</td>\n",
       "      <td>Кира</td>\n",
       "      <td>22</td>\n",
       "      <td>Тюмень</td>\n",
       "      <td>ultra</td>\n",
       "      <td>4028.687306</td>\n",
       "      <td>26.265803</td>\n",
       "      <td>2021-08-28</td>\n",
       "      <td>8</td>\n",
       "      <td>6</td>\n",
       "      <td>0</td>\n",
       "      <td>199</td>\n",
       "    </tr>\n",
       "  </tbody>\n",
       "</table>\n",
       "</div>"
      ],
      "text/plain": [
       "   user_id  name  age    city subscription_type     distance   duration  \\\n",
       "0        1  Кира   22  Тюмень             ultra  4409.919140  25.599769   \n",
       "1        1  Кира   22  Тюмень             ultra  2617.592153  15.816871   \n",
       "2        1  Кира   22  Тюмень             ultra   754.159807   6.232113   \n",
       "3        1  Кира   22  Тюмень             ultra  2694.783254  18.511000   \n",
       "4        1  Кира   22  Тюмень             ultra  4028.687306  26.265803   \n",
       "\n",
       "        date  month_num  minute_price  start_ride_price  subscription_fee  \n",
       "0 2021-01-01          1             6                 0               199  \n",
       "1 2021-01-18          1             6                 0               199  \n",
       "2 2021-04-20          4             6                 0               199  \n",
       "3 2021-08-11          8             6                 0               199  \n",
       "4 2021-08-28          8             6                 0               199  "
      ]
     },
     "metadata": {},
     "output_type": "display_data"
    },
    {
     "data": {
      "text/html": [
       "<div>\n",
       "<style scoped>\n",
       "    .dataframe tbody tr th:only-of-type {\n",
       "        vertical-align: middle;\n",
       "    }\n",
       "\n",
       "    .dataframe tbody tr th {\n",
       "        vertical-align: top;\n",
       "    }\n",
       "\n",
       "    .dataframe thead th {\n",
       "        text-align: right;\n",
       "    }\n",
       "</style>\n",
       "<table border=\"1\" class=\"dataframe\">\n",
       "  <thead>\n",
       "    <tr style=\"text-align: right;\">\n",
       "      <th></th>\n",
       "      <th>user_id</th>\n",
       "      <th>name</th>\n",
       "      <th>age</th>\n",
       "      <th>city</th>\n",
       "      <th>subscription_type</th>\n",
       "      <th>distance</th>\n",
       "      <th>duration</th>\n",
       "      <th>date</th>\n",
       "      <th>month_num</th>\n",
       "      <th>minute_price</th>\n",
       "      <th>start_ride_price</th>\n",
       "      <th>subscription_fee</th>\n",
       "    </tr>\n",
       "  </thead>\n",
       "  <tbody>\n",
       "    <tr>\n",
       "      <th>6500</th>\n",
       "      <td>700</td>\n",
       "      <td>Айдар</td>\n",
       "      <td>22</td>\n",
       "      <td>Омск</td>\n",
       "      <td>free</td>\n",
       "      <td>2515.690719</td>\n",
       "      <td>14.944286</td>\n",
       "      <td>2021-01-02</td>\n",
       "      <td>1</td>\n",
       "      <td>8</td>\n",
       "      <td>50</td>\n",
       "      <td>0</td>\n",
       "    </tr>\n",
       "    <tr>\n",
       "      <th>6501</th>\n",
       "      <td>700</td>\n",
       "      <td>Айдар</td>\n",
       "      <td>22</td>\n",
       "      <td>Омск</td>\n",
       "      <td>free</td>\n",
       "      <td>846.932642</td>\n",
       "      <td>16.234663</td>\n",
       "      <td>2021-02-01</td>\n",
       "      <td>2</td>\n",
       "      <td>8</td>\n",
       "      <td>50</td>\n",
       "      <td>0</td>\n",
       "    </tr>\n",
       "    <tr>\n",
       "      <th>6502</th>\n",
       "      <td>700</td>\n",
       "      <td>Айдар</td>\n",
       "      <td>22</td>\n",
       "      <td>Омск</td>\n",
       "      <td>free</td>\n",
       "      <td>4004.434142</td>\n",
       "      <td>20.016628</td>\n",
       "      <td>2021-02-04</td>\n",
       "      <td>2</td>\n",
       "      <td>8</td>\n",
       "      <td>50</td>\n",
       "      <td>0</td>\n",
       "    </tr>\n",
       "    <tr>\n",
       "      <th>6503</th>\n",
       "      <td>700</td>\n",
       "      <td>Айдар</td>\n",
       "      <td>22</td>\n",
       "      <td>Омск</td>\n",
       "      <td>free</td>\n",
       "      <td>1205.911290</td>\n",
       "      <td>9.782872</td>\n",
       "      <td>2021-02-10</td>\n",
       "      <td>2</td>\n",
       "      <td>8</td>\n",
       "      <td>50</td>\n",
       "      <td>0</td>\n",
       "    </tr>\n",
       "    <tr>\n",
       "      <th>6504</th>\n",
       "      <td>700</td>\n",
       "      <td>Айдар</td>\n",
       "      <td>22</td>\n",
       "      <td>Омск</td>\n",
       "      <td>free</td>\n",
       "      <td>3047.379435</td>\n",
       "      <td>17.427673</td>\n",
       "      <td>2021-02-14</td>\n",
       "      <td>2</td>\n",
       "      <td>8</td>\n",
       "      <td>50</td>\n",
       "      <td>0</td>\n",
       "    </tr>\n",
       "  </tbody>\n",
       "</table>\n",
       "</div>"
      ],
      "text/plain": [
       "      user_id   name  age  city subscription_type     distance   duration  \\\n",
       "6500      700  Айдар   22  Омск              free  2515.690719  14.944286   \n",
       "6501      700  Айдар   22  Омск              free   846.932642  16.234663   \n",
       "6502      700  Айдар   22  Омск              free  4004.434142  20.016628   \n",
       "6503      700  Айдар   22  Омск              free  1205.911290   9.782872   \n",
       "6504      700  Айдар   22  Омск              free  3047.379435  17.427673   \n",
       "\n",
       "           date  month_num  minute_price  start_ride_price  subscription_fee  \n",
       "6500 2021-01-02          1             8                50                 0  \n",
       "6501 2021-02-01          2             8                50                 0  \n",
       "6502 2021-02-04          2             8                50                 0  \n",
       "6503 2021-02-10          2             8                50                 0  \n",
       "6504 2021-02-14          2             8                50                 0  "
      ]
     },
     "metadata": {},
     "output_type": "display_data"
    },
    {
     "data": {
      "text/html": [
       "<div>\n",
       "<style scoped>\n",
       "    .dataframe tbody tr th:only-of-type {\n",
       "        vertical-align: middle;\n",
       "    }\n",
       "\n",
       "    .dataframe tbody tr th {\n",
       "        vertical-align: top;\n",
       "    }\n",
       "\n",
       "    .dataframe thead th {\n",
       "        text-align: right;\n",
       "    }\n",
       "</style>\n",
       "<table border=\"1\" class=\"dataframe\">\n",
       "  <thead>\n",
       "    <tr style=\"text-align: right;\">\n",
       "      <th></th>\n",
       "      <th>user_id</th>\n",
       "      <th>name</th>\n",
       "      <th>age</th>\n",
       "      <th>city</th>\n",
       "      <th>subscription_type</th>\n",
       "      <th>distance</th>\n",
       "      <th>duration</th>\n",
       "      <th>date</th>\n",
       "      <th>month_num</th>\n",
       "      <th>minute_price</th>\n",
       "      <th>start_ride_price</th>\n",
       "      <th>subscription_fee</th>\n",
       "    </tr>\n",
       "  </thead>\n",
       "  <tbody>\n",
       "    <tr>\n",
       "      <th>0</th>\n",
       "      <td>1</td>\n",
       "      <td>Кира</td>\n",
       "      <td>22</td>\n",
       "      <td>Тюмень</td>\n",
       "      <td>ultra</td>\n",
       "      <td>4409.919140</td>\n",
       "      <td>25.599769</td>\n",
       "      <td>2021-01-01</td>\n",
       "      <td>1</td>\n",
       "      <td>6</td>\n",
       "      <td>0</td>\n",
       "      <td>199</td>\n",
       "    </tr>\n",
       "    <tr>\n",
       "      <th>1</th>\n",
       "      <td>1</td>\n",
       "      <td>Кира</td>\n",
       "      <td>22</td>\n",
       "      <td>Тюмень</td>\n",
       "      <td>ultra</td>\n",
       "      <td>2617.592153</td>\n",
       "      <td>15.816871</td>\n",
       "      <td>2021-01-18</td>\n",
       "      <td>1</td>\n",
       "      <td>6</td>\n",
       "      <td>0</td>\n",
       "      <td>199</td>\n",
       "    </tr>\n",
       "    <tr>\n",
       "      <th>2</th>\n",
       "      <td>1</td>\n",
       "      <td>Кира</td>\n",
       "      <td>22</td>\n",
       "      <td>Тюмень</td>\n",
       "      <td>ultra</td>\n",
       "      <td>754.159807</td>\n",
       "      <td>6.232113</td>\n",
       "      <td>2021-04-20</td>\n",
       "      <td>4</td>\n",
       "      <td>6</td>\n",
       "      <td>0</td>\n",
       "      <td>199</td>\n",
       "    </tr>\n",
       "    <tr>\n",
       "      <th>3</th>\n",
       "      <td>1</td>\n",
       "      <td>Кира</td>\n",
       "      <td>22</td>\n",
       "      <td>Тюмень</td>\n",
       "      <td>ultra</td>\n",
       "      <td>2694.783254</td>\n",
       "      <td>18.511000</td>\n",
       "      <td>2021-08-11</td>\n",
       "      <td>8</td>\n",
       "      <td>6</td>\n",
       "      <td>0</td>\n",
       "      <td>199</td>\n",
       "    </tr>\n",
       "    <tr>\n",
       "      <th>4</th>\n",
       "      <td>1</td>\n",
       "      <td>Кира</td>\n",
       "      <td>22</td>\n",
       "      <td>Тюмень</td>\n",
       "      <td>ultra</td>\n",
       "      <td>4028.687306</td>\n",
       "      <td>26.265803</td>\n",
       "      <td>2021-08-28</td>\n",
       "      <td>8</td>\n",
       "      <td>6</td>\n",
       "      <td>0</td>\n",
       "      <td>199</td>\n",
       "    </tr>\n",
       "  </tbody>\n",
       "</table>\n",
       "</div>"
      ],
      "text/plain": [
       "   user_id  name  age    city subscription_type     distance   duration  \\\n",
       "0        1  Кира   22  Тюмень             ultra  4409.919140  25.599769   \n",
       "1        1  Кира   22  Тюмень             ultra  2617.592153  15.816871   \n",
       "2        1  Кира   22  Тюмень             ultra   754.159807   6.232113   \n",
       "3        1  Кира   22  Тюмень             ultra  2694.783254  18.511000   \n",
       "4        1  Кира   22  Тюмень             ultra  4028.687306  26.265803   \n",
       "\n",
       "        date  month_num  minute_price  start_ride_price  subscription_fee  \n",
       "0 2021-01-01          1             6                 0               199  \n",
       "1 2021-01-18          1             6                 0               199  \n",
       "2 2021-04-20          4             6                 0               199  \n",
       "3 2021-08-11          8             6                 0               199  \n",
       "4 2021-08-28          8             6                 0               199  "
      ]
     },
     "metadata": {},
     "output_type": "display_data"
    },
    {
     "data": {
      "text/html": [
       "<div>\n",
       "<style scoped>\n",
       "    .dataframe tbody tr th:only-of-type {\n",
       "        vertical-align: middle;\n",
       "    }\n",
       "\n",
       "    .dataframe tbody tr th {\n",
       "        vertical-align: top;\n",
       "    }\n",
       "\n",
       "    .dataframe thead th {\n",
       "        text-align: right;\n",
       "    }\n",
       "</style>\n",
       "<table border=\"1\" class=\"dataframe\">\n",
       "  <thead>\n",
       "    <tr style=\"text-align: right;\">\n",
       "      <th></th>\n",
       "      <th>user_id</th>\n",
       "      <th>name</th>\n",
       "      <th>age</th>\n",
       "      <th>city</th>\n",
       "      <th>subscription_type</th>\n",
       "      <th>distance</th>\n",
       "      <th>duration</th>\n",
       "      <th>date</th>\n",
       "      <th>month_num</th>\n",
       "      <th>minute_price</th>\n",
       "      <th>start_ride_price</th>\n",
       "      <th>subscription_fee</th>\n",
       "    </tr>\n",
       "  </thead>\n",
       "  <tbody>\n",
       "    <tr>\n",
       "      <th>18063</th>\n",
       "      <td>1534</td>\n",
       "      <td>Альберт</td>\n",
       "      <td>25</td>\n",
       "      <td>Краснодар</td>\n",
       "      <td>free</td>\n",
       "      <td>3781.098080</td>\n",
       "      <td>19.822962</td>\n",
       "      <td>2021-11-04</td>\n",
       "      <td>11</td>\n",
       "      <td>8</td>\n",
       "      <td>50</td>\n",
       "      <td>0</td>\n",
       "    </tr>\n",
       "    <tr>\n",
       "      <th>18064</th>\n",
       "      <td>1534</td>\n",
       "      <td>Альберт</td>\n",
       "      <td>25</td>\n",
       "      <td>Краснодар</td>\n",
       "      <td>free</td>\n",
       "      <td>2840.423057</td>\n",
       "      <td>21.409799</td>\n",
       "      <td>2021-11-16</td>\n",
       "      <td>11</td>\n",
       "      <td>8</td>\n",
       "      <td>50</td>\n",
       "      <td>0</td>\n",
       "    </tr>\n",
       "    <tr>\n",
       "      <th>18065</th>\n",
       "      <td>1534</td>\n",
       "      <td>Альберт</td>\n",
       "      <td>25</td>\n",
       "      <td>Краснодар</td>\n",
       "      <td>free</td>\n",
       "      <td>3826.185507</td>\n",
       "      <td>18.435051</td>\n",
       "      <td>2021-11-18</td>\n",
       "      <td>11</td>\n",
       "      <td>8</td>\n",
       "      <td>50</td>\n",
       "      <td>0</td>\n",
       "    </tr>\n",
       "    <tr>\n",
       "      <th>18066</th>\n",
       "      <td>1534</td>\n",
       "      <td>Альберт</td>\n",
       "      <td>25</td>\n",
       "      <td>Краснодар</td>\n",
       "      <td>free</td>\n",
       "      <td>2902.308661</td>\n",
       "      <td>16.674362</td>\n",
       "      <td>2021-11-27</td>\n",
       "      <td>11</td>\n",
       "      <td>8</td>\n",
       "      <td>50</td>\n",
       "      <td>0</td>\n",
       "    </tr>\n",
       "    <tr>\n",
       "      <th>18067</th>\n",
       "      <td>1534</td>\n",
       "      <td>Альберт</td>\n",
       "      <td>25</td>\n",
       "      <td>Краснодар</td>\n",
       "      <td>free</td>\n",
       "      <td>2371.711192</td>\n",
       "      <td>15.893917</td>\n",
       "      <td>2021-12-29</td>\n",
       "      <td>12</td>\n",
       "      <td>8</td>\n",
       "      <td>50</td>\n",
       "      <td>0</td>\n",
       "    </tr>\n",
       "  </tbody>\n",
       "</table>\n",
       "</div>"
      ],
      "text/plain": [
       "       user_id     name  age       city subscription_type     distance  \\\n",
       "18063     1534  Альберт   25  Краснодар              free  3781.098080   \n",
       "18064     1534  Альберт   25  Краснодар              free  2840.423057   \n",
       "18065     1534  Альберт   25  Краснодар              free  3826.185507   \n",
       "18066     1534  Альберт   25  Краснодар              free  2902.308661   \n",
       "18067     1534  Альберт   25  Краснодар              free  2371.711192   \n",
       "\n",
       "        duration       date  month_num  minute_price  start_ride_price  \\\n",
       "18063  19.822962 2021-11-04         11             8                50   \n",
       "18064  21.409799 2021-11-16         11             8                50   \n",
       "18065  18.435051 2021-11-18         11             8                50   \n",
       "18066  16.674362 2021-11-27         11             8                50   \n",
       "18067  15.893917 2021-12-29         12             8                50   \n",
       "\n",
       "       subscription_fee  \n",
       "18063                 0  \n",
       "18064                 0  \n",
       "18065                 0  \n",
       "18066                 0  \n",
       "18067                 0  "
      ]
     },
     "metadata": {},
     "output_type": "display_data"
    }
   ],
   "source": [
    "with_sub = user_rides_sub.query('subscription_type == \"ultra\"')\n",
    "without_sub = user_rides_sub.query('subscription_type == \"free\"')\n",
    "display(with_sub.head())\n",
    "display(without_sub.head())\n",
    "display(user_rides_sub.head())\n",
    "display(user_rides_sub.tail())"
   ]
  },
  {
   "cell_type": "markdown",
   "id": "5c1a11dc",
   "metadata": {},
   "source": [
    "создали два таблицы. одна с клинтами с подпиской и во второй таблицы без подписки"
   ]
  },
  {
   "cell_type": "code",
   "execution_count": 23,
   "id": "9a21e18a",
   "metadata": {},
   "outputs": [
    {
     "data": {
      "text/plain": [
       "Text(0, 0.5, 'Частота')"
      ]
     },
     "execution_count": 23,
     "metadata": {},
     "output_type": "execute_result"
    },
    {
     "data": {
      "image/png": "[encoded data removed]",
      "text/plain": [
       "<Figure size 432x288 with 1 Axes>"
      ]
     },
     "metadata": {
      "needs_background": "light"
     },
     "output_type": "display_data"
    }
   ],
   "source": [
    "with_sub.distance.plot(grid = True,  kind = 'hist',alpha=0.8,histtype = 'step', bins = 100, title = 'С подпиской - оранжевый, без подписки - синий', linewidth = 4, color = 'blue')\n",
    "without_sub.distance.plot(grid = True, kind = 'hist',alpha=0.8, histtype = 'step', bins = 100, linewidth = 4, color = 'orange')\n",
    "plt.xlabel('Дистанция')\n",
    "plt.ylabel('Частота')"
   ]
  },
  {
   "cell_type": "code",
   "execution_count": 24,
   "id": "10b164af",
   "metadata": {},
   "outputs": [
    {
     "data": {
      "text/plain": [
       "Text(0, 0.5, 'Частота')"
      ]
     },
     "execution_count": 24,
     "metadata": {},
     "output_type": "execute_result"
    },
    {
     "data": {
      "image/png": "[encoded data removed]",
      "text/plain": [
       "<Figure size 432x288 with 1 Axes>"
      ]
     },
     "metadata": {
      "needs_background": "light"
     },
     "output_type": "display_data"
    }
   ],
   "source": [
    "with_sub.duration.plot(grid = True, kind = 'hist', bins = 100,histtype = 'step', linewidth = 4, color = 'orange')\n",
    "without_sub.duration.plot(grid = True, kind = 'hist', bins = 100, title = 'С подпиской(оранжевый), без подписки синий',histtype = 'step', linewidth = 4, color = 'blue')\n",
    "plt.xlabel('Длительность')\n",
    "plt.ylabel('Частота')\n"
   ]
  },
  {
   "cell_type": "markdown",
   "id": "e70e6993",
   "metadata": {},
   "source": [
    "Если сранивать эти два графика мы можем невооруженным главзом увидить разницу между в общем кол-ве поездок, у клиентов без подписки их больше но дистнция которую они проежают меньше. Также если разглядывать локальный максимум слева то можем заметить что у клиентов с подпиской он находиться в диапозоне от 900 до 1200 в то время как у клиентов без подписки он находиться с диапозоне от 300 до 800 метров. Что касается правого локального максимума то мы можем заметить явный пик на графике клиентов с подпиской, у них это от 3000 до 3200 метров в то время как у клиентов без подписки это от 2300 до 3500\n",
    "\n",
    "У пользователей без подписки значительно больше коротких поездок - до 1 км и в целом максимальная дальность поездки выше, чем у платных пользователей."
   ]
  },
  {
   "cell_type": "markdown",
   "id": "e9fd93a5",
   "metadata": {},
   "source": [
    "Касательно времени поездки"
   ]
  },
  {
   "cell_type": "code",
   "execution_count": 25,
   "id": "b578325f",
   "metadata": {},
   "outputs": [
    {
     "data": {
      "text/plain": [
       "Text(0, 0.5, 'Дистанция')"
      ]
     },
     "execution_count": 25,
     "metadata": {},
     "output_type": "execute_result"
    },
    {
     "data": {
      "image/png": "[encoded data removed]",
      "text/plain": [
       "<Figure size 432x432 with 1 Axes>"
      ]
     },
     "metadata": {
      "needs_background": "light"
     },
     "output_type": "display_data"
    },
    {
     "data": {
      "image/png": "[encoded data removed]",
      "text/plain": [
       "<Figure size 432x432 with 1 Axes>"
      ]
     },
     "metadata": {
      "needs_background": "light"
     },
     "output_type": "display_data"
    }
   ],
   "source": [
    "with_sub.plot(kind = 'scatter', x = 'duration', y = 'distance', figsize = (6,6), color = 'green', title = 'Корреляция клиентов с подпиской по дистанции и времени поездки')\n",
    "plt.xlabel('Длительность')\n",
    "plt.ylabel('Дистанция')\n",
    "without_sub.plot(kind = 'scatter', x = 'duration', y = 'distance', figsize = (6,6), color = 'orange', title = 'Корреляция клиентов без подпиской по дистанции и времени поездки')\n",
    "plt.xlabel('Длительность')\n",
    "plt.ylabel('Дистанция')\n"
   ]
  },
  {
   "cell_type": "markdown",
   "id": "eb205f3f",
   "metadata": {},
   "source": [
    "В целом можем заметить что клиенты без подписки тратят больше времени на поездку и соответственно проезжают дистанцию больше чем клиенты без подписки. Также можем заметить что есть аномалии у клиентов без подписки за одну минуту они проезжают дистанцию от 4000 до 6800 метров"
   ]
  },
  {
   "cell_type": "markdown",
   "id": "402d620f",
   "metadata": {},
   "source": [
    "#### Шаг 5. Подсчёт выручки"
   ]
  },
  {
   "cell_type": "code",
   "execution_count": 26,
   "id": "e421c077",
   "metadata": {},
   "outputs": [
    {
     "data": {
      "text/plain": [
       "0"
      ]
     },
     "execution_count": 26,
     "metadata": {},
     "output_type": "execute_result"
    }
   ],
   "source": [
    "user_rides_sub.duplicated().sum()"
   ]
  },
  {
   "cell_type": "markdown",
   "id": "acfc0fca",
   "metadata": {},
   "source": [
    "У меня возник один вопрос, почему мы каждый раз проверяем столбцы на пропуски?"
   ]
  },
  {
   "cell_type": "code",
   "execution_count": 27,
   "id": "b2e7a5c8",
   "metadata": {},
   "outputs": [],
   "source": [
    "rides['duration'] = np.ceil(rides['duration']) \n",
    "user_rides_sub['duration'] = np.ceil(user_rides_sub['duration']) \n",
    "agg_df = user_rides_sub.groupby(['user_id', 'month_num']).agg({\n",
    "    'distance': ['sum', 'count'],\n",
    "    'duration': 'sum',\n",
    "    'subscription_type':'first',\n",
    "    'minute_price':'first', \n",
    "    'start_ride_price':'first',\n",
    "    'subscription_fee':'first'\n",
    "}).reset_index()\n",
    "\n",
    "agg_df.columns = ['user_id', 'month_num', 'sum_distance', 'count_rides', 'sum_duration',\n",
    "                         'subscription_type', 'minute_price',\n",
    "                         'start_ride_price', 'subscription_fee']\n",
    "\n",
    "agg_df.reset_index(inplace=True)\n"
   ]
  },
  {
   "cell_type": "code",
   "execution_count": 28,
   "id": "ce986a90",
   "metadata": {},
   "outputs": [
    {
     "data": {
      "text/plain": [
       "index                0\n",
       "user_id              0\n",
       "month_num            0\n",
       "sum_distance         0\n",
       "count_rides          0\n",
       "sum_duration         0\n",
       "subscription_type    0\n",
       "minute_price         0\n",
       "start_ride_price     0\n",
       "subscription_fee     0\n",
       "dtype: int64"
      ]
     },
     "execution_count": 28,
     "metadata": {},
     "output_type": "execute_result"
    }
   ],
   "source": [
    "agg_df.isna().sum()"
   ]
  },
  {
   "cell_type": "code",
   "execution_count": 29,
   "id": "53049e0a",
   "metadata": {},
   "outputs": [],
   "source": [
    "decimals = 2    \n",
    "agg_df['sum_duration'] = agg_df['sum_duration'].apply(lambda x: round(x, decimals))\n",
    "def monthly_revenue(row):\n",
    "    return row['start_ride_price'] * row['count_rides'] + row['minute_price'] * row['sum_duration'] + row['subscription_fee']\n",
    " \n",
    "agg_df['monthly_revenue'] = agg_df.apply(monthly_revenue, axis=1)\n"
   ]
  },
  {
   "cell_type": "markdown",
   "id": "52ef7028",
   "metadata": {},
   "source": [
    "Создали еще один столбец с расчетом прибыли по месяцу"
   ]
  },
  {
   "cell_type": "code",
   "execution_count": 30,
   "id": "c8634c13",
   "metadata": {},
   "outputs": [
    {
     "data": {
      "text/html": [
       "<div>\n",
       "<style scoped>\n",
       "    .dataframe tbody tr th:only-of-type {\n",
       "        vertical-align: middle;\n",
       "    }\n",
       "\n",
       "    .dataframe tbody tr th {\n",
       "        vertical-align: top;\n",
       "    }\n",
       "\n",
       "    .dataframe thead th {\n",
       "        text-align: right;\n",
       "    }\n",
       "</style>\n",
       "<table border=\"1\" class=\"dataframe\">\n",
       "  <thead>\n",
       "    <tr style=\"text-align: right;\">\n",
       "      <th></th>\n",
       "      <th>index</th>\n",
       "      <th>user_id</th>\n",
       "      <th>month_num</th>\n",
       "      <th>sum_distance</th>\n",
       "      <th>count_rides</th>\n",
       "      <th>sum_duration</th>\n",
       "      <th>subscription_type</th>\n",
       "      <th>minute_price</th>\n",
       "      <th>start_ride_price</th>\n",
       "      <th>subscription_fee</th>\n",
       "      <th>monthly_revenue</th>\n",
       "    </tr>\n",
       "  </thead>\n",
       "  <tbody>\n",
       "    <tr>\n",
       "      <th>0</th>\n",
       "      <td>0</td>\n",
       "      <td>1</td>\n",
       "      <td>1</td>\n",
       "      <td>7027.511294</td>\n",
       "      <td>2</td>\n",
       "      <td>42.0</td>\n",
       "      <td>ultra</td>\n",
       "      <td>6</td>\n",
       "      <td>0</td>\n",
       "      <td>199</td>\n",
       "      <td>451.0</td>\n",
       "    </tr>\n",
       "    <tr>\n",
       "      <th>1</th>\n",
       "      <td>1</td>\n",
       "      <td>1</td>\n",
       "      <td>4</td>\n",
       "      <td>754.159807</td>\n",
       "      <td>1</td>\n",
       "      <td>7.0</td>\n",
       "      <td>ultra</td>\n",
       "      <td>6</td>\n",
       "      <td>0</td>\n",
       "      <td>199</td>\n",
       "      <td>241.0</td>\n",
       "    </tr>\n",
       "    <tr>\n",
       "      <th>2</th>\n",
       "      <td>2</td>\n",
       "      <td>1</td>\n",
       "      <td>8</td>\n",
       "      <td>6723.470560</td>\n",
       "      <td>2</td>\n",
       "      <td>46.0</td>\n",
       "      <td>ultra</td>\n",
       "      <td>6</td>\n",
       "      <td>0</td>\n",
       "      <td>199</td>\n",
       "      <td>475.0</td>\n",
       "    </tr>\n",
       "    <tr>\n",
       "      <th>3</th>\n",
       "      <td>3</td>\n",
       "      <td>1</td>\n",
       "      <td>10</td>\n",
       "      <td>5809.911100</td>\n",
       "      <td>2</td>\n",
       "      <td>32.0</td>\n",
       "      <td>ultra</td>\n",
       "      <td>6</td>\n",
       "      <td>0</td>\n",
       "      <td>199</td>\n",
       "      <td>391.0</td>\n",
       "    </tr>\n",
       "    <tr>\n",
       "      <th>4</th>\n",
       "      <td>4</td>\n",
       "      <td>1</td>\n",
       "      <td>11</td>\n",
       "      <td>7003.499363</td>\n",
       "      <td>3</td>\n",
       "      <td>56.0</td>\n",
       "      <td>ultra</td>\n",
       "      <td>6</td>\n",
       "      <td>0</td>\n",
       "      <td>199</td>\n",
       "      <td>535.0</td>\n",
       "    </tr>\n",
       "  </tbody>\n",
       "</table>\n",
       "</div>"
      ],
      "text/plain": [
       "   index  user_id  month_num  sum_distance  count_rides  sum_duration  \\\n",
       "0      0        1          1   7027.511294            2          42.0   \n",
       "1      1        1          4    754.159807            1           7.0   \n",
       "2      2        1          8   6723.470560            2          46.0   \n",
       "3      3        1         10   5809.911100            2          32.0   \n",
       "4      4        1         11   7003.499363            3          56.0   \n",
       "\n",
       "  subscription_type  minute_price  start_ride_price  subscription_fee  \\\n",
       "0             ultra             6                 0               199   \n",
       "1             ultra             6                 0               199   \n",
       "2             ultra             6                 0               199   \n",
       "3             ultra             6                 0               199   \n",
       "4             ultra             6                 0               199   \n",
       "\n",
       "   monthly_revenue  \n",
       "0            451.0  \n",
       "1            241.0  \n",
       "2            475.0  \n",
       "3            391.0  \n",
       "4            535.0  "
      ]
     },
     "execution_count": 30,
     "metadata": {},
     "output_type": "execute_result"
    }
   ],
   "source": [
    "agg_df.head()"
   ]
  },
  {
   "cell_type": "markdown",
   "id": "41545ac0",
   "metadata": {},
   "source": [
    "#### Шаг 6. Проверка гипотез"
   ]
  },
  {
   "cell_type": "markdown",
   "id": "f548980b",
   "metadata": {},
   "source": [
    "H0: with_subscription_duration = withuot_subscription_duration\n",
    "\n",
    "H1: with_subscription_duration > withuot_subscription_duration"
   ]
  },
  {
   "cell_type": "code",
   "execution_count": 31,
   "id": "23ea867b",
   "metadata": {},
   "outputs": [
    {
     "data": {
      "text/html": [
       "<div>\n",
       "<style scoped>\n",
       "    .dataframe tbody tr th:only-of-type {\n",
       "        vertical-align: middle;\n",
       "    }\n",
       "\n",
       "    .dataframe tbody tr th {\n",
       "        vertical-align: top;\n",
       "    }\n",
       "\n",
       "    .dataframe thead th {\n",
       "        text-align: right;\n",
       "    }\n",
       "</style>\n",
       "<table border=\"1\" class=\"dataframe\">\n",
       "  <thead>\n",
       "    <tr style=\"text-align: right;\">\n",
       "      <th></th>\n",
       "      <th>duration</th>\n",
       "    </tr>\n",
       "  </thead>\n",
       "  <tbody>\n",
       "    <tr>\n",
       "      <th>0</th>\n",
       "      <td>25.599769</td>\n",
       "    </tr>\n",
       "    <tr>\n",
       "      <th>1</th>\n",
       "      <td>15.816871</td>\n",
       "    </tr>\n",
       "    <tr>\n",
       "      <th>2</th>\n",
       "      <td>6.232113</td>\n",
       "    </tr>\n",
       "    <tr>\n",
       "      <th>3</th>\n",
       "      <td>18.511000</td>\n",
       "    </tr>\n",
       "    <tr>\n",
       "      <th>4</th>\n",
       "      <td>26.265803</td>\n",
       "    </tr>\n",
       "  </tbody>\n",
       "</table>\n",
       "</div>"
      ],
      "text/plain": [
       "    duration\n",
       "0  25.599769\n",
       "1  15.816871\n",
       "2   6.232113\n",
       "3  18.511000\n",
       "4  26.265803"
      ]
     },
     "metadata": {},
     "output_type": "display_data"
    },
    {
     "data": {
      "text/html": [
       "<div>\n",
       "<style scoped>\n",
       "    .dataframe tbody tr th:only-of-type {\n",
       "        vertical-align: middle;\n",
       "    }\n",
       "\n",
       "    .dataframe tbody tr th {\n",
       "        vertical-align: top;\n",
       "    }\n",
       "\n",
       "    .dataframe thead th {\n",
       "        text-align: right;\n",
       "    }\n",
       "</style>\n",
       "<table border=\"1\" class=\"dataframe\">\n",
       "  <thead>\n",
       "    <tr style=\"text-align: right;\">\n",
       "      <th></th>\n",
       "      <th>duration</th>\n",
       "    </tr>\n",
       "  </thead>\n",
       "  <tbody>\n",
       "    <tr>\n",
       "      <th>6500</th>\n",
       "      <td>14.944286</td>\n",
       "    </tr>\n",
       "    <tr>\n",
       "      <th>6501</th>\n",
       "      <td>16.234663</td>\n",
       "    </tr>\n",
       "    <tr>\n",
       "      <th>6502</th>\n",
       "      <td>20.016628</td>\n",
       "    </tr>\n",
       "    <tr>\n",
       "      <th>6503</th>\n",
       "      <td>9.782872</td>\n",
       "    </tr>\n",
       "    <tr>\n",
       "      <th>6504</th>\n",
       "      <td>17.427673</td>\n",
       "    </tr>\n",
       "  </tbody>\n",
       "</table>\n",
       "</div>"
      ],
      "text/plain": [
       "       duration\n",
       "6500  14.944286\n",
       "6501  16.234663\n",
       "6502  20.016628\n",
       "6503   9.782872\n",
       "6504  17.427673"
      ]
     },
     "execution_count": 31,
     "metadata": {},
     "output_type": "execute_result"
    }
   ],
   "source": [
    "#1\n",
    "ultra_data = pd.DataFrame(with_sub, columns = ['duration'])\n",
    "ultra_data = ultra_data.dropna()\n",
    "display(ultra_data.head())\n",
    "free_data = pd.DataFrame(without_sub, columns = ['duration'])\n",
    "free_data = free_data.dropna()\n",
    "free_data.head()                                               "
   ]
  },
  {
   "cell_type": "code",
   "execution_count": 32,
   "id": "3b1b6053",
   "metadata": {},
   "outputs": [
    {
     "name": "stdout",
     "output_type": "stream",
     "text": [
      "P-value: [1.28040983e-34]\n",
      "отвергаем нулевую гипотезу\n",
      "среднее потраченное время с подпиской: duration    18.541985\n",
      "dtype: float64\n",
      "среднее потраченное время без подпиской: duration    17.390909\n",
      "dtype: float64\n"
     ]
    }
   ],
   "source": [
    "alpha = 0.05\n",
    "result = st.ttest_ind(ultra_data, free_data, alternative = 'greater')\n",
    "print('P-value:', result.pvalue)\n",
    "if result.pvalue < alpha:\n",
    "    print('отвергаем нулевую гипотезу')\n",
    "else:\n",
    "    print('принимаем нулевую гипотезу')\n",
    "    \n",
    "print('среднее потраченное время с подпиской:', ultra_data.mean())\n",
    "print('среднее потраченное время без подпиской:', free_data.mean())"
   ]
  },
  {
   "cell_type": "markdown",
   "id": "4f930149",
   "metadata": {},
   "source": [
    "пользователи с подпиской тратят больше времени на поездки чем пользователи без подписки что мы можем видить по итогам гипотезы а также по средним значениям "
   ]
  },
  {
   "cell_type": "code",
   "execution_count": 33,
   "id": "2cb5497f",
   "metadata": {},
   "outputs": [
    {
     "data": {
      "text/html": [
       "<div>\n",
       "<style scoped>\n",
       "    .dataframe tbody tr th:only-of-type {\n",
       "        vertical-align: middle;\n",
       "    }\n",
       "\n",
       "    .dataframe tbody tr th {\n",
       "        vertical-align: top;\n",
       "    }\n",
       "\n",
       "    .dataframe thead th {\n",
       "        text-align: right;\n",
       "    }\n",
       "</style>\n",
       "<table border=\"1\" class=\"dataframe\">\n",
       "  <thead>\n",
       "    <tr style=\"text-align: right;\">\n",
       "      <th></th>\n",
       "      <th>distance</th>\n",
       "    </tr>\n",
       "  </thead>\n",
       "  <tbody>\n",
       "    <tr>\n",
       "      <th>0</th>\n",
       "      <td>4409.919140</td>\n",
       "    </tr>\n",
       "    <tr>\n",
       "      <th>1</th>\n",
       "      <td>2617.592153</td>\n",
       "    </tr>\n",
       "    <tr>\n",
       "      <th>2</th>\n",
       "      <td>754.159807</td>\n",
       "    </tr>\n",
       "    <tr>\n",
       "      <th>3</th>\n",
       "      <td>2694.783254</td>\n",
       "    </tr>\n",
       "    <tr>\n",
       "      <th>4</th>\n",
       "      <td>4028.687306</td>\n",
       "    </tr>\n",
       "  </tbody>\n",
       "</table>\n",
       "</div>"
      ],
      "text/plain": [
       "      distance\n",
       "0  4409.919140\n",
       "1  2617.592153\n",
       "2   754.159807\n",
       "3  2694.783254\n",
       "4  4028.687306"
      ]
     },
     "execution_count": 33,
     "metadata": {},
     "output_type": "execute_result"
    }
   ],
   "source": [
    "#2\n",
    "distance_value = 3130\n",
    "alpha = 0.05\n",
    "\n",
    "distance_data = pd.DataFrame(with_sub, columns = ['distance'])\n",
    "distance_data = distance_data.dropna()\n",
    "distance_data.head()"
   ]
  },
  {
   "cell_type": "code",
   "execution_count": 34,
   "id": "fb13ae06",
   "metadata": {},
   "outputs": [
    {
     "name": "stdout",
     "output_type": "stream",
     "text": [
      "P-value: [0.91953688]\n",
      "принимаем нулевую гипотезу\n",
      "средняя дистанция: distance    3115.445388\n",
      "dtype: float64\n"
     ]
    }
   ],
   "source": [
    "result = st.ttest_1samp(distance_data, distance_value, alternative = 'greater')\n",
    "print('P-value:', result.pvalue)\n",
    "if result.pvalue < alpha:\n",
    "    print('отвергаем нулевую гипотезу')\n",
    "else:\n",
    "    print('принимаем нулевую гипотезу')\n",
    "print('средняя дистанция:', distance_data.mean())"
   ]
  },
  {
   "cell_type": "markdown",
   "id": "f36bdfad",
   "metadata": {},
   "source": [
    "В этом случае мы отклоняем гипотезу о том что среднее  больше 3130, поэтому мы принимаем нулевую гипотезу которая гласит о том что среднее расстояние истинного равно расстоянию которое дано с точки зрения среднего износа самоката\n",
    "\n",
    "H0: 3130 = mean\n",
    "\n",
    "H1: 3130 > mean"
   ]
  },
  {
   "cell_type": "markdown",
   "id": "af948ae0",
   "metadata": {},
   "source": [
    "H0: with_sub_monthly_revenue = without_sub_monthly_revenue\n",
    "\n",
    "H1: with_sub_monthly_revenue > without_sub_monthly_revenue"
   ]
  },
  {
   "cell_type": "code",
   "execution_count": 35,
   "id": "1090727e",
   "metadata": {},
   "outputs": [
    {
     "data": {
      "text/html": [
       "<div>\n",
       "<style scoped>\n",
       "    .dataframe tbody tr th:only-of-type {\n",
       "        vertical-align: middle;\n",
       "    }\n",
       "\n",
       "    .dataframe tbody tr th {\n",
       "        vertical-align: top;\n",
       "    }\n",
       "\n",
       "    .dataframe thead th {\n",
       "        text-align: right;\n",
       "    }\n",
       "</style>\n",
       "<table border=\"1\" class=\"dataframe\">\n",
       "  <thead>\n",
       "    <tr style=\"text-align: right;\">\n",
       "      <th></th>\n",
       "      <th>monthly_revenue</th>\n",
       "    </tr>\n",
       "  </thead>\n",
       "  <tbody>\n",
       "    <tr>\n",
       "      <th>0</th>\n",
       "      <td>451.0</td>\n",
       "    </tr>\n",
       "    <tr>\n",
       "      <th>1</th>\n",
       "      <td>241.0</td>\n",
       "    </tr>\n",
       "    <tr>\n",
       "      <th>2</th>\n",
       "      <td>475.0</td>\n",
       "    </tr>\n",
       "    <tr>\n",
       "      <th>3</th>\n",
       "      <td>391.0</td>\n",
       "    </tr>\n",
       "    <tr>\n",
       "      <th>4</th>\n",
       "      <td>535.0</td>\n",
       "    </tr>\n",
       "  </tbody>\n",
       "</table>\n",
       "</div>"
      ],
      "text/plain": [
       "   monthly_revenue\n",
       "0            451.0\n",
       "1            241.0\n",
       "2            475.0\n",
       "3            391.0\n",
       "4            535.0"
      ]
     },
     "metadata": {},
     "output_type": "display_data"
    },
    {
     "data": {
      "text/html": [
       "<div>\n",
       "<style scoped>\n",
       "    .dataframe tbody tr th:only-of-type {\n",
       "        vertical-align: middle;\n",
       "    }\n",
       "\n",
       "    .dataframe tbody tr th {\n",
       "        vertical-align: top;\n",
       "    }\n",
       "\n",
       "    .dataframe thead th {\n",
       "        text-align: right;\n",
       "    }\n",
       "</style>\n",
       "<table border=\"1\" class=\"dataframe\">\n",
       "  <thead>\n",
       "    <tr style=\"text-align: right;\">\n",
       "      <th></th>\n",
       "      <th>monthly_revenue</th>\n",
       "    </tr>\n",
       "  </thead>\n",
       "  <tbody>\n",
       "    <tr>\n",
       "      <th>4533</th>\n",
       "      <td>170.0</td>\n",
       "    </tr>\n",
       "    <tr>\n",
       "      <th>4534</th>\n",
       "      <td>962.0</td>\n",
       "    </tr>\n",
       "    <tr>\n",
       "      <th>4535</th>\n",
       "      <td>202.0</td>\n",
       "    </tr>\n",
       "    <tr>\n",
       "      <th>4536</th>\n",
       "      <td>178.0</td>\n",
       "    </tr>\n",
       "    <tr>\n",
       "      <th>4537</th>\n",
       "      <td>332.0</td>\n",
       "    </tr>\n",
       "  </tbody>\n",
       "</table>\n",
       "</div>"
      ],
      "text/plain": [
       "      monthly_revenue\n",
       "4533            170.0\n",
       "4534            962.0\n",
       "4535            202.0\n",
       "4536            178.0\n",
       "4537            332.0"
      ]
     },
     "metadata": {},
     "output_type": "display_data"
    }
   ],
   "source": [
    "#3\n",
    "with_sub_new = agg_df.query('subscription_type == \"ultra\"')\n",
    "with_sub_new = pd.DataFrame(with_sub_new, columns = ['monthly_revenue'])\n",
    "without_sub_new = agg_df.query('subscription_type == \"free\"')\n",
    "without_sub_new = pd.DataFrame(without_sub_new, columns = ['monthly_revenue'])\n",
    "display(with_sub_new.head())\n",
    "display(without_sub_new.head())"
   ]
  },
  {
   "cell_type": "code",
   "execution_count": 36,
   "id": "8f140c5c",
   "metadata": {},
   "outputs": [
    {
     "name": "stdout",
     "output_type": "stream",
     "text": [
      "P-value: [1.88503944e-31]\n",
      "принимаем нулевую гипотезу 1\n",
      "средние затраты пользовтелей с подпиской: monthly_revenue    362.792191\n",
      "dtype: float64\n",
      "средние затраты пользовтелей без подпиской: monthly_revenue    328.641365\n",
      "dtype: float64\n"
     ]
    }
   ],
   "source": [
    "alpha = 0.05\n",
    "resultt = st.ttest_ind(with_sub_new, without_sub_new, alternative = 'greater')\n",
    "print('P-value:', resultt.pvalue)\n",
    "if result.pvalue < alpha:\n",
    "    print('отвергаем нулевую гипотезу')\n",
    "else:\n",
    "    print('принимаем нулевую гипотезу')\n",
    "    \n",
    "print('средние затраты пользовтелей с подпиской:', with_sub_new.mean())\n",
    "print('средние затраты пользовтелей без подпиской:', without_sub_new.mean())"
   ]
  },
  {
   "cell_type": "markdown",
   "id": "d2195554",
   "metadata": {},
   "source": [
    "в этом случае мы  отклоняем гипотезу о том что пользователи с подпиской тратят больше денег в месяц тем пользователи без. \n",
    "Выходит что нет, хотя мы можем увидить достаточно большую разницу между (примерно 37 рублей) это произошло скорее всего из-за большого стандартного отклоенения"
   ]
  },
  {
   "cell_type": "markdown",
   "id": "801830a9",
   "metadata": {},
   "source": [
    "#4\n",
    "Две зависимые выборки (парные). Будем проводить гипотезу о равенстве среднего значения генеральной выборки до и после изменения. Такой тест проводиться когда происходит изменение в тех же данных при этом кол-во (n) данных не изменияется. Для решения потребуется тест на равенство средних для зависимых выборок, до и после изменений.>"
   ]
  }
 ],
 "metadata": {
  "ExecuteTimeLog": [
   {
    "duration": 399,
    "start_time": "2023-11-07T05:57:55.898Z"
   },
   {
    "duration": 291,
    "start_time": "2023-11-07T05:57:56.477Z"
   },
   {
    "duration": 12,
    "start_time": "2023-11-07T05:57:56.881Z"
   },
   {
    "duration": 9,
    "start_time": "2023-11-07T06:02:25.632Z"
   },
   {
    "duration": 7,
    "start_time": "2023-11-07T06:03:56.267Z"
   },
   {
    "duration": 62,
    "start_time": "2023-11-07T06:04:52.662Z"
   },
   {
    "duration": 15,
    "start_time": "2023-11-07T06:06:14.867Z"
   },
   {
    "duration": 9,
    "start_time": "2023-11-07T06:06:38.127Z"
   },
   {
    "duration": 6,
    "start_time": "2023-11-07T06:23:14.675Z"
   },
   {
    "duration": 6,
    "start_time": "2023-11-07T06:23:48.394Z"
   },
   {
    "duration": 4,
    "start_time": "2023-11-07T06:25:54.580Z"
   },
   {
    "duration": 4,
    "start_time": "2023-11-07T06:26:06.977Z"
   },
   {
    "duration": 5,
    "start_time": "2023-11-07T06:26:10.997Z"
   },
   {
    "duration": 10,
    "start_time": "2023-11-07T06:27:03.037Z"
   },
   {
    "duration": 9,
    "start_time": "2023-11-07T06:28:53.287Z"
   },
   {
    "duration": 8,
    "start_time": "2023-11-07T06:29:24.588Z"
   },
   {
    "duration": 7,
    "start_time": "2023-11-07T06:29:36.873Z"
   },
   {
    "duration": 6,
    "start_time": "2023-11-07T06:30:01.194Z"
   },
   {
    "duration": 8,
    "start_time": "2023-11-07T06:30:46.557Z"
   },
   {
    "duration": 8,
    "start_time": "2023-11-07T06:31:38.562Z"
   },
   {
    "duration": 408,
    "start_time": "2023-11-07T06:31:48.437Z"
   },
   {
    "duration": 67,
    "start_time": "2023-11-07T06:31:50.340Z"
   },
   {
    "duration": 12,
    "start_time": "2023-11-07T06:31:51.037Z"
   },
   {
    "duration": 9,
    "start_time": "2023-11-07T06:31:52.449Z"
   },
   {
    "duration": 6,
    "start_time": "2023-11-07T06:31:53.142Z"
   },
   {
    "duration": 11,
    "start_time": "2023-11-07T06:31:54.048Z"
   },
   {
    "duration": 5,
    "start_time": "2023-11-07T06:31:54.912Z"
   },
   {
    "duration": 6,
    "start_time": "2023-11-07T06:32:02.581Z"
   },
   {
    "duration": 62,
    "start_time": "2023-11-07T06:49:47.100Z"
   },
   {
    "duration": 4,
    "start_time": "2023-11-07T06:49:56.150Z"
   },
   {
    "duration": 20,
    "start_time": "2023-11-07T06:53:24.285Z"
   },
   {
    "duration": 725,
    "start_time": "2023-11-07T06:55:13.608Z"
   },
   {
    "duration": 20,
    "start_time": "2023-11-07T06:55:33.673Z"
   },
   {
    "duration": 11,
    "start_time": "2023-11-07T06:55:47.211Z"
   },
   {
    "duration": 210,
    "start_time": "2023-11-07T06:55:50.371Z"
   },
   {
    "duration": 78,
    "start_time": "2023-11-07T06:56:43.404Z"
   },
   {
    "duration": 236,
    "start_time": "2023-11-07T06:56:49.166Z"
   },
   {
    "duration": 309,
    "start_time": "2023-11-07T06:57:46.833Z"
   },
   {
    "duration": 329,
    "start_time": "2023-11-07T06:57:52.225Z"
   },
   {
    "duration": 285,
    "start_time": "2023-11-07T06:57:56.040Z"
   },
   {
    "duration": 237,
    "start_time": "2023-11-07T06:58:03.593Z"
   },
   {
    "duration": 321,
    "start_time": "2023-11-07T06:58:07.460Z"
   },
   {
    "duration": 267,
    "start_time": "2023-11-07T06:58:13.356Z"
   },
   {
    "duration": 312,
    "start_time": "2023-11-07T06:59:43.727Z"
   },
   {
    "duration": 285,
    "start_time": "2023-11-07T07:00:11.407Z"
   },
   {
    "duration": 286,
    "start_time": "2023-11-07T07:00:31.537Z"
   },
   {
    "duration": 277,
    "start_time": "2023-11-07T07:02:25.761Z"
   },
   {
    "duration": 541,
    "start_time": "2023-11-07T07:02:34.832Z"
   },
   {
    "duration": 204,
    "start_time": "2023-11-07T07:02:50.862Z"
   },
   {
    "duration": 114,
    "start_time": "2023-11-07T07:03:05.669Z"
   },
   {
    "duration": 104,
    "start_time": "2023-11-07T07:03:09.612Z"
   },
   {
    "duration": 114,
    "start_time": "2023-11-07T07:03:16.069Z"
   },
   {
    "duration": 141,
    "start_time": "2023-11-07T07:03:19.841Z"
   },
   {
    "duration": 4,
    "start_time": "2023-11-07T07:04:13.633Z"
   },
   {
    "duration": 7,
    "start_time": "2023-11-07T07:04:14.022Z"
   },
   {
    "duration": 468,
    "start_time": "2023-11-07T07:04:20.324Z"
   },
   {
    "duration": 74,
    "start_time": "2023-11-07T07:04:20.794Z"
   },
   {
    "duration": 9,
    "start_time": "2023-11-07T07:04:20.870Z"
   },
   {
    "duration": 10,
    "start_time": "2023-11-07T07:04:21.156Z"
   },
   {
    "duration": 8,
    "start_time": "2023-11-07T07:04:21.351Z"
   },
   {
    "duration": 10,
    "start_time": "2023-11-07T07:04:21.517Z"
   },
   {
    "duration": 4,
    "start_time": "2023-11-07T07:04:21.684Z"
   },
   {
    "duration": 5,
    "start_time": "2023-11-07T07:04:21.858Z"
   },
   {
    "duration": 599,
    "start_time": "2023-11-07T07:04:22.178Z"
   },
   {
    "duration": 129,
    "start_time": "2023-11-07T07:04:22.779Z"
   },
   {
    "duration": 3,
    "start_time": "2023-11-07T07:05:06.376Z"
   },
   {
    "duration": 108,
    "start_time": "2023-11-07T07:13:20.449Z"
   },
   {
    "duration": 107,
    "start_time": "2023-11-07T07:13:45.785Z"
   },
   {
    "duration": 76,
    "start_time": "2023-11-07T07:14:43.803Z"
   },
   {
    "duration": 119,
    "start_time": "2023-11-07T07:15:03.177Z"
   },
   {
    "duration": 70,
    "start_time": "2023-11-07T07:15:08.842Z"
   },
   {
    "duration": 174,
    "start_time": "2023-11-07T07:15:17.242Z"
   },
   {
    "duration": 119,
    "start_time": "2023-11-07T07:15:21.725Z"
   },
   {
    "duration": 114,
    "start_time": "2023-11-07T07:15:33.406Z"
   },
   {
    "duration": 70,
    "start_time": "2023-11-07T07:15:43.886Z"
   },
   {
    "duration": 85,
    "start_time": "2023-11-07T07:15:55.697Z"
   },
   {
    "duration": 86,
    "start_time": "2023-11-07T07:15:58.757Z"
   },
   {
    "duration": 155,
    "start_time": "2023-11-07T07:16:04.145Z"
   },
   {
    "duration": 116,
    "start_time": "2023-11-07T07:16:27.308Z"
   },
   {
    "duration": 103,
    "start_time": "2023-11-07T07:17:04.610Z"
   },
   {
    "duration": 104,
    "start_time": "2023-11-07T07:17:33.513Z"
   },
   {
    "duration": 144,
    "start_time": "2023-11-07T07:18:13.330Z"
   },
   {
    "duration": 188,
    "start_time": "2023-11-07T07:19:22.424Z"
   },
   {
    "duration": 503,
    "start_time": "2023-11-07T07:19:35.995Z"
   },
   {
    "duration": 147,
    "start_time": "2023-11-07T07:19:42.049Z"
   },
   {
    "duration": 192,
    "start_time": "2023-11-07T07:20:08.783Z"
   },
   {
    "duration": 140,
    "start_time": "2023-11-07T07:21:59.842Z"
   },
   {
    "duration": 419,
    "start_time": "2023-11-07T08:52:09.059Z"
   },
   {
    "duration": 78,
    "start_time": "2023-11-07T08:52:09.481Z"
   },
   {
    "duration": 12,
    "start_time": "2023-11-07T08:52:09.759Z"
   },
   {
    "duration": 10,
    "start_time": "2023-11-07T08:52:10.155Z"
   },
   {
    "duration": 7,
    "start_time": "2023-11-07T08:52:10.421Z"
   },
   {
    "duration": 11,
    "start_time": "2023-11-07T08:52:10.654Z"
   },
   {
    "duration": 5,
    "start_time": "2023-11-07T08:52:10.880Z"
   },
   {
    "duration": 5,
    "start_time": "2023-11-07T08:52:11.091Z"
   },
   {
    "duration": 830,
    "start_time": "2023-11-07T08:52:11.887Z"
   },
   {
    "duration": 119,
    "start_time": "2023-11-07T08:52:13.486Z"
   },
   {
    "duration": 169,
    "start_time": "2023-11-07T08:52:14.453Z"
   },
   {
    "duration": 91,
    "start_time": "2023-11-07T08:52:36.610Z"
   },
   {
    "duration": 476,
    "start_time": "2023-11-07T08:52:40.962Z"
   },
   {
    "duration": 970,
    "start_time": "2023-11-07T08:54:03.088Z"
   },
   {
    "duration": 913,
    "start_time": "2023-11-07T08:54:28.960Z"
   },
   {
    "duration": 1962,
    "start_time": "2023-11-07T08:54:40.234Z"
   },
   {
    "duration": 143,
    "start_time": "2023-11-07T08:54:46.640Z"
   },
   {
    "duration": 138,
    "start_time": "2023-11-07T08:55:24.556Z"
   },
   {
    "duration": 135,
    "start_time": "2023-11-07T08:55:38.896Z"
   },
   {
    "duration": 0,
    "start_time": "2023-11-07T08:55:48.988Z"
   },
   {
    "duration": 384,
    "start_time": "2023-11-07T08:55:55.488Z"
   },
   {
    "duration": 69,
    "start_time": "2023-11-07T08:55:55.874Z"
   },
   {
    "duration": 12,
    "start_time": "2023-11-07T08:55:55.945Z"
   },
   {
    "duration": 27,
    "start_time": "2023-11-07T08:55:55.959Z"
   },
   {
    "duration": 14,
    "start_time": "2023-11-07T08:55:55.988Z"
   },
   {
    "duration": 30,
    "start_time": "2023-11-07T08:55:56.004Z"
   },
   {
    "duration": 20,
    "start_time": "2023-11-07T08:55:56.036Z"
   },
   {
    "duration": 12,
    "start_time": "2023-11-07T08:55:56.058Z"
   },
   {
    "duration": 608,
    "start_time": "2023-11-07T08:55:56.072Z"
   },
   {
    "duration": 128,
    "start_time": "2023-11-07T08:55:56.683Z"
   },
   {
    "duration": 3391,
    "start_time": "2023-11-07T08:55:56.813Z"
   },
   {
    "duration": 2203,
    "start_time": "2023-11-07T08:59:17.296Z"
   },
   {
    "duration": 199,
    "start_time": "2023-11-07T08:59:28.838Z"
   },
   {
    "duration": 129,
    "start_time": "2023-11-07T09:00:43.739Z"
   },
   {
    "duration": 131,
    "start_time": "2023-11-07T09:01:25.630Z"
   },
   {
    "duration": 127,
    "start_time": "2023-11-07T09:02:42.912Z"
   },
   {
    "duration": 118,
    "start_time": "2023-11-07T09:03:03.265Z"
   },
   {
    "duration": 107,
    "start_time": "2023-11-07T09:04:51.757Z"
   },
   {
    "duration": 106,
    "start_time": "2023-11-07T09:04:56.955Z"
   },
   {
    "duration": 105,
    "start_time": "2023-11-07T09:05:06.143Z"
   },
   {
    "duration": 102,
    "start_time": "2023-11-07T09:05:11.025Z"
   },
   {
    "duration": 255,
    "start_time": "2023-11-07T09:05:51.854Z"
   },
   {
    "duration": 239,
    "start_time": "2023-11-07T09:05:58.407Z"
   },
   {
    "duration": 159,
    "start_time": "2023-11-07T09:07:08.088Z"
   },
   {
    "duration": 157,
    "start_time": "2023-11-07T09:07:22.625Z"
   },
   {
    "duration": 176,
    "start_time": "2023-11-07T09:07:45.305Z"
   },
   {
    "duration": 166,
    "start_time": "2023-11-07T09:07:52.395Z"
   },
   {
    "duration": 164,
    "start_time": "2023-11-07T09:08:11.453Z"
   },
   {
    "duration": 178,
    "start_time": "2023-11-07T09:09:05.944Z"
   },
   {
    "duration": 166,
    "start_time": "2023-11-07T09:09:11.873Z"
   },
   {
    "duration": 259,
    "start_time": "2023-11-07T09:10:54.198Z"
   },
   {
    "duration": 841,
    "start_time": "2023-11-07T09:11:19.650Z"
   },
   {
    "duration": 67,
    "start_time": "2023-11-07T09:11:20.493Z"
   },
   {
    "duration": 16,
    "start_time": "2023-11-07T09:11:20.561Z"
   },
   {
    "duration": 9,
    "start_time": "2023-11-07T09:11:20.580Z"
   },
   {
    "duration": 36,
    "start_time": "2023-11-07T09:11:20.592Z"
   },
   {
    "duration": 16,
    "start_time": "2023-11-07T09:11:20.629Z"
   },
   {
    "duration": 5,
    "start_time": "2023-11-07T09:11:20.647Z"
   },
   {
    "duration": 11,
    "start_time": "2023-11-07T09:11:20.653Z"
   },
   {
    "duration": 1242,
    "start_time": "2023-11-07T09:11:20.666Z"
   },
   {
    "duration": 94,
    "start_time": "2023-11-07T09:11:21.909Z"
   },
   {
    "duration": 175,
    "start_time": "2023-11-07T09:11:22.005Z"
   },
   {
    "duration": 365,
    "start_time": "2023-11-07T09:11:53.488Z"
   },
   {
    "duration": 69,
    "start_time": "2023-11-07T09:11:53.855Z"
   },
   {
    "duration": 10,
    "start_time": "2023-11-07T09:11:53.925Z"
   },
   {
    "duration": 16,
    "start_time": "2023-11-07T09:11:53.937Z"
   },
   {
    "duration": 6,
    "start_time": "2023-11-07T09:11:53.955Z"
   },
   {
    "duration": 10,
    "start_time": "2023-11-07T09:11:53.962Z"
   },
   {
    "duration": 4,
    "start_time": "2023-11-07T09:11:53.974Z"
   },
   {
    "duration": 22,
    "start_time": "2023-11-07T09:11:53.979Z"
   },
   {
    "duration": 595,
    "start_time": "2023-11-07T09:11:54.003Z"
   },
   {
    "duration": 106,
    "start_time": "2023-11-07T09:11:54.599Z"
   },
   {
    "duration": 168,
    "start_time": "2023-11-07T09:11:54.707Z"
   },
   {
    "duration": 3,
    "start_time": "2023-11-07T09:11:54.877Z"
   },
   {
    "duration": 145,
    "start_time": "2023-11-07T09:11:54.881Z"
   },
   {
    "duration": 5645,
    "start_time": "2023-11-07T09:12:56.708Z"
   },
   {
    "duration": 15,
    "start_time": "2023-11-07T09:17:16.777Z"
   },
   {
    "duration": 12,
    "start_time": "2023-11-07T09:17:42.363Z"
   },
   {
    "duration": 1705,
    "start_time": "2023-11-07T09:18:01.467Z"
   },
   {
    "duration": 775,
    "start_time": "2023-11-07T09:20:49.098Z"
   },
   {
    "duration": 1793,
    "start_time": "2023-11-07T09:21:12.426Z"
   },
   {
    "duration": 7,
    "start_time": "2023-11-07T09:21:42.552Z"
   },
   {
    "duration": 149,
    "start_time": "2023-11-07T09:21:45.161Z"
   },
   {
    "duration": 141,
    "start_time": "2023-11-07T09:23:25.289Z"
   },
   {
    "duration": 164,
    "start_time": "2023-11-07T09:23:31.651Z"
   },
   {
    "duration": 1575,
    "start_time": "2023-11-07T09:23:42.473Z"
   },
   {
    "duration": 1867,
    "start_time": "2023-11-07T09:24:30.643Z"
   },
   {
    "duration": 2059,
    "start_time": "2023-11-07T09:24:38.890Z"
   },
   {
    "duration": 121,
    "start_time": "2023-11-07T09:25:15.382Z"
   },
   {
    "duration": 164,
    "start_time": "2023-11-07T09:25:25.244Z"
   },
   {
    "duration": 223,
    "start_time": "2023-11-07T09:29:42.161Z"
   },
   {
    "duration": 155,
    "start_time": "2023-11-07T09:30:00.197Z"
   },
   {
    "duration": 157,
    "start_time": "2023-11-07T09:30:15.169Z"
   },
   {
    "duration": 1801,
    "start_time": "2023-11-07T09:36:47.727Z"
   },
   {
    "duration": 337,
    "start_time": "2023-11-07T09:36:57.231Z"
   },
   {
    "duration": 477,
    "start_time": "2023-11-07T09:37:08.805Z"
   },
   {
    "duration": 310,
    "start_time": "2023-11-07T09:37:15.431Z"
   },
   {
    "duration": 309,
    "start_time": "2023-11-07T09:37:28.684Z"
   },
   {
    "duration": 360,
    "start_time": "2023-11-07T09:37:40.555Z"
   },
   {
    "duration": 273,
    "start_time": "2023-11-07T09:40:44.696Z"
   },
   {
    "duration": 267,
    "start_time": "2023-11-07T09:40:56.466Z"
   },
   {
    "duration": 132,
    "start_time": "2023-11-07T09:41:24.640Z"
   },
   {
    "duration": 174,
    "start_time": "2023-11-07T09:41:32.252Z"
   },
   {
    "duration": 10,
    "start_time": "2023-11-07T09:41:58.950Z"
   },
   {
    "duration": 167,
    "start_time": "2023-11-07T09:42:11.572Z"
   },
   {
    "duration": 287,
    "start_time": "2023-11-07T09:43:15.320Z"
   },
   {
    "duration": 382,
    "start_time": "2023-11-07T09:43:24.650Z"
   },
   {
    "duration": 81,
    "start_time": "2023-11-07T09:43:56.698Z"
   },
   {
    "duration": 91,
    "start_time": "2023-11-07T09:44:04.421Z"
   },
   {
    "duration": 117,
    "start_time": "2023-11-07T09:44:13.993Z"
   },
   {
    "duration": 110,
    "start_time": "2023-11-07T09:44:35.110Z"
   },
   {
    "duration": 109,
    "start_time": "2023-11-07T09:44:43.611Z"
   },
   {
    "duration": 87,
    "start_time": "2023-11-07T09:44:57.220Z"
   },
   {
    "duration": 115,
    "start_time": "2023-11-07T09:45:05.710Z"
   },
   {
    "duration": 20,
    "start_time": "2023-11-07T09:46:01.538Z"
   },
   {
    "duration": 296,
    "start_time": "2023-11-07T09:46:06.710Z"
   },
   {
    "duration": 20,
    "start_time": "2023-11-07T09:59:55.848Z"
   },
   {
    "duration": 1746,
    "start_time": "2023-11-07T10:00:20.570Z"
   },
   {
    "duration": 1692,
    "start_time": "2023-11-07T10:00:40.607Z"
   },
   {
    "duration": 1707,
    "start_time": "2023-11-07T10:01:16.153Z"
   },
   {
    "duration": 17,
    "start_time": "2023-11-07T10:01:29.627Z"
   },
   {
    "duration": 1552,
    "start_time": "2023-11-07T10:01:40.625Z"
   },
   {
    "duration": 1504,
    "start_time": "2023-11-07T10:01:50.063Z"
   },
   {
    "duration": 89,
    "start_time": "2023-11-07T10:04:50.343Z"
   },
   {
    "duration": 1737,
    "start_time": "2023-11-07T10:04:55.329Z"
   },
   {
    "duration": 1872,
    "start_time": "2023-11-07T10:05:15.143Z"
   },
   {
    "duration": 602,
    "start_time": "2023-11-07T10:07:46.234Z"
   },
   {
    "duration": 1581,
    "start_time": "2023-11-07T10:07:58.740Z"
   },
   {
    "duration": 1925,
    "start_time": "2023-11-07T10:13:16.023Z"
   },
   {
    "duration": 14,
    "start_time": "2023-11-07T10:13:20.278Z"
   },
   {
    "duration": 414,
    "start_time": "2023-11-07T10:48:12.617Z"
   },
   {
    "duration": 69,
    "start_time": "2023-11-07T10:48:13.034Z"
   },
   {
    "duration": 11,
    "start_time": "2023-11-07T10:48:13.105Z"
   },
   {
    "duration": 34,
    "start_time": "2023-11-07T10:48:13.118Z"
   },
   {
    "duration": 35,
    "start_time": "2023-11-07T10:48:13.155Z"
   },
   {
    "duration": 13,
    "start_time": "2023-11-07T10:48:13.191Z"
   },
   {
    "duration": 4,
    "start_time": "2023-11-07T10:48:13.206Z"
   },
   {
    "duration": 5,
    "start_time": "2023-11-07T10:48:13.212Z"
   },
   {
    "duration": 584,
    "start_time": "2023-11-07T10:48:13.219Z"
   },
   {
    "duration": 112,
    "start_time": "2023-11-07T10:48:13.805Z"
   },
   {
    "duration": 355,
    "start_time": "2023-11-07T10:48:13.919Z"
   },
   {
    "duration": 2097,
    "start_time": "2023-11-07T10:48:14.277Z"
   },
   {
    "duration": 0,
    "start_time": "2023-11-07T10:48:16.376Z"
   },
   {
    "duration": 309,
    "start_time": "2023-11-07T10:49:06.187Z"
   },
   {
    "duration": 185,
    "start_time": "2023-11-07T10:51:31.162Z"
   },
   {
    "duration": 16,
    "start_time": "2023-11-07T10:51:51.297Z"
   },
   {
    "duration": 169,
    "start_time": "2023-11-07T10:51:55.917Z"
   },
   {
    "duration": 173,
    "start_time": "2023-11-07T10:52:02.284Z"
   },
   {
    "duration": 264,
    "start_time": "2023-11-07T10:52:20.436Z"
   },
   {
    "duration": 152,
    "start_time": "2023-11-07T10:52:45.792Z"
   },
   {
    "duration": 183,
    "start_time": "2023-11-07T10:52:49.986Z"
   },
   {
    "duration": 190,
    "start_time": "2023-11-07T10:52:58.893Z"
   },
   {
    "duration": 238,
    "start_time": "2023-11-07T10:53:02.644Z"
   },
   {
    "duration": 167,
    "start_time": "2023-11-07T10:59:01.351Z"
   },
   {
    "duration": 183,
    "start_time": "2023-11-07T10:59:16.858Z"
   },
   {
    "duration": 192,
    "start_time": "2023-11-07T10:59:27.446Z"
   },
   {
    "duration": 186,
    "start_time": "2023-11-07T10:59:31.788Z"
   },
   {
    "duration": 220,
    "start_time": "2023-11-07T10:59:35.972Z"
   },
   {
    "duration": 220,
    "start_time": "2023-11-07T10:59:39.451Z"
   },
   {
    "duration": 378,
    "start_time": "2023-11-07T10:59:43.895Z"
   },
   {
    "duration": 246,
    "start_time": "2023-11-07T11:00:20.116Z"
   },
   {
    "duration": 233,
    "start_time": "2023-11-07T11:00:26.631Z"
   },
   {
    "duration": 183,
    "start_time": "2023-11-07T11:00:57.025Z"
   },
   {
    "duration": 230,
    "start_time": "2023-11-07T11:01:05.955Z"
   },
   {
    "duration": 371,
    "start_time": "2023-11-07T17:45:52.090Z"
   },
   {
    "duration": 214,
    "start_time": "2023-11-07T17:45:52.463Z"
   },
   {
    "duration": 11,
    "start_time": "2023-11-07T17:45:52.678Z"
   },
   {
    "duration": 14,
    "start_time": "2023-11-07T17:45:52.690Z"
   },
   {
    "duration": 7,
    "start_time": "2023-11-07T17:45:52.706Z"
   },
   {
    "duration": 17,
    "start_time": "2023-11-07T17:45:52.714Z"
   },
   {
    "duration": 3,
    "start_time": "2023-11-07T17:45:52.733Z"
   },
   {
    "duration": 10,
    "start_time": "2023-11-07T17:45:52.738Z"
   },
   {
    "duration": 652,
    "start_time": "2023-11-07T17:45:52.750Z"
   },
   {
    "duration": 95,
    "start_time": "2023-11-07T17:45:53.403Z"
   },
   {
    "duration": 281,
    "start_time": "2023-11-07T17:45:53.499Z"
   },
   {
    "duration": 187,
    "start_time": "2023-11-07T17:45:53.781Z"
   },
   {
    "duration": 218,
    "start_time": "2023-11-07T17:45:53.970Z"
   },
   {
    "duration": 355,
    "start_time": "2023-11-07T18:49:21.468Z"
   },
   {
    "duration": 65,
    "start_time": "2023-11-07T18:49:21.824Z"
   },
   {
    "duration": 9,
    "start_time": "2023-11-07T18:49:21.890Z"
   },
   {
    "duration": 7,
    "start_time": "2023-11-07T18:49:21.901Z"
   },
   {
    "duration": 4,
    "start_time": "2023-11-07T18:49:21.910Z"
   },
   {
    "duration": 8,
    "start_time": "2023-11-07T18:49:21.915Z"
   },
   {
    "duration": 3,
    "start_time": "2023-11-07T18:49:21.925Z"
   },
   {
    "duration": 3,
    "start_time": "2023-11-07T18:49:21.929Z"
   },
   {
    "duration": 477,
    "start_time": "2023-11-07T18:49:21.933Z"
   },
   {
    "duration": 113,
    "start_time": "2023-11-07T18:49:22.412Z"
   },
   {
    "duration": 248,
    "start_time": "2023-11-07T18:49:22.527Z"
   },
   {
    "duration": 188,
    "start_time": "2023-11-07T18:49:22.777Z"
   },
   {
    "duration": 216,
    "start_time": "2023-11-07T18:49:22.967Z"
   },
   {
    "duration": 22,
    "start_time": "2023-11-07T18:54:46.626Z"
   },
   {
    "duration": 93,
    "start_time": "2023-11-07T18:58:40.518Z"
   },
   {
    "duration": 16,
    "start_time": "2023-11-07T18:59:49.356Z"
   },
   {
    "duration": 21,
    "start_time": "2023-11-07T19:00:12.586Z"
   },
   {
    "duration": 9,
    "start_time": "2023-11-07T19:00:17.959Z"
   },
   {
    "duration": 385,
    "start_time": "2023-11-07T19:15:38.353Z"
   },
   {
    "duration": 69,
    "start_time": "2023-11-07T19:15:38.820Z"
   },
   {
    "duration": 9,
    "start_time": "2023-11-07T19:15:39.207Z"
   },
   {
    "duration": 8,
    "start_time": "2023-11-07T19:15:39.570Z"
   },
   {
    "duration": 4,
    "start_time": "2023-11-07T19:15:39.767Z"
   },
   {
    "duration": 9,
    "start_time": "2023-11-07T19:15:39.915Z"
   },
   {
    "duration": 4,
    "start_time": "2023-11-07T19:15:40.084Z"
   },
   {
    "duration": 8,
    "start_time": "2023-11-07T19:15:40.245Z"
   },
   {
    "duration": 520,
    "start_time": "2023-11-07T19:15:40.595Z"
   },
   {
    "duration": 107,
    "start_time": "2023-11-07T19:15:41.117Z"
   },
   {
    "duration": 266,
    "start_time": "2023-11-07T19:15:41.226Z"
   },
   {
    "duration": 217,
    "start_time": "2023-11-07T19:15:41.494Z"
   },
   {
    "duration": 255,
    "start_time": "2023-11-07T19:15:41.712Z"
   },
   {
    "duration": 21,
    "start_time": "2023-11-07T19:15:41.969Z"
   },
   {
    "duration": 11,
    "start_time": "2023-11-07T19:15:41.991Z"
   },
   {
    "duration": 196,
    "start_time": "2023-11-07T19:15:42.099Z"
   },
   {
    "duration": 0,
    "start_time": "2023-11-07T19:17:01.084Z"
   },
   {
    "duration": 103,
    "start_time": "2023-11-07T19:17:17.475Z"
   },
   {
    "duration": 138,
    "start_time": "2023-11-07T19:17:34.887Z"
   },
   {
    "duration": 233,
    "start_time": "2023-11-07T19:18:04.196Z"
   },
   {
    "duration": 13,
    "start_time": "2023-11-07T19:18:12.858Z"
   },
   {
    "duration": 0,
    "start_time": "2023-11-07T19:19:23.945Z"
   },
   {
    "duration": 150,
    "start_time": "2023-11-07T19:19:34.638Z"
   },
   {
    "duration": 10,
    "start_time": "2023-11-07T19:20:54.534Z"
   },
   {
    "duration": 214,
    "start_time": "2023-11-07T19:21:01.374Z"
   },
   {
    "duration": 65115,
    "start_time": "2023-11-07T19:21:30.490Z"
   },
   {
    "duration": 126,
    "start_time": "2023-11-07T19:23:24.977Z"
   },
   {
    "duration": 214,
    "start_time": "2023-11-07T19:23:37.478Z"
   },
   {
    "duration": 296,
    "start_time": "2023-11-07T19:24:00.712Z"
   },
   {
    "duration": 12,
    "start_time": "2023-11-07T19:40:22.213Z"
   },
   {
    "duration": 8,
    "start_time": "2023-11-07T19:40:39.181Z"
   },
   {
    "duration": 15,
    "start_time": "2023-11-07T19:41:56.666Z"
   },
   {
    "duration": 7,
    "start_time": "2023-11-07T19:41:58.449Z"
   },
   {
    "duration": 2,
    "start_time": "2023-11-07T19:48:08.487Z"
   },
   {
    "duration": 66,
    "start_time": "2023-11-07T19:48:10.152Z"
   },
   {
    "duration": 8,
    "start_time": "2023-11-07T19:48:10.330Z"
   },
   {
    "duration": 8,
    "start_time": "2023-11-07T19:48:10.657Z"
   },
   {
    "duration": 5,
    "start_time": "2023-11-07T19:48:10.819Z"
   },
   {
    "duration": 8,
    "start_time": "2023-11-07T19:48:10.983Z"
   },
   {
    "duration": 4,
    "start_time": "2023-11-07T19:48:11.160Z"
   },
   {
    "duration": 3,
    "start_time": "2023-11-07T19:48:11.308Z"
   },
   {
    "duration": 261,
    "start_time": "2023-11-07T19:48:11.665Z"
   },
   {
    "duration": 96,
    "start_time": "2023-11-07T19:48:11.928Z"
   },
   {
    "duration": 256,
    "start_time": "2023-11-07T19:48:12.026Z"
   },
   {
    "duration": 197,
    "start_time": "2023-11-07T19:48:12.284Z"
   },
   {
    "duration": 285,
    "start_time": "2023-11-07T19:48:12.483Z"
   },
   {
    "duration": 22,
    "start_time": "2023-11-07T19:48:12.780Z"
   },
   {
    "duration": 11,
    "start_time": "2023-11-07T19:48:12.971Z"
   },
   {
    "duration": 268,
    "start_time": "2023-11-07T19:48:13.195Z"
   },
   {
    "duration": 7,
    "start_time": "2023-11-07T19:48:13.766Z"
   },
   {
    "duration": 6,
    "start_time": "2023-11-07T19:48:13.961Z"
   },
   {
    "duration": 8,
    "start_time": "2023-11-07T19:56:03.618Z"
   },
   {
    "duration": 24,
    "start_time": "2023-11-07T19:56:21.469Z"
   },
   {
    "duration": 5,
    "start_time": "2023-11-07T19:56:23.409Z"
   },
   {
    "duration": 64,
    "start_time": "2023-11-07T19:57:35.660Z"
   },
   {
    "duration": 3,
    "start_time": "2023-11-07T19:58:05.491Z"
   },
   {
    "duration": 3,
    "start_time": "2023-11-07T19:58:20.668Z"
   },
   {
    "duration": 18,
    "start_time": "2023-11-07T19:59:23.462Z"
   },
   {
    "duration": 5,
    "start_time": "2023-11-07T19:59:24.162Z"
   },
   {
    "duration": 100,
    "start_time": "2023-11-07T20:02:35.612Z"
   },
   {
    "duration": 6,
    "start_time": "2023-11-07T20:02:36.260Z"
   },
   {
    "duration": 79,
    "start_time": "2023-11-07T20:03:31.149Z"
   },
   {
    "duration": 95,
    "start_time": "2023-11-07T20:04:05.662Z"
   },
   {
    "duration": 12,
    "start_time": "2023-11-07T20:04:25.770Z"
   },
   {
    "duration": 4,
    "start_time": "2023-11-07T20:05:05.081Z"
   },
   {
    "duration": 13,
    "start_time": "2023-11-07T20:05:16.905Z"
   },
   {
    "duration": 11,
    "start_time": "2023-11-07T20:05:27.704Z"
   },
   {
    "duration": 85,
    "start_time": "2023-11-07T20:07:11.482Z"
   },
   {
    "duration": 104,
    "start_time": "2023-11-07T20:08:48.970Z"
   },
   {
    "duration": 14,
    "start_time": "2023-11-07T20:09:15.860Z"
   },
   {
    "duration": 6,
    "start_time": "2023-11-07T20:09:16.959Z"
   },
   {
    "duration": 27,
    "start_time": "2023-11-07T20:11:26.090Z"
   },
   {
    "duration": 23,
    "start_time": "2023-11-07T20:11:38.798Z"
   },
   {
    "duration": 7,
    "start_time": "2023-11-07T20:11:39.511Z"
   },
   {
    "duration": 28,
    "start_time": "2023-11-07T20:13:32.866Z"
   },
   {
    "duration": 32195,
    "start_time": "2023-11-07T20:14:08.154Z"
   },
   {
    "duration": 0,
    "start_time": "2023-11-07T20:14:40.351Z"
   },
   {
    "duration": 550,
    "start_time": "2023-11-07T20:16:40.519Z"
   },
   {
    "duration": 26,
    "start_time": "2023-11-07T20:17:44.407Z"
   },
   {
    "duration": 34,
    "start_time": "2023-11-07T20:18:47.418Z"
   },
   {
    "duration": 241,
    "start_time": "2023-11-07T20:18:56.114Z"
   },
   {
    "duration": 6,
    "start_time": "2023-11-07T20:18:57.927Z"
   },
   {
    "duration": 400,
    "start_time": "2023-11-08T09:15:02.111Z"
   },
   {
    "duration": 204,
    "start_time": "2023-11-08T09:15:02.513Z"
   },
   {
    "duration": 12,
    "start_time": "2023-11-08T09:15:02.719Z"
   },
   {
    "duration": 11,
    "start_time": "2023-11-08T09:15:02.732Z"
   },
   {
    "duration": 7,
    "start_time": "2023-11-08T09:15:02.745Z"
   },
   {
    "duration": 35,
    "start_time": "2023-11-08T09:15:02.753Z"
   },
   {
    "duration": 19,
    "start_time": "2023-11-08T09:15:02.790Z"
   },
   {
    "duration": 24,
    "start_time": "2023-11-08T09:15:02.811Z"
   },
   {
    "duration": 1206,
    "start_time": "2023-11-08T09:15:02.837Z"
   },
   {
    "duration": 117,
    "start_time": "2023-11-08T09:15:04.045Z"
   },
   {
    "duration": 371,
    "start_time": "2023-11-08T09:15:04.164Z"
   },
   {
    "duration": 194,
    "start_time": "2023-11-08T09:15:04.537Z"
   },
   {
    "duration": 279,
    "start_time": "2023-11-08T09:15:04.732Z"
   },
   {
    "duration": 25,
    "start_time": "2023-11-08T09:15:05.013Z"
   },
   {
    "duration": 12,
    "start_time": "2023-11-08T09:15:05.039Z"
   },
   {
    "duration": 352,
    "start_time": "2023-11-08T09:15:05.053Z"
   },
   {
    "duration": 242,
    "start_time": "2023-11-08T09:15:05.407Z"
   },
   {
    "duration": 8,
    "start_time": "2023-11-08T09:15:05.650Z"
   },
   {
    "duration": 9,
    "start_time": "2023-11-08T09:36:45.119Z"
   },
   {
    "duration": 10,
    "start_time": "2023-11-08T09:37:47.395Z"
   },
   {
    "duration": 8,
    "start_time": "2023-11-08T09:38:23.900Z"
   },
   {
    "duration": 6,
    "start_time": "2023-11-08T09:39:34.847Z"
   },
   {
    "duration": 12,
    "start_time": "2023-11-08T09:39:44.549Z"
   },
   {
    "duration": 19,
    "start_time": "2023-11-08T09:40:09.435Z"
   },
   {
    "duration": 13,
    "start_time": "2023-11-08T09:40:27.354Z"
   },
   {
    "duration": 80,
    "start_time": "2023-11-08T09:42:36.135Z"
   },
   {
    "duration": 87,
    "start_time": "2023-11-08T09:43:11.446Z"
   },
   {
    "duration": 473,
    "start_time": "2023-11-08T09:43:41.214Z"
   },
   {
    "duration": 5,
    "start_time": "2023-11-08T09:44:37.269Z"
   },
   {
    "duration": 37,
    "start_time": "2023-11-08T09:45:26.868Z"
   },
   {
    "duration": 6,
    "start_time": "2023-11-08T09:45:34.391Z"
   },
   {
    "duration": 12,
    "start_time": "2023-11-08T09:47:51.742Z"
   },
   {
    "duration": 7,
    "start_time": "2023-11-08T09:48:05.675Z"
   },
   {
    "duration": 10,
    "start_time": "2023-11-08T09:51:12.194Z"
   },
   {
    "duration": 16,
    "start_time": "2023-11-08T09:58:53.825Z"
   },
   {
    "duration": 10,
    "start_time": "2023-11-08T09:59:16.686Z"
   },
   {
    "duration": 7,
    "start_time": "2023-11-08T09:59:36.861Z"
   },
   {
    "duration": 7,
    "start_time": "2023-11-08T09:59:57.693Z"
   },
   {
    "duration": 8,
    "start_time": "2023-11-08T10:00:32.930Z"
   },
   {
    "duration": 11,
    "start_time": "2023-11-08T10:01:30.668Z"
   },
   {
    "duration": 6,
    "start_time": "2023-11-08T10:01:52.329Z"
   },
   {
    "duration": 8,
    "start_time": "2023-11-08T10:02:53.330Z"
   },
   {
    "duration": 10,
    "start_time": "2023-11-08T10:05:51.041Z"
   },
   {
    "duration": 9,
    "start_time": "2023-11-08T10:05:51.675Z"
   },
   {
    "duration": 45,
    "start_time": "2023-11-08T11:25:14.850Z"
   },
   {
    "duration": 419,
    "start_time": "2023-11-08T11:25:25.827Z"
   },
   {
    "duration": 197,
    "start_time": "2023-11-08T11:25:26.248Z"
   },
   {
    "duration": 11,
    "start_time": "2023-11-08T11:25:26.447Z"
   },
   {
    "duration": 29,
    "start_time": "2023-11-08T11:25:26.459Z"
   },
   {
    "duration": 22,
    "start_time": "2023-11-08T11:25:26.490Z"
   },
   {
    "duration": 23,
    "start_time": "2023-11-08T11:25:26.514Z"
   },
   {
    "duration": 57,
    "start_time": "2023-11-08T11:25:26.539Z"
   },
   {
    "duration": 43,
    "start_time": "2023-11-08T11:25:26.597Z"
   },
   {
    "duration": 761,
    "start_time": "2023-11-08T11:25:26.642Z"
   },
   {
    "duration": 112,
    "start_time": "2023-11-08T11:25:27.405Z"
   },
   {
    "duration": 333,
    "start_time": "2023-11-08T11:25:27.518Z"
   },
   {
    "duration": 193,
    "start_time": "2023-11-08T11:25:27.853Z"
   },
   {
    "duration": 260,
    "start_time": "2023-11-08T11:25:28.048Z"
   },
   {
    "duration": 23,
    "start_time": "2023-11-08T11:25:28.312Z"
   },
   {
    "duration": 13,
    "start_time": "2023-11-08T11:25:28.337Z"
   },
   {
    "duration": 299,
    "start_time": "2023-11-08T11:25:28.352Z"
   },
   {
    "duration": 208,
    "start_time": "2023-11-08T11:25:28.653Z"
   },
   {
    "duration": 8,
    "start_time": "2023-11-08T11:25:28.862Z"
   },
   {
    "duration": 21,
    "start_time": "2023-11-08T11:25:28.872Z"
   },
   {
    "duration": 495,
    "start_time": "2023-11-08T11:25:28.894Z"
   },
   {
    "duration": 10,
    "start_time": "2023-11-08T11:25:29.391Z"
   },
   {
    "duration": 8,
    "start_time": "2023-11-08T11:25:29.412Z"
   },
   {
    "duration": 32,
    "start_time": "2023-11-08T11:25:29.422Z"
   },
   {
    "duration": 16,
    "start_time": "2023-11-08T11:26:55.577Z"
   },
   {
    "duration": 15,
    "start_time": "2023-11-08T11:27:37.694Z"
   },
   {
    "duration": 402,
    "start_time": "2023-11-08T11:28:07.121Z"
   },
   {
    "duration": 73,
    "start_time": "2023-11-08T11:28:07.524Z"
   },
   {
    "duration": 12,
    "start_time": "2023-11-08T11:28:07.598Z"
   },
   {
    "duration": 25,
    "start_time": "2023-11-08T11:28:07.611Z"
   },
   {
    "duration": 16,
    "start_time": "2023-11-08T11:28:07.638Z"
   },
   {
    "duration": 37,
    "start_time": "2023-11-08T11:28:07.656Z"
   },
   {
    "duration": 5,
    "start_time": "2023-11-08T11:28:07.694Z"
   },
   {
    "duration": 11,
    "start_time": "2023-11-08T11:28:07.700Z"
   },
   {
    "duration": 586,
    "start_time": "2023-11-08T11:28:07.712Z"
   },
   {
    "duration": 107,
    "start_time": "2023-11-08T11:28:08.300Z"
   },
   {
    "duration": 273,
    "start_time": "2023-11-08T11:28:08.409Z"
   },
   {
    "duration": 232,
    "start_time": "2023-11-08T11:28:08.684Z"
   },
   {
    "duration": 234,
    "start_time": "2023-11-08T11:28:08.918Z"
   },
   {
    "duration": 21,
    "start_time": "2023-11-08T11:28:09.156Z"
   },
   {
    "duration": 28,
    "start_time": "2023-11-08T11:28:09.179Z"
   },
   {
    "duration": 296,
    "start_time": "2023-11-08T11:28:09.208Z"
   },
   {
    "duration": 208,
    "start_time": "2023-11-08T11:28:09.506Z"
   },
   {
    "duration": 8,
    "start_time": "2023-11-08T11:28:09.716Z"
   },
   {
    "duration": 34,
    "start_time": "2023-11-08T11:28:09.726Z"
   },
   {
    "duration": 487,
    "start_time": "2023-11-08T11:28:09.762Z"
   },
   {
    "duration": 8,
    "start_time": "2023-11-08T11:28:10.250Z"
   },
   {
    "duration": 30,
    "start_time": "2023-11-08T11:28:10.259Z"
   },
   {
    "duration": 54,
    "start_time": "2023-11-08T11:28:10.291Z"
   },
   {
    "duration": 11,
    "start_time": "2023-11-08T11:28:20.434Z"
   },
   {
    "duration": 16,
    "start_time": "2023-11-08T11:28:25.927Z"
   },
   {
    "duration": 17,
    "start_time": "2023-11-08T11:28:34.958Z"
   },
   {
    "duration": 15,
    "start_time": "2023-11-08T11:28:38.737Z"
   },
   {
    "duration": 11,
    "start_time": "2023-11-08T11:31:33.253Z"
   },
   {
    "duration": 2273,
    "start_time": "2023-11-08T11:36:22.872Z"
   },
   {
    "duration": 4,
    "start_time": "2023-11-08T11:36:47.992Z"
   },
   {
    "duration": 9,
    "start_time": "2023-11-08T11:37:00.419Z"
   },
   {
    "duration": 129,
    "start_time": "2023-11-08T11:37:09.437Z"
   },
   {
    "duration": 5,
    "start_time": "2023-11-08T11:37:11.296Z"
   },
   {
    "duration": 4,
    "start_time": "2023-11-08T11:38:13.604Z"
   },
   {
    "duration": 13,
    "start_time": "2023-11-08T11:38:27.178Z"
   },
   {
    "duration": 10,
    "start_time": "2023-11-08T11:38:29.553Z"
   },
   {
    "duration": 10,
    "start_time": "2023-11-08T11:40:08.219Z"
   },
   {
    "duration": 9,
    "start_time": "2023-11-08T11:40:15.149Z"
   },
   {
    "duration": 361,
    "start_time": "2023-11-08T13:48:59.368Z"
   },
   {
    "duration": 200,
    "start_time": "2023-11-08T13:48:59.730Z"
   },
   {
    "duration": 10,
    "start_time": "2023-11-08T13:48:59.931Z"
   },
   {
    "duration": 8,
    "start_time": "2023-11-08T13:48:59.942Z"
   },
   {
    "duration": 6,
    "start_time": "2023-11-08T13:48:59.951Z"
   },
   {
    "duration": 7,
    "start_time": "2023-11-08T13:48:59.959Z"
   },
   {
    "duration": 4,
    "start_time": "2023-11-08T13:48:59.968Z"
   },
   {
    "duration": 9,
    "start_time": "2023-11-08T13:48:59.973Z"
   },
   {
    "duration": 685,
    "start_time": "2023-11-08T13:48:59.983Z"
   },
   {
    "duration": 96,
    "start_time": "2023-11-08T13:49:00.670Z"
   },
   {
    "duration": 298,
    "start_time": "2023-11-08T13:49:00.767Z"
   },
   {
    "duration": 163,
    "start_time": "2023-11-08T13:49:01.066Z"
   },
   {
    "duration": 226,
    "start_time": "2023-11-08T13:49:01.231Z"
   },
   {
    "duration": 22,
    "start_time": "2023-11-08T13:49:01.459Z"
   },
   {
    "duration": 22,
    "start_time": "2023-11-08T13:49:01.483Z"
   },
   {
    "duration": 313,
    "start_time": "2023-11-08T13:49:01.507Z"
   },
   {
    "duration": 220,
    "start_time": "2023-11-08T13:49:01.822Z"
   },
   {
    "duration": 7,
    "start_time": "2023-11-08T13:49:02.043Z"
   },
   {
    "duration": 37,
    "start_time": "2023-11-08T13:49:02.051Z"
   },
   {
    "duration": 525,
    "start_time": "2023-11-08T13:49:02.089Z"
   },
   {
    "duration": 6,
    "start_time": "2023-11-08T13:49:02.615Z"
   },
   {
    "duration": 14,
    "start_time": "2023-11-08T13:49:02.622Z"
   },
   {
    "duration": 13,
    "start_time": "2023-11-08T13:49:02.639Z"
   },
   {
    "duration": 8,
    "start_time": "2023-11-08T13:49:02.653Z"
   },
   {
    "duration": 2226,
    "start_time": "2023-11-08T13:49:37.234Z"
   },
   {
    "duration": 10,
    "start_time": "2023-11-08T13:49:59.248Z"
   },
   {
    "duration": 6,
    "start_time": "2023-11-08T13:50:20.968Z"
   },
   {
    "duration": 10,
    "start_time": "2023-11-08T13:50:32.020Z"
   },
   {
    "duration": 201,
    "start_time": "2023-11-08T13:54:20.459Z"
   },
   {
    "duration": 335,
    "start_time": "2023-11-08T13:54:28.990Z"
   },
   {
    "duration": 67,
    "start_time": "2023-11-08T13:54:29.326Z"
   },
   {
    "duration": 9,
    "start_time": "2023-11-08T13:54:29.394Z"
   },
   {
    "duration": 24,
    "start_time": "2023-11-08T13:54:29.405Z"
   },
   {
    "duration": 13,
    "start_time": "2023-11-08T13:54:29.431Z"
   },
   {
    "duration": 32,
    "start_time": "2023-11-08T13:54:29.445Z"
   },
   {
    "duration": 10,
    "start_time": "2023-11-08T13:54:29.479Z"
   },
   {
    "duration": 18,
    "start_time": "2023-11-08T13:54:29.491Z"
   },
   {
    "duration": 495,
    "start_time": "2023-11-08T13:54:29.511Z"
   },
   {
    "duration": 105,
    "start_time": "2023-11-08T13:54:30.008Z"
   },
   {
    "duration": 249,
    "start_time": "2023-11-08T13:54:30.114Z"
   },
   {
    "duration": 190,
    "start_time": "2023-11-08T13:54:30.365Z"
   },
   {
    "duration": 216,
    "start_time": "2023-11-08T13:54:30.556Z"
   },
   {
    "duration": 20,
    "start_time": "2023-11-08T13:54:30.774Z"
   },
   {
    "duration": 34,
    "start_time": "2023-11-08T13:54:30.795Z"
   },
   {
    "duration": 273,
    "start_time": "2023-11-08T13:54:30.830Z"
   },
   {
    "duration": 211,
    "start_time": "2023-11-08T13:54:31.104Z"
   },
   {
    "duration": 6,
    "start_time": "2023-11-08T13:54:31.316Z"
   },
   {
    "duration": 27,
    "start_time": "2023-11-08T13:54:31.323Z"
   },
   {
    "duration": 380,
    "start_time": "2023-11-08T13:54:31.351Z"
   },
   {
    "duration": 11,
    "start_time": "2023-11-08T13:54:31.732Z"
   },
   {
    "duration": 20,
    "start_time": "2023-11-08T13:54:31.744Z"
   },
   {
    "duration": 28,
    "start_time": "2023-11-08T13:54:31.766Z"
   },
   {
    "duration": 7,
    "start_time": "2023-11-08T13:54:31.796Z"
   },
   {
    "duration": 91,
    "start_time": "2023-11-08T14:16:13.916Z"
   },
   {
    "duration": 5,
    "start_time": "2023-11-08T14:18:52.953Z"
   },
   {
    "duration": 4,
    "start_time": "2023-11-08T14:19:47.990Z"
   },
   {
    "duration": 4,
    "start_time": "2023-11-08T14:20:11.300Z"
   },
   {
    "duration": 5,
    "start_time": "2023-11-08T14:20:21.093Z"
   },
   {
    "duration": 5,
    "start_time": "2023-11-08T14:21:47.194Z"
   },
   {
    "duration": 69,
    "start_time": "2023-11-08T14:29:42.259Z"
   },
   {
    "duration": 74,
    "start_time": "2023-11-08T14:31:09.855Z"
   },
   {
    "duration": 100,
    "start_time": "2023-11-08T14:33:59.424Z"
   },
   {
    "duration": 82,
    "start_time": "2023-11-08T14:35:49.166Z"
   },
   {
    "duration": 254,
    "start_time": "2023-11-08T14:35:56.227Z"
   },
   {
    "duration": 249,
    "start_time": "2023-11-08T14:58:36.855Z"
   },
   {
    "duration": 76,
    "start_time": "2023-11-08T15:25:54.743Z"
   },
   {
    "duration": 485,
    "start_time": "2023-11-08T17:11:51.529Z"
   },
   {
    "duration": 215,
    "start_time": "2023-11-08T17:11:52.016Z"
   },
   {
    "duration": 13,
    "start_time": "2023-11-08T17:11:52.233Z"
   },
   {
    "duration": 16,
    "start_time": "2023-11-08T17:11:52.249Z"
   },
   {
    "duration": 7,
    "start_time": "2023-11-08T17:11:52.267Z"
   },
   {
    "duration": 12,
    "start_time": "2023-11-08T17:11:52.275Z"
   },
   {
    "duration": 4,
    "start_time": "2023-11-08T17:11:52.289Z"
   },
   {
    "duration": 10,
    "start_time": "2023-11-08T17:11:52.294Z"
   },
   {
    "duration": 677,
    "start_time": "2023-11-08T17:11:52.305Z"
   },
   {
    "duration": 136,
    "start_time": "2023-11-08T17:11:52.984Z"
   },
   {
    "duration": 371,
    "start_time": "2023-11-08T17:11:53.122Z"
   },
   {
    "duration": 272,
    "start_time": "2023-11-08T17:11:53.495Z"
   },
   {
    "duration": 307,
    "start_time": "2023-11-08T17:11:53.769Z"
   },
   {
    "duration": 27,
    "start_time": "2023-11-08T17:11:54.078Z"
   },
   {
    "duration": 16,
    "start_time": "2023-11-08T17:11:54.107Z"
   },
   {
    "duration": 383,
    "start_time": "2023-11-08T17:11:54.125Z"
   },
   {
    "duration": 267,
    "start_time": "2023-11-08T17:11:54.510Z"
   },
   {
    "duration": 8,
    "start_time": "2023-11-08T17:11:54.779Z"
   },
   {
    "duration": 17,
    "start_time": "2023-11-08T17:11:54.789Z"
   },
   {
    "duration": 530,
    "start_time": "2023-11-08T17:11:54.808Z"
   },
   {
    "duration": 11,
    "start_time": "2023-11-08T17:11:55.341Z"
   },
   {
    "duration": 14,
    "start_time": "2023-11-08T17:11:55.354Z"
   },
   {
    "duration": 17,
    "start_time": "2023-11-08T17:11:55.370Z"
   },
   {
    "duration": 27,
    "start_time": "2023-11-08T17:11:55.390Z"
   },
   {
    "duration": 30,
    "start_time": "2023-11-08T17:11:55.419Z"
   },
   {
    "duration": 30,
    "start_time": "2023-11-08T17:11:55.451Z"
   },
   {
    "duration": 83,
    "start_time": "2023-11-08T17:11:55.484Z"
   },
   {
    "duration": 6,
    "start_time": "2023-11-08T17:20:04.625Z"
   },
   {
    "duration": 7,
    "start_time": "2023-11-08T17:26:10.114Z"
   },
   {
    "duration": 21,
    "start_time": "2023-11-08T17:26:20.345Z"
   },
   {
    "duration": 56,
    "start_time": "2023-11-09T06:08:53.779Z"
   },
   {
    "duration": 412,
    "start_time": "2023-11-09T06:09:00.356Z"
   },
   {
    "duration": 214,
    "start_time": "2023-11-09T06:09:02.135Z"
   },
   {
    "duration": 27,
    "start_time": "2023-11-09T06:09:03.437Z"
   },
   {
    "duration": 71,
    "start_time": "2023-11-09T06:09:49.871Z"
   },
   {
    "duration": 50,
    "start_time": "2023-11-09T06:09:56.515Z"
   },
   {
    "duration": 25,
    "start_time": "2023-11-09T06:10:07.850Z"
   },
   {
    "duration": 11,
    "start_time": "2023-11-09T06:11:18.431Z"
   },
   {
    "duration": 6,
    "start_time": "2023-11-09T06:11:18.918Z"
   },
   {
    "duration": 10,
    "start_time": "2023-11-09T06:11:19.659Z"
   },
   {
    "duration": 9,
    "start_time": "2023-11-09T06:11:21.205Z"
   },
   {
    "duration": 5,
    "start_time": "2023-11-09T06:11:22.036Z"
   },
   {
    "duration": 400,
    "start_time": "2023-11-09T06:12:17.863Z"
   },
   {
    "duration": 2781,
    "start_time": "2023-11-09T06:12:22.754Z"
   },
   {
    "duration": 2467,
    "start_time": "2023-11-09T06:12:55.051Z"
   },
   {
    "duration": 496,
    "start_time": "2023-11-09T06:14:29.151Z"
   },
   {
    "duration": 2488,
    "start_time": "2023-11-09T06:14:40.308Z"
   },
   {
    "duration": 404,
    "start_time": "2023-11-09T06:15:07.309Z"
   },
   {
    "duration": 53,
    "start_time": "2023-11-09T08:01:19.273Z"
   },
   {
    "duration": 935,
    "start_time": "2023-11-09T08:02:07.274Z"
   },
   {
    "duration": 3,
    "start_time": "2023-11-09T08:02:48.240Z"
   },
   {
    "duration": 57,
    "start_time": "2023-11-09T08:04:50.939Z"
   },
   {
    "duration": 933,
    "start_time": "2023-11-09T08:04:59.919Z"
   },
   {
    "duration": 195,
    "start_time": "2023-11-09T08:05:00.854Z"
   },
   {
    "duration": 26,
    "start_time": "2023-11-09T08:05:01.051Z"
   },
   {
    "duration": 53,
    "start_time": "2023-11-09T08:05:01.079Z"
   },
   {
    "duration": 22,
    "start_time": "2023-11-09T08:05:01.134Z"
   },
   {
    "duration": 39,
    "start_time": "2023-11-09T08:05:01.158Z"
   },
   {
    "duration": 46,
    "start_time": "2023-11-09T08:05:01.198Z"
   },
   {
    "duration": 57,
    "start_time": "2023-11-09T08:05:01.245Z"
   },
   {
    "duration": 42,
    "start_time": "2023-11-09T08:05:01.304Z"
   },
   {
    "duration": 132,
    "start_time": "2023-11-09T08:05:01.349Z"
   },
   {
    "duration": 0,
    "start_time": "2023-11-09T08:05:01.482Z"
   },
   {
    "duration": 0,
    "start_time": "2023-11-09T08:05:01.483Z"
   },
   {
    "duration": 0,
    "start_time": "2023-11-09T08:05:01.484Z"
   },
   {
    "duration": 0,
    "start_time": "2023-11-09T08:05:01.486Z"
   },
   {
    "duration": 0,
    "start_time": "2023-11-09T08:05:01.487Z"
   },
   {
    "duration": 0,
    "start_time": "2023-11-09T08:05:01.488Z"
   },
   {
    "duration": 0,
    "start_time": "2023-11-09T08:05:01.489Z"
   },
   {
    "duration": 0,
    "start_time": "2023-11-09T08:05:01.490Z"
   },
   {
    "duration": 0,
    "start_time": "2023-11-09T08:05:01.491Z"
   },
   {
    "duration": 0,
    "start_time": "2023-11-09T08:05:01.492Z"
   },
   {
    "duration": 0,
    "start_time": "2023-11-09T08:05:01.493Z"
   },
   {
    "duration": 0,
    "start_time": "2023-11-09T08:05:01.494Z"
   },
   {
    "duration": 0,
    "start_time": "2023-11-09T08:05:01.495Z"
   },
   {
    "duration": 0,
    "start_time": "2023-11-09T08:05:01.496Z"
   },
   {
    "duration": 0,
    "start_time": "2023-11-09T08:05:01.497Z"
   },
   {
    "duration": 0,
    "start_time": "2023-11-09T08:05:01.498Z"
   },
   {
    "duration": 0,
    "start_time": "2023-11-09T08:05:01.499Z"
   },
   {
    "duration": 0,
    "start_time": "2023-11-09T08:05:01.500Z"
   },
   {
    "duration": 6,
    "start_time": "2023-11-09T08:05:25.123Z"
   },
   {
    "duration": 8,
    "start_time": "2023-11-09T08:05:47.372Z"
   },
   {
    "duration": 10,
    "start_time": "2023-11-09T08:06:03.731Z"
   },
   {
    "duration": 864,
    "start_time": "2023-11-09T08:06:46.894Z"
   },
   {
    "duration": 69,
    "start_time": "2023-11-09T08:06:47.760Z"
   },
   {
    "duration": 26,
    "start_time": "2023-11-09T08:06:47.830Z"
   },
   {
    "duration": 26,
    "start_time": "2023-11-09T08:06:47.858Z"
   },
   {
    "duration": 11,
    "start_time": "2023-11-09T08:06:47.886Z"
   },
   {
    "duration": 15,
    "start_time": "2023-11-09T08:06:47.899Z"
   },
   {
    "duration": 37,
    "start_time": "2023-11-09T08:06:47.915Z"
   },
   {
    "duration": 6,
    "start_time": "2023-11-09T08:06:47.953Z"
   },
   {
    "duration": 23,
    "start_time": "2023-11-09T08:06:47.960Z"
   },
   {
    "duration": 18,
    "start_time": "2023-11-09T08:06:47.986Z"
   },
   {
    "duration": 818,
    "start_time": "2023-11-09T08:06:48.005Z"
   },
   {
    "duration": 123,
    "start_time": "2023-11-09T08:06:48.825Z"
   },
   {
    "duration": 310,
    "start_time": "2023-11-09T08:06:48.950Z"
   },
   {
    "duration": 213,
    "start_time": "2023-11-09T08:06:49.262Z"
   },
   {
    "duration": 295,
    "start_time": "2023-11-09T08:06:49.476Z"
   },
   {
    "duration": 24,
    "start_time": "2023-11-09T08:06:49.772Z"
   },
   {
    "duration": 15,
    "start_time": "2023-11-09T08:06:49.798Z"
   },
   {
    "duration": 475,
    "start_time": "2023-11-09T08:06:49.815Z"
   },
   {
    "duration": 266,
    "start_time": "2023-11-09T08:06:50.292Z"
   },
   {
    "duration": 11,
    "start_time": "2023-11-09T08:06:50.560Z"
   },
   {
    "duration": 17,
    "start_time": "2023-11-09T08:06:50.574Z"
   },
   {
    "duration": 11,
    "start_time": "2023-11-09T08:06:50.593Z"
   },
   {
    "duration": 17,
    "start_time": "2023-11-09T08:06:50.606Z"
   },
   {
    "duration": 32,
    "start_time": "2023-11-09T08:06:50.625Z"
   },
   {
    "duration": 21,
    "start_time": "2023-11-09T08:06:50.659Z"
   },
   {
    "duration": 12,
    "start_time": "2023-11-09T08:06:50.682Z"
   },
   {
    "duration": 13,
    "start_time": "2023-11-09T08:06:50.695Z"
   },
   {
    "duration": 18,
    "start_time": "2023-11-09T08:06:50.711Z"
   },
   {
    "duration": 237,
    "start_time": "2023-11-09T08:08:22.532Z"
   },
   {
    "duration": 108,
    "start_time": "2023-11-09T08:08:53.455Z"
   },
   {
    "duration": 12,
    "start_time": "2023-11-09T08:10:05.404Z"
   },
   {
    "duration": 9,
    "start_time": "2023-11-09T08:12:03.098Z"
   },
   {
    "duration": 9,
    "start_time": "2023-11-09T08:12:07.247Z"
   },
   {
    "duration": 3,
    "start_time": "2023-11-09T08:12:32.294Z"
   },
   {
    "duration": 118,
    "start_time": "2023-11-09T08:12:38.317Z"
   },
   {
    "duration": 127,
    "start_time": "2023-11-09T08:12:53.682Z"
   },
   {
    "duration": 8,
    "start_time": "2023-11-09T08:14:13.502Z"
   },
   {
    "duration": 1118,
    "start_time": "2023-11-09T08:45:49.298Z"
   },
   {
    "duration": 127,
    "start_time": "2023-11-09T08:45:50.418Z"
   },
   {
    "duration": 23,
    "start_time": "2023-11-09T08:45:50.547Z"
   },
   {
    "duration": 28,
    "start_time": "2023-11-09T08:45:50.572Z"
   },
   {
    "duration": 11,
    "start_time": "2023-11-09T08:45:50.604Z"
   },
   {
    "duration": 8,
    "start_time": "2023-11-09T08:45:50.646Z"
   },
   {
    "duration": 27,
    "start_time": "2023-11-09T08:45:50.656Z"
   },
   {
    "duration": 14,
    "start_time": "2023-11-09T08:45:50.685Z"
   },
   {
    "duration": 29,
    "start_time": "2023-11-09T08:45:50.700Z"
   },
   {
    "duration": 22,
    "start_time": "2023-11-09T08:45:50.731Z"
   },
   {
    "duration": 351,
    "start_time": "2023-11-09T08:45:50.755Z"
   },
   {
    "duration": 124,
    "start_time": "2023-11-09T08:45:51.107Z"
   },
   {
    "duration": 315,
    "start_time": "2023-11-09T08:45:51.233Z"
   },
   {
    "duration": 208,
    "start_time": "2023-11-09T08:45:51.551Z"
   },
   {
    "duration": 225,
    "start_time": "2023-11-09T08:45:51.761Z"
   },
   {
    "duration": 0,
    "start_time": "2023-11-09T08:45:51.987Z"
   },
   {
    "duration": 0,
    "start_time": "2023-11-09T08:45:51.989Z"
   },
   {
    "duration": 0,
    "start_time": "2023-11-09T08:45:51.990Z"
   },
   {
    "duration": 0,
    "start_time": "2023-11-09T08:45:51.991Z"
   },
   {
    "duration": 0,
    "start_time": "2023-11-09T08:45:51.992Z"
   },
   {
    "duration": 0,
    "start_time": "2023-11-09T08:45:51.994Z"
   },
   {
    "duration": 0,
    "start_time": "2023-11-09T08:45:51.995Z"
   },
   {
    "duration": 0,
    "start_time": "2023-11-09T08:45:51.996Z"
   },
   {
    "duration": 0,
    "start_time": "2023-11-09T08:45:51.997Z"
   },
   {
    "duration": 0,
    "start_time": "2023-11-09T08:45:51.998Z"
   },
   {
    "duration": 0,
    "start_time": "2023-11-09T08:45:51.999Z"
   },
   {
    "duration": 0,
    "start_time": "2023-11-09T08:45:52.001Z"
   },
   {
    "duration": 0,
    "start_time": "2023-11-09T08:45:52.002Z"
   },
   {
    "duration": 0,
    "start_time": "2023-11-09T08:45:52.003Z"
   },
   {
    "duration": 0,
    "start_time": "2023-11-09T08:45:52.004Z"
   },
   {
    "duration": 4,
    "start_time": "2023-11-09T08:46:58.236Z"
   },
   {
    "duration": 1095,
    "start_time": "2023-11-09T08:47:09.750Z"
   },
   {
    "duration": 123,
    "start_time": "2023-11-09T08:47:10.847Z"
   },
   {
    "duration": 24,
    "start_time": "2023-11-09T08:47:10.972Z"
   },
   {
    "duration": 26,
    "start_time": "2023-11-09T08:47:10.999Z"
   },
   {
    "duration": 23,
    "start_time": "2023-11-09T08:47:11.027Z"
   },
   {
    "duration": 6,
    "start_time": "2023-11-09T08:47:11.053Z"
   },
   {
    "duration": 10,
    "start_time": "2023-11-09T08:47:11.061Z"
   },
   {
    "duration": 5,
    "start_time": "2023-11-09T08:47:11.073Z"
   },
   {
    "duration": 6,
    "start_time": "2023-11-09T08:47:11.079Z"
   },
   {
    "duration": 12,
    "start_time": "2023-11-09T08:47:11.088Z"
   },
   {
    "duration": 360,
    "start_time": "2023-11-09T08:47:11.102Z"
   },
   {
    "duration": 132,
    "start_time": "2023-11-09T08:47:11.463Z"
   },
   {
    "duration": 309,
    "start_time": "2023-11-09T08:47:11.597Z"
   },
   {
    "duration": 213,
    "start_time": "2023-11-09T08:47:11.908Z"
   },
   {
    "duration": 233,
    "start_time": "2023-11-09T08:47:12.124Z"
   },
   {
    "duration": 0,
    "start_time": "2023-11-09T08:47:12.359Z"
   },
   {
    "duration": 0,
    "start_time": "2023-11-09T08:47:12.359Z"
   },
   {
    "duration": 0,
    "start_time": "2023-11-09T08:47:12.361Z"
   },
   {
    "duration": 0,
    "start_time": "2023-11-09T08:47:12.362Z"
   },
   {
    "duration": 0,
    "start_time": "2023-11-09T08:47:12.363Z"
   },
   {
    "duration": 0,
    "start_time": "2023-11-09T08:47:12.364Z"
   },
   {
    "duration": 0,
    "start_time": "2023-11-09T08:47:12.366Z"
   },
   {
    "duration": 0,
    "start_time": "2023-11-09T08:47:12.367Z"
   },
   {
    "duration": 0,
    "start_time": "2023-11-09T08:47:12.368Z"
   },
   {
    "duration": 0,
    "start_time": "2023-11-09T08:47:12.369Z"
   },
   {
    "duration": 0,
    "start_time": "2023-11-09T08:47:12.371Z"
   },
   {
    "duration": 0,
    "start_time": "2023-11-09T08:47:12.372Z"
   },
   {
    "duration": 0,
    "start_time": "2023-11-09T08:47:12.373Z"
   },
   {
    "duration": 0,
    "start_time": "2023-11-09T08:47:12.374Z"
   },
   {
    "duration": 0,
    "start_time": "2023-11-09T08:47:12.375Z"
   },
   {
    "duration": 1118,
    "start_time": "2023-11-09T08:47:37.803Z"
   },
   {
    "duration": 124,
    "start_time": "2023-11-09T08:47:38.923Z"
   },
   {
    "duration": 22,
    "start_time": "2023-11-09T08:47:39.049Z"
   },
   {
    "duration": 27,
    "start_time": "2023-11-09T08:47:39.072Z"
   },
   {
    "duration": 11,
    "start_time": "2023-11-09T08:47:39.101Z"
   },
   {
    "duration": 35,
    "start_time": "2023-11-09T08:47:39.113Z"
   },
   {
    "duration": 10,
    "start_time": "2023-11-09T08:47:39.150Z"
   },
   {
    "duration": 11,
    "start_time": "2023-11-09T08:47:39.162Z"
   },
   {
    "duration": 16,
    "start_time": "2023-11-09T08:47:39.174Z"
   },
   {
    "duration": 25,
    "start_time": "2023-11-09T08:47:39.192Z"
   },
   {
    "duration": 343,
    "start_time": "2023-11-09T08:47:39.219Z"
   },
   {
    "duration": 118,
    "start_time": "2023-11-09T08:47:39.564Z"
   },
   {
    "duration": 314,
    "start_time": "2023-11-09T08:47:39.684Z"
   },
   {
    "duration": 207,
    "start_time": "2023-11-09T08:47:40.001Z"
   },
   {
    "duration": 281,
    "start_time": "2023-11-09T08:47:40.210Z"
   },
   {
    "duration": 4,
    "start_time": "2023-11-09T08:47:40.493Z"
   },
   {
    "duration": 39,
    "start_time": "2023-11-09T08:47:40.499Z"
   },
   {
    "duration": 15,
    "start_time": "2023-11-09T08:47:40.540Z"
   },
   {
    "duration": 322,
    "start_time": "2023-11-09T08:47:40.557Z"
   },
   {
    "duration": 240,
    "start_time": "2023-11-09T08:47:40.880Z"
   },
   {
    "duration": 7,
    "start_time": "2023-11-09T08:47:41.122Z"
   },
   {
    "duration": 25,
    "start_time": "2023-11-09T08:47:41.131Z"
   },
   {
    "duration": 10,
    "start_time": "2023-11-09T08:47:41.158Z"
   },
   {
    "duration": 7,
    "start_time": "2023-11-09T08:47:41.170Z"
   },
   {
    "duration": 20,
    "start_time": "2023-11-09T08:47:41.178Z"
   },
   {
    "duration": 25,
    "start_time": "2023-11-09T08:47:41.199Z"
   },
   {
    "duration": 9,
    "start_time": "2023-11-09T08:47:41.226Z"
   },
   {
    "duration": 5,
    "start_time": "2023-11-09T08:47:41.248Z"
   },
   {
    "duration": 10,
    "start_time": "2023-11-09T08:47:41.255Z"
   },
   {
    "duration": 5,
    "start_time": "2023-11-09T08:48:05.075Z"
   },
   {
    "duration": 6,
    "start_time": "2023-11-09T08:48:21.745Z"
   },
   {
    "duration": 5,
    "start_time": "2023-11-09T08:48:36.252Z"
   },
   {
    "duration": 1168,
    "start_time": "2023-11-09T15:31:25.851Z"
   },
   {
    "duration": 335,
    "start_time": "2023-11-09T15:31:27.022Z"
   },
   {
    "duration": 19,
    "start_time": "2023-11-09T15:31:27.359Z"
   },
   {
    "duration": 22,
    "start_time": "2023-11-09T15:31:27.379Z"
   },
   {
    "duration": 14,
    "start_time": "2023-11-09T15:31:27.403Z"
   },
   {
    "duration": 9,
    "start_time": "2023-11-09T15:31:27.427Z"
   },
   {
    "duration": 17,
    "start_time": "2023-11-09T15:31:27.438Z"
   },
   {
    "duration": 15,
    "start_time": "2023-11-09T15:31:27.456Z"
   },
   {
    "duration": 11,
    "start_time": "2023-11-09T15:31:27.472Z"
   },
   {
    "duration": 47,
    "start_time": "2023-11-09T15:31:27.484Z"
   },
   {
    "duration": 297,
    "start_time": "2023-11-09T15:31:27.533Z"
   },
   {
    "duration": 113,
    "start_time": "2023-11-09T15:31:27.831Z"
   },
   {
    "duration": 270,
    "start_time": "2023-11-09T15:31:27.946Z"
   },
   {
    "duration": 166,
    "start_time": "2023-11-09T15:31:28.219Z"
   },
   {
    "duration": 234,
    "start_time": "2023-11-09T15:31:28.386Z"
   },
   {
    "duration": 4,
    "start_time": "2023-11-09T15:31:28.622Z"
   },
   {
    "duration": 30,
    "start_time": "2023-11-09T15:31:28.627Z"
   },
   {
    "duration": 3,
    "start_time": "2023-11-09T15:31:28.659Z"
   },
   {
    "duration": 16,
    "start_time": "2023-11-09T15:31:28.663Z"
   },
   {
    "duration": 268,
    "start_time": "2023-11-09T15:31:28.681Z"
   },
   {
    "duration": 200,
    "start_time": "2023-11-09T15:31:28.951Z"
   },
   {
    "duration": 6,
    "start_time": "2023-11-09T15:31:29.153Z"
   },
   {
    "duration": 28,
    "start_time": "2023-11-09T15:31:29.161Z"
   },
   {
    "duration": 51,
    "start_time": "2023-11-09T15:31:29.191Z"
   },
   {
    "duration": 15,
    "start_time": "2023-11-09T15:31:29.243Z"
   },
   {
    "duration": 14,
    "start_time": "2023-11-09T15:31:29.260Z"
   },
   {
    "duration": 23,
    "start_time": "2023-11-09T15:31:29.275Z"
   },
   {
    "duration": 21,
    "start_time": "2023-11-09T15:31:29.300Z"
   },
   {
    "duration": 13,
    "start_time": "2023-11-09T15:31:29.323Z"
   },
   {
    "duration": 28,
    "start_time": "2023-11-09T15:31:29.337Z"
   },
   {
    "duration": 1281,
    "start_time": "2023-11-10T07:50:07.983Z"
   },
   {
    "duration": 367,
    "start_time": "2023-11-10T07:50:09.266Z"
   },
   {
    "duration": 34,
    "start_time": "2023-11-10T07:50:09.635Z"
   },
   {
    "duration": 29,
    "start_time": "2023-11-10T07:50:09.672Z"
   },
   {
    "duration": 24,
    "start_time": "2023-11-10T07:50:09.703Z"
   },
   {
    "duration": 17,
    "start_time": "2023-11-10T07:50:09.729Z"
   },
   {
    "duration": 10,
    "start_time": "2023-11-10T07:50:09.748Z"
   },
   {
    "duration": 5,
    "start_time": "2023-11-10T07:50:09.760Z"
   },
   {
    "duration": 21,
    "start_time": "2023-11-10T07:50:09.767Z"
   },
   {
    "duration": 29,
    "start_time": "2023-11-10T07:50:09.790Z"
   },
   {
    "duration": 343,
    "start_time": "2023-11-10T07:50:09.820Z"
   },
   {
    "duration": 129,
    "start_time": "2023-11-10T07:50:10.165Z"
   },
   {
    "duration": 306,
    "start_time": "2023-11-10T07:50:10.295Z"
   },
   {
    "duration": 222,
    "start_time": "2023-11-10T07:50:10.603Z"
   },
   {
    "duration": 308,
    "start_time": "2023-11-10T07:50:10.827Z"
   },
   {
    "duration": 5,
    "start_time": "2023-11-10T07:50:11.144Z"
   },
   {
    "duration": 25,
    "start_time": "2023-11-10T07:50:11.151Z"
   },
   {
    "duration": 8,
    "start_time": "2023-11-10T07:50:11.178Z"
   },
   {
    "duration": 16,
    "start_time": "2023-11-10T07:50:11.188Z"
   },
   {
    "duration": 353,
    "start_time": "2023-11-10T07:50:11.206Z"
   },
   {
    "duration": 241,
    "start_time": "2023-11-10T07:50:11.562Z"
   },
   {
    "duration": 8,
    "start_time": "2023-11-10T07:50:11.805Z"
   },
   {
    "duration": 28,
    "start_time": "2023-11-10T07:50:11.815Z"
   },
   {
    "duration": 11,
    "start_time": "2023-11-10T07:50:11.845Z"
   },
   {
    "duration": 25,
    "start_time": "2023-11-10T07:50:11.857Z"
   },
   {
    "duration": 21,
    "start_time": "2023-11-10T07:50:11.884Z"
   },
   {
    "duration": 30,
    "start_time": "2023-11-10T07:50:11.907Z"
   },
   {
    "duration": 16,
    "start_time": "2023-11-10T07:50:11.940Z"
   },
   {
    "duration": 15,
    "start_time": "2023-11-10T07:50:11.958Z"
   },
   {
    "duration": 50,
    "start_time": "2023-11-10T07:50:11.975Z"
   },
   {
    "duration": 9,
    "start_time": "2023-11-10T07:50:28.142Z"
   },
   {
    "duration": 40,
    "start_time": "2023-11-10T08:00:21.219Z"
   },
   {
    "duration": 11,
    "start_time": "2023-11-10T08:00:34.851Z"
   },
   {
    "duration": 222,
    "start_time": "2023-11-10T08:00:37.313Z"
   },
   {
    "duration": 8,
    "start_time": "2023-11-10T08:00:45.393Z"
   },
   {
    "duration": 518,
    "start_time": "2023-11-10T08:01:28.963Z"
   },
   {
    "duration": 645,
    "start_time": "2023-11-10T08:01:35.385Z"
   },
   {
    "duration": 72,
    "start_time": "2023-11-10T08:02:10.915Z"
   },
   {
    "duration": 666,
    "start_time": "2023-11-10T08:02:18.834Z"
   },
   {
    "duration": 42,
    "start_time": "2023-11-10T08:09:16.000Z"
   },
   {
    "duration": 48,
    "start_time": "2023-11-10T08:09:28.547Z"
   },
   {
    "duration": 4,
    "start_time": "2023-11-10T08:14:33.109Z"
   },
   {
    "duration": 11,
    "start_time": "2023-11-10T08:14:46.420Z"
   },
   {
    "duration": 14,
    "start_time": "2023-11-10T08:15:09.780Z"
   },
   {
    "duration": 1588,
    "start_time": "2023-11-10T08:22:04.415Z"
   },
   {
    "duration": 322,
    "start_time": "2023-11-10T08:22:18.415Z"
   },
   {
    "duration": 1675,
    "start_time": "2023-11-10T08:23:09.816Z"
   },
   {
    "duration": 342,
    "start_time": "2023-11-10T08:23:50.002Z"
   },
   {
    "duration": 412,
    "start_time": "2023-11-10T08:23:53.087Z"
   },
   {
    "duration": 729,
    "start_time": "2023-11-10T08:24:13.512Z"
   },
   {
    "duration": 456,
    "start_time": "2023-11-10T08:24:53.945Z"
   },
   {
    "duration": 346,
    "start_time": "2023-11-10T08:25:03.226Z"
   },
   {
    "duration": 114,
    "start_time": "2023-11-10T08:42:03.085Z"
   },
   {
    "duration": 124,
    "start_time": "2023-11-10T08:42:45.661Z"
   },
   {
    "duration": 5,
    "start_time": "2023-11-10T08:47:18.294Z"
   },
   {
    "duration": 4,
    "start_time": "2023-11-10T08:47:26.439Z"
   },
   {
    "duration": 110,
    "start_time": "2023-11-10T08:47:36.087Z"
   },
   {
    "duration": 100,
    "start_time": "2023-11-10T08:48:59.258Z"
   },
   {
    "duration": 110,
    "start_time": "2023-11-10T08:49:10.689Z"
   },
   {
    "duration": 154,
    "start_time": "2023-11-10T08:50:19.008Z"
   },
   {
    "duration": 148,
    "start_time": "2023-11-10T08:50:53.755Z"
   },
   {
    "duration": 11,
    "start_time": "2023-11-10T08:51:50.682Z"
   },
   {
    "duration": 235,
    "start_time": "2023-11-10T08:51:55.592Z"
   },
   {
    "duration": 136,
    "start_time": "2023-11-10T08:58:08.290Z"
   },
   {
    "duration": 98,
    "start_time": "2023-11-10T09:00:13.210Z"
   },
   {
    "duration": 152,
    "start_time": "2023-11-10T09:00:55.247Z"
   },
   {
    "duration": 86,
    "start_time": "2023-11-10T09:01:11.564Z"
   },
   {
    "duration": 158,
    "start_time": "2023-11-10T09:01:26.426Z"
   },
   {
    "duration": 159,
    "start_time": "2023-11-10T09:01:52.410Z"
   },
   {
    "duration": 132,
    "start_time": "2023-11-10T09:02:05.804Z"
   },
   {
    "duration": 335,
    "start_time": "2023-11-10T09:03:39.488Z"
   },
   {
    "duration": 1344,
    "start_time": "2023-11-10T10:19:39.466Z"
   },
   {
    "duration": 271,
    "start_time": "2023-11-10T10:19:40.812Z"
   },
   {
    "duration": 22,
    "start_time": "2023-11-10T10:19:41.085Z"
   },
   {
    "duration": 25,
    "start_time": "2023-11-10T10:19:41.109Z"
   },
   {
    "duration": 22,
    "start_time": "2023-11-10T10:19:41.136Z"
   },
   {
    "duration": 7,
    "start_time": "2023-11-10T10:19:41.160Z"
   },
   {
    "duration": 12,
    "start_time": "2023-11-10T10:19:41.169Z"
   },
   {
    "duration": 36,
    "start_time": "2023-11-10T10:19:41.182Z"
   },
   {
    "duration": 6,
    "start_time": "2023-11-10T10:19:41.220Z"
   },
   {
    "duration": 17,
    "start_time": "2023-11-10T10:19:41.229Z"
   },
   {
    "duration": 15,
    "start_time": "2023-11-10T10:19:41.248Z"
   },
   {
    "duration": 333,
    "start_time": "2023-11-10T10:19:41.265Z"
   },
   {
    "duration": 148,
    "start_time": "2023-11-10T10:19:41.601Z"
   },
   {
    "duration": 304,
    "start_time": "2023-11-10T10:19:41.751Z"
   },
   {
    "duration": 194,
    "start_time": "2023-11-10T10:19:42.057Z"
   },
   {
    "duration": 286,
    "start_time": "2023-11-10T10:19:42.253Z"
   },
   {
    "duration": 4,
    "start_time": "2023-11-10T10:19:42.541Z"
   },
   {
    "duration": 22,
    "start_time": "2023-11-10T10:19:42.547Z"
   },
   {
    "duration": 8,
    "start_time": "2023-11-10T10:19:42.571Z"
   },
   {
    "duration": 63,
    "start_time": "2023-11-10T10:19:42.581Z"
   },
   {
    "duration": 706,
    "start_time": "2023-11-10T10:19:42.645Z"
   },
   {
    "duration": 29,
    "start_time": "2023-11-10T10:19:43.353Z"
   },
   {
    "duration": 9,
    "start_time": "2023-11-10T10:19:43.383Z"
   },
   {
    "duration": 224,
    "start_time": "2023-11-10T10:19:43.394Z"
   },
   {
    "duration": 7,
    "start_time": "2023-11-10T10:19:43.620Z"
   },
   {
    "duration": 37,
    "start_time": "2023-11-10T10:19:43.628Z"
   },
   {
    "duration": 14,
    "start_time": "2023-11-10T10:19:43.666Z"
   },
   {
    "duration": 12,
    "start_time": "2023-11-10T10:19:43.683Z"
   },
   {
    "duration": 22,
    "start_time": "2023-11-10T10:19:43.696Z"
   },
   {
    "duration": 23,
    "start_time": "2023-11-10T10:19:43.720Z"
   },
   {
    "duration": 8,
    "start_time": "2023-11-10T10:19:43.745Z"
   },
   {
    "duration": 29,
    "start_time": "2023-11-10T10:19:43.755Z"
   },
   {
    "duration": 7,
    "start_time": "2023-11-10T10:19:43.786Z"
   },
   {
    "duration": 47,
    "start_time": "2023-11-10T14:11:53.409Z"
   },
   {
    "duration": 6,
    "start_time": "2023-11-10T14:12:00.107Z"
   },
   {
    "duration": 1199,
    "start_time": "2023-11-10T14:12:11.400Z"
   },
   {
    "duration": 262,
    "start_time": "2023-11-10T14:12:12.601Z"
   },
   {
    "duration": 20,
    "start_time": "2023-11-10T14:12:12.865Z"
   },
   {
    "duration": 22,
    "start_time": "2023-11-10T14:12:12.887Z"
   },
   {
    "duration": 9,
    "start_time": "2023-11-10T14:12:12.910Z"
   },
   {
    "duration": 4,
    "start_time": "2023-11-10T14:12:12.921Z"
   },
   {
    "duration": 19,
    "start_time": "2023-11-10T14:12:12.926Z"
   },
   {
    "duration": 10,
    "start_time": "2023-11-10T14:12:12.946Z"
   },
   {
    "duration": 6,
    "start_time": "2023-11-10T14:12:12.957Z"
   },
   {
    "duration": 11,
    "start_time": "2023-11-10T14:12:12.966Z"
   },
   {
    "duration": 17,
    "start_time": "2023-11-10T14:12:12.978Z"
   },
   {
    "duration": 299,
    "start_time": "2023-11-10T14:12:12.996Z"
   },
   {
    "duration": 119,
    "start_time": "2023-11-10T14:12:13.297Z"
   },
   {
    "duration": 277,
    "start_time": "2023-11-10T14:12:13.417Z"
   },
   {
    "duration": 197,
    "start_time": "2023-11-10T14:12:13.696Z"
   },
   {
    "duration": 233,
    "start_time": "2023-11-10T14:12:13.894Z"
   },
   {
    "duration": 10,
    "start_time": "2023-11-10T14:12:14.129Z"
   },
   {
    "duration": 23,
    "start_time": "2023-11-10T14:12:14.141Z"
   },
   {
    "duration": 4,
    "start_time": "2023-11-10T14:12:14.166Z"
   },
   {
    "duration": 44,
    "start_time": "2023-11-10T14:12:14.172Z"
   },
   {
    "duration": 693,
    "start_time": "2023-11-10T14:12:14.218Z"
   },
   {
    "duration": 36,
    "start_time": "2023-11-10T14:12:14.913Z"
   },
   {
    "duration": 8,
    "start_time": "2023-11-10T14:12:14.951Z"
   },
   {
    "duration": 221,
    "start_time": "2023-11-10T14:12:14.960Z"
   },
   {
    "duration": 6,
    "start_time": "2023-11-10T14:12:15.183Z"
   },
   {
    "duration": 32,
    "start_time": "2023-11-10T14:12:15.190Z"
   },
   {
    "duration": 10,
    "start_time": "2023-11-10T14:12:15.223Z"
   },
   {
    "duration": 31,
    "start_time": "2023-11-10T14:12:15.235Z"
   },
   {
    "duration": 21,
    "start_time": "2023-11-10T14:12:15.268Z"
   },
   {
    "duration": 46,
    "start_time": "2023-11-10T14:12:15.291Z"
   },
   {
    "duration": 26,
    "start_time": "2023-11-10T14:12:15.339Z"
   },
   {
    "duration": 5,
    "start_time": "2023-11-10T14:12:15.366Z"
   },
   {
    "duration": 18,
    "start_time": "2023-11-10T14:12:15.372Z"
   },
   {
    "duration": 218,
    "start_time": "2023-11-10T14:13:41.418Z"
   },
   {
    "duration": 9,
    "start_time": "2023-11-10T14:15:00.747Z"
   },
   {
    "duration": 1221,
    "start_time": "2023-11-10T14:22:52.135Z"
   },
   {
    "duration": 261,
    "start_time": "2023-11-10T14:22:53.358Z"
   },
   {
    "duration": 20,
    "start_time": "2023-11-10T14:22:53.621Z"
   },
   {
    "duration": 25,
    "start_time": "2023-11-10T14:22:53.643Z"
   },
   {
    "duration": 9,
    "start_time": "2023-11-10T14:22:53.669Z"
   },
   {
    "duration": 7,
    "start_time": "2023-11-10T14:22:53.680Z"
   },
   {
    "duration": 12,
    "start_time": "2023-11-10T14:22:53.692Z"
   },
   {
    "duration": 41,
    "start_time": "2023-11-10T14:22:53.706Z"
   },
   {
    "duration": 6,
    "start_time": "2023-11-10T14:22:53.749Z"
   },
   {
    "duration": 4,
    "start_time": "2023-11-10T14:22:53.758Z"
   },
   {
    "duration": 11,
    "start_time": "2023-11-10T14:22:53.763Z"
   },
   {
    "duration": 332,
    "start_time": "2023-11-10T14:22:53.775Z"
   },
   {
    "duration": 121,
    "start_time": "2023-11-10T14:22:54.109Z"
   },
   {
    "duration": 301,
    "start_time": "2023-11-10T14:22:54.232Z"
   },
   {
    "duration": 182,
    "start_time": "2023-11-10T14:22:54.534Z"
   },
   {
    "duration": 241,
    "start_time": "2023-11-10T14:22:54.718Z"
   },
   {
    "duration": 4,
    "start_time": "2023-11-10T14:22:54.961Z"
   },
   {
    "duration": 23,
    "start_time": "2023-11-10T14:22:54.966Z"
   },
   {
    "duration": 3,
    "start_time": "2023-11-10T14:22:54.991Z"
   },
   {
    "duration": 54,
    "start_time": "2023-11-10T14:22:54.995Z"
   },
   {
    "duration": 614,
    "start_time": "2023-11-10T14:22:55.050Z"
   },
   {
    "duration": 25,
    "start_time": "2023-11-10T14:22:55.665Z"
   },
   {
    "duration": 6,
    "start_time": "2023-11-10T14:22:55.692Z"
   },
   {
    "duration": 113,
    "start_time": "2023-11-10T14:22:55.700Z"
   },
   {
    "duration": 0,
    "start_time": "2023-11-10T14:22:55.815Z"
   },
   {
    "duration": 0,
    "start_time": "2023-11-10T14:22:55.816Z"
   },
   {
    "duration": 0,
    "start_time": "2023-11-10T14:22:55.817Z"
   },
   {
    "duration": 0,
    "start_time": "2023-11-10T14:22:55.818Z"
   },
   {
    "duration": 0,
    "start_time": "2023-11-10T14:22:55.819Z"
   },
   {
    "duration": 0,
    "start_time": "2023-11-10T14:22:55.820Z"
   },
   {
    "duration": 0,
    "start_time": "2023-11-10T14:22:55.821Z"
   },
   {
    "duration": 0,
    "start_time": "2023-11-10T14:22:55.821Z"
   },
   {
    "duration": 0,
    "start_time": "2023-11-10T14:22:55.822Z"
   },
   {
    "duration": 244,
    "start_time": "2023-11-10T14:23:34.217Z"
   },
   {
    "duration": 24,
    "start_time": "2023-11-10T14:23:38.032Z"
   },
   {
    "duration": 951,
    "start_time": "2023-11-10T14:23:48.901Z"
   },
   {
    "duration": 90,
    "start_time": "2023-11-10T14:23:49.854Z"
   },
   {
    "duration": 21,
    "start_time": "2023-11-10T14:23:49.949Z"
   },
   {
    "duration": 22,
    "start_time": "2023-11-10T14:23:49.972Z"
   },
   {
    "duration": 10,
    "start_time": "2023-11-10T14:23:49.997Z"
   },
   {
    "duration": 4,
    "start_time": "2023-11-10T14:23:50.008Z"
   },
   {
    "duration": 42,
    "start_time": "2023-11-10T14:23:50.014Z"
   },
   {
    "duration": 8,
    "start_time": "2023-11-10T14:23:50.057Z"
   },
   {
    "duration": 5,
    "start_time": "2023-11-10T14:23:50.066Z"
   },
   {
    "duration": 7,
    "start_time": "2023-11-10T14:23:50.072Z"
   },
   {
    "duration": 19,
    "start_time": "2023-11-10T14:23:50.081Z"
   },
   {
    "duration": 313,
    "start_time": "2023-11-10T14:23:50.102Z"
   },
   {
    "duration": 127,
    "start_time": "2023-11-10T14:23:50.416Z"
   },
   {
    "duration": 258,
    "start_time": "2023-11-10T14:23:50.547Z"
   },
   {
    "duration": 177,
    "start_time": "2023-11-10T14:23:50.806Z"
   },
   {
    "duration": 236,
    "start_time": "2023-11-10T14:23:50.985Z"
   },
   {
    "duration": 4,
    "start_time": "2023-11-10T14:23:51.222Z"
   },
   {
    "duration": 29,
    "start_time": "2023-11-10T14:23:51.227Z"
   },
   {
    "duration": 4,
    "start_time": "2023-11-10T14:23:51.257Z"
   },
   {
    "duration": 50,
    "start_time": "2023-11-10T14:23:51.262Z"
   },
   {
    "duration": 634,
    "start_time": "2023-11-10T14:23:51.314Z"
   },
   {
    "duration": 25,
    "start_time": "2023-11-10T14:23:51.951Z"
   },
   {
    "duration": 6,
    "start_time": "2023-11-10T14:23:51.978Z"
   },
   {
    "duration": 219,
    "start_time": "2023-11-10T14:23:51.986Z"
   },
   {
    "duration": 10,
    "start_time": "2023-11-10T14:23:52.206Z"
   },
   {
    "duration": 29,
    "start_time": "2023-11-10T14:23:52.217Z"
   },
   {
    "duration": 16,
    "start_time": "2023-11-10T14:23:52.247Z"
   },
   {
    "duration": 6,
    "start_time": "2023-11-10T14:23:52.264Z"
   },
   {
    "duration": 37,
    "start_time": "2023-11-10T14:23:52.272Z"
   },
   {
    "duration": 16,
    "start_time": "2023-11-10T14:23:52.310Z"
   },
   {
    "duration": 7,
    "start_time": "2023-11-10T14:23:52.327Z"
   },
   {
    "duration": 13,
    "start_time": "2023-11-10T14:23:52.336Z"
   },
   {
    "duration": 8,
    "start_time": "2023-11-10T14:23:52.350Z"
   },
   {
    "duration": 1192,
    "start_time": "2023-11-10T20:25:34.297Z"
   },
   {
    "duration": 243,
    "start_time": "2023-11-10T20:25:35.491Z"
   },
   {
    "duration": 19,
    "start_time": "2023-11-10T20:25:35.736Z"
   },
   {
    "duration": 29,
    "start_time": "2023-11-10T20:25:35.757Z"
   },
   {
    "duration": 30,
    "start_time": "2023-11-10T20:25:35.787Z"
   },
   {
    "duration": 7,
    "start_time": "2023-11-10T20:25:35.819Z"
   },
   {
    "duration": 15,
    "start_time": "2023-11-10T20:25:35.827Z"
   },
   {
    "duration": 21,
    "start_time": "2023-11-10T20:25:35.844Z"
   },
   {
    "duration": 18,
    "start_time": "2023-11-10T20:25:35.868Z"
   },
   {
    "duration": 11,
    "start_time": "2023-11-10T20:25:35.888Z"
   },
   {
    "duration": 12,
    "start_time": "2023-11-10T20:25:35.903Z"
   },
   {
    "duration": 339,
    "start_time": "2023-11-10T20:25:35.917Z"
   },
   {
    "duration": 120,
    "start_time": "2023-11-10T20:25:36.257Z"
   },
   {
    "duration": 296,
    "start_time": "2023-11-10T20:25:36.378Z"
   },
   {
    "duration": 194,
    "start_time": "2023-11-10T20:25:36.676Z"
   },
   {
    "duration": 264,
    "start_time": "2023-11-10T20:25:36.871Z"
   },
   {
    "duration": 4,
    "start_time": "2023-11-10T20:25:37.136Z"
   },
   {
    "duration": 33,
    "start_time": "2023-11-10T20:25:37.142Z"
   },
   {
    "duration": 3,
    "start_time": "2023-11-10T20:25:37.177Z"
   },
   {
    "duration": 50,
    "start_time": "2023-11-10T20:25:37.181Z"
   },
   {
    "duration": 662,
    "start_time": "2023-11-10T20:25:37.233Z"
   },
   {
    "duration": 32,
    "start_time": "2023-11-10T20:25:37.899Z"
   },
   {
    "duration": 7,
    "start_time": "2023-11-10T20:25:37.932Z"
   },
   {
    "duration": 227,
    "start_time": "2023-11-10T20:25:37.940Z"
   },
   {
    "duration": 9,
    "start_time": "2023-11-10T20:25:38.169Z"
   },
   {
    "duration": 25,
    "start_time": "2023-11-10T20:25:38.179Z"
   },
   {
    "duration": 11,
    "start_time": "2023-11-10T20:25:38.206Z"
   },
   {
    "duration": 6,
    "start_time": "2023-11-10T20:25:38.220Z"
   },
   {
    "duration": 5,
    "start_time": "2023-11-10T20:25:38.228Z"
   },
   {
    "duration": 22,
    "start_time": "2023-11-10T20:25:38.235Z"
   },
   {
    "duration": 10,
    "start_time": "2023-11-10T20:25:38.258Z"
   },
   {
    "duration": 4,
    "start_time": "2023-11-10T20:25:38.270Z"
   },
   {
    "duration": 25,
    "start_time": "2023-11-10T20:25:38.276Z"
   },
   {
    "duration": 6,
    "start_time": "2023-11-10T20:36:22.561Z"
   },
   {
    "duration": 23,
    "start_time": "2023-11-10T20:37:46.396Z"
   },
   {
    "duration": 17,
    "start_time": "2023-11-10T20:39:07.361Z"
   },
   {
    "duration": 1219,
    "start_time": "2023-11-11T06:21:09.034Z"
   },
   {
    "duration": 248,
    "start_time": "2023-11-11T06:21:10.255Z"
   },
   {
    "duration": 22,
    "start_time": "2023-11-11T06:21:10.504Z"
   },
   {
    "duration": 23,
    "start_time": "2023-11-11T06:21:10.529Z"
   },
   {
    "duration": 10,
    "start_time": "2023-11-11T06:21:10.553Z"
   },
   {
    "duration": 8,
    "start_time": "2023-11-11T06:21:10.564Z"
   },
   {
    "duration": 12,
    "start_time": "2023-11-11T06:21:10.573Z"
   },
   {
    "duration": 5,
    "start_time": "2023-11-11T06:21:10.586Z"
   },
   {
    "duration": 8,
    "start_time": "2023-11-11T06:21:10.593Z"
   },
   {
    "duration": 39,
    "start_time": "2023-11-11T06:21:10.604Z"
   },
   {
    "duration": 4,
    "start_time": "2023-11-11T06:21:10.645Z"
   },
   {
    "duration": 10,
    "start_time": "2023-11-11T06:21:10.651Z"
   },
   {
    "duration": 324,
    "start_time": "2023-11-11T06:21:10.662Z"
   },
   {
    "duration": 129,
    "start_time": "2023-11-11T06:21:10.987Z"
   },
   {
    "duration": 290,
    "start_time": "2023-11-11T06:21:11.118Z"
   },
   {
    "duration": 179,
    "start_time": "2023-11-11T06:21:11.410Z"
   },
   {
    "duration": 261,
    "start_time": "2023-11-11T06:21:11.591Z"
   },
   {
    "duration": 4,
    "start_time": "2023-11-11T06:21:11.853Z"
   },
   {
    "duration": 23,
    "start_time": "2023-11-11T06:21:11.859Z"
   },
   {
    "duration": 3,
    "start_time": "2023-11-11T06:21:11.884Z"
   },
   {
    "duration": 64,
    "start_time": "2023-11-11T06:21:11.889Z"
   },
   {
    "duration": 650,
    "start_time": "2023-11-11T06:21:11.954Z"
   },
   {
    "duration": 25,
    "start_time": "2023-11-11T06:21:12.605Z"
   },
   {
    "duration": 14,
    "start_time": "2023-11-11T06:21:12.632Z"
   },
   {
    "duration": 209,
    "start_time": "2023-11-11T06:21:12.648Z"
   },
   {
    "duration": 11,
    "start_time": "2023-11-11T06:21:12.859Z"
   },
   {
    "duration": 14,
    "start_time": "2023-11-11T06:21:12.872Z"
   },
   {
    "duration": 11,
    "start_time": "2023-11-11T06:21:12.890Z"
   },
   {
    "duration": 9,
    "start_time": "2023-11-11T06:21:12.903Z"
   },
   {
    "duration": 33,
    "start_time": "2023-11-11T06:21:12.914Z"
   },
   {
    "duration": 14,
    "start_time": "2023-11-11T06:21:12.949Z"
   },
   {
    "duration": 9,
    "start_time": "2023-11-11T06:21:12.964Z"
   },
   {
    "duration": 4,
    "start_time": "2023-11-11T06:21:12.975Z"
   },
   {
    "duration": 5,
    "start_time": "2023-11-11T06:21:12.981Z"
   },
   {
    "duration": 712,
    "start_time": "2023-11-11T06:24:04.409Z"
   },
   {
    "duration": 870,
    "start_time": "2023-11-11T06:24:36.728Z"
   },
   {
    "duration": 958,
    "start_time": "2023-11-11T06:24:55.882Z"
   },
   {
    "duration": 1241,
    "start_time": "2023-11-11T06:25:25.738Z"
   },
   {
    "duration": 25,
    "start_time": "2023-11-11T06:28:25.977Z"
   },
   {
    "duration": 7,
    "start_time": "2023-11-11T06:28:27.934Z"
   },
   {
    "duration": 205,
    "start_time": "2023-11-11T06:28:28.542Z"
   },
   {
    "duration": 10,
    "start_time": "2023-11-11T06:28:30.478Z"
   },
   {
    "duration": 11,
    "start_time": "2023-11-11T06:28:47.791Z"
   },
   {
    "duration": 9,
    "start_time": "2023-11-11T06:28:49.023Z"
   },
   {
    "duration": 12,
    "start_time": "2023-11-11T06:28:59.576Z"
   },
   {
    "duration": 15,
    "start_time": "2023-11-11T06:29:10.361Z"
   },
   {
    "duration": 8,
    "start_time": "2023-11-11T06:29:30.724Z"
   },
   {
    "duration": 7,
    "start_time": "2023-11-11T06:29:36.463Z"
   },
   {
    "duration": 8,
    "start_time": "2023-11-11T06:34:25.867Z"
   },
   {
    "duration": 92,
    "start_time": "2023-11-11T06:39:48.208Z"
   },
   {
    "duration": 79,
    "start_time": "2023-11-11T06:42:26.640Z"
   },
   {
    "duration": 4,
    "start_time": "2023-11-11T06:42:34.765Z"
   },
   {
    "duration": 5,
    "start_time": "2023-11-11T06:43:28.521Z"
   },
   {
    "duration": 4,
    "start_time": "2023-11-11T06:43:35.007Z"
   },
   {
    "duration": 1142,
    "start_time": "2023-11-11T06:55:38.198Z"
   },
   {
    "duration": 244,
    "start_time": "2023-11-11T06:55:39.342Z"
   },
   {
    "duration": 22,
    "start_time": "2023-11-11T06:55:39.587Z"
   },
   {
    "duration": 24,
    "start_time": "2023-11-11T06:55:39.610Z"
   },
   {
    "duration": 9,
    "start_time": "2023-11-11T06:55:39.636Z"
   },
   {
    "duration": 7,
    "start_time": "2023-11-11T06:55:39.647Z"
   },
   {
    "duration": 11,
    "start_time": "2023-11-11T06:55:39.656Z"
   },
   {
    "duration": 7,
    "start_time": "2023-11-11T06:55:39.669Z"
   },
   {
    "duration": 9,
    "start_time": "2023-11-11T06:55:39.678Z"
   },
   {
    "duration": 5,
    "start_time": "2023-11-11T06:55:39.689Z"
   },
   {
    "duration": 4,
    "start_time": "2023-11-11T06:55:39.695Z"
   },
   {
    "duration": 52,
    "start_time": "2023-11-11T06:55:39.701Z"
   },
   {
    "duration": 342,
    "start_time": "2023-11-11T06:55:39.754Z"
   },
   {
    "duration": 133,
    "start_time": "2023-11-11T06:55:40.098Z"
   },
   {
    "duration": 289,
    "start_time": "2023-11-11T06:55:40.232Z"
   },
   {
    "duration": 202,
    "start_time": "2023-11-11T06:55:40.522Z"
   },
   {
    "duration": 96,
    "start_time": "2023-11-11T06:55:40.726Z"
   },
   {
    "duration": 272,
    "start_time": "2023-11-11T06:55:40.824Z"
   },
   {
    "duration": 4,
    "start_time": "2023-11-11T06:55:41.098Z"
   },
   {
    "duration": 40,
    "start_time": "2023-11-11T06:55:41.103Z"
   },
   {
    "duration": 5,
    "start_time": "2023-11-11T06:55:41.144Z"
   },
   {
    "duration": 42,
    "start_time": "2023-11-11T06:55:41.151Z"
   },
   {
    "duration": 1240,
    "start_time": "2023-11-11T06:55:41.194Z"
   },
   {
    "duration": 13,
    "start_time": "2023-11-11T06:55:42.442Z"
   },
   {
    "duration": 27,
    "start_time": "2023-11-11T06:55:42.456Z"
   },
   {
    "duration": 7,
    "start_time": "2023-11-11T06:55:42.484Z"
   },
   {
    "duration": 226,
    "start_time": "2023-11-11T06:55:42.493Z"
   },
   {
    "duration": 19,
    "start_time": "2023-11-11T06:55:42.723Z"
   },
   {
    "duration": 16,
    "start_time": "2023-11-11T06:55:42.744Z"
   },
   {
    "duration": 19,
    "start_time": "2023-11-11T06:55:42.761Z"
   },
   {
    "duration": 6,
    "start_time": "2023-11-11T06:55:42.782Z"
   },
   {
    "duration": 20,
    "start_time": "2023-11-11T06:55:42.790Z"
   },
   {
    "duration": 13,
    "start_time": "2023-11-11T06:55:42.811Z"
   },
   {
    "duration": 20,
    "start_time": "2023-11-11T06:55:42.826Z"
   },
   {
    "duration": 5,
    "start_time": "2023-11-11T06:55:42.847Z"
   },
   {
    "duration": 14,
    "start_time": "2023-11-11T06:55:42.853Z"
   },
   {
    "duration": 9,
    "start_time": "2023-11-11T06:56:31.487Z"
   },
   {
    "duration": 7,
    "start_time": "2023-11-11T06:56:42.848Z"
   },
   {
    "duration": 6,
    "start_time": "2023-11-11T06:56:47.627Z"
   },
   {
    "duration": 78,
    "start_time": "2023-11-11T06:58:05.476Z"
   },
   {
    "duration": 1064,
    "start_time": "2023-11-11T07:01:53.324Z"
   },
   {
    "duration": 114,
    "start_time": "2023-11-11T07:01:54.390Z"
   },
   {
    "duration": 19,
    "start_time": "2023-11-11T07:01:54.505Z"
   },
   {
    "duration": 27,
    "start_time": "2023-11-11T07:01:54.526Z"
   },
   {
    "duration": 10,
    "start_time": "2023-11-11T07:01:54.554Z"
   },
   {
    "duration": 7,
    "start_time": "2023-11-11T07:01:54.566Z"
   },
   {
    "duration": 12,
    "start_time": "2023-11-11T07:01:54.574Z"
   },
   {
    "duration": 5,
    "start_time": "2023-11-11T07:01:54.587Z"
   },
   {
    "duration": 9,
    "start_time": "2023-11-11T07:01:54.594Z"
   },
   {
    "duration": 4,
    "start_time": "2023-11-11T07:01:54.605Z"
   },
   {
    "duration": 34,
    "start_time": "2023-11-11T07:01:54.610Z"
   },
   {
    "duration": 9,
    "start_time": "2023-11-11T07:01:54.646Z"
   },
   {
    "duration": 327,
    "start_time": "2023-11-11T07:01:54.656Z"
   },
   {
    "duration": 131,
    "start_time": "2023-11-11T07:01:54.984Z"
   },
   {
    "duration": 322,
    "start_time": "2023-11-11T07:01:55.117Z"
   },
   {
    "duration": 202,
    "start_time": "2023-11-11T07:01:55.442Z"
   },
   {
    "duration": 76,
    "start_time": "2023-11-11T07:01:55.645Z"
   },
   {
    "duration": 276,
    "start_time": "2023-11-11T07:01:55.723Z"
   },
   {
    "duration": 4,
    "start_time": "2023-11-11T07:01:56.001Z"
   },
   {
    "duration": 56,
    "start_time": "2023-11-11T07:01:56.006Z"
   },
   {
    "duration": 4,
    "start_time": "2023-11-11T07:01:56.063Z"
   },
   {
    "duration": 55,
    "start_time": "2023-11-11T07:01:56.069Z"
   },
   {
    "duration": 1253,
    "start_time": "2023-11-11T07:01:56.126Z"
   },
   {
    "duration": 14,
    "start_time": "2023-11-11T07:01:57.380Z"
   },
   {
    "duration": 27,
    "start_time": "2023-11-11T07:01:57.395Z"
   },
   {
    "duration": 22,
    "start_time": "2023-11-11T07:01:57.424Z"
   },
   {
    "duration": 206,
    "start_time": "2023-11-11T07:01:57.448Z"
   },
   {
    "duration": 11,
    "start_time": "2023-11-11T07:01:57.657Z"
   },
   {
    "duration": 19,
    "start_time": "2023-11-11T07:01:57.670Z"
   },
   {
    "duration": 8,
    "start_time": "2023-11-11T07:01:57.691Z"
   },
   {
    "duration": 8,
    "start_time": "2023-11-11T07:01:57.700Z"
   },
   {
    "duration": 32,
    "start_time": "2023-11-11T07:01:57.710Z"
   },
   {
    "duration": 14,
    "start_time": "2023-11-11T07:01:57.744Z"
   },
   {
    "duration": 10,
    "start_time": "2023-11-11T07:01:57.759Z"
   },
   {
    "duration": 7,
    "start_time": "2023-11-11T07:01:57.770Z"
   },
   {
    "duration": 9,
    "start_time": "2023-11-11T07:01:57.779Z"
   },
   {
    "duration": 35,
    "start_time": "2023-11-11T07:02:34.527Z"
   },
   {
    "duration": 36,
    "start_time": "2023-11-11T07:03:08.738Z"
   },
   {
    "duration": 35,
    "start_time": "2023-11-11T07:03:25.824Z"
   },
   {
    "duration": 44,
    "start_time": "2023-11-11T07:03:45.183Z"
   },
   {
    "duration": 147,
    "start_time": "2023-11-11T07:08:08.024Z"
   },
   {
    "duration": 309,
    "start_time": "2023-11-11T07:08:34.337Z"
   },
   {
    "duration": 307,
    "start_time": "2023-11-11T07:09:36.260Z"
   },
   {
    "duration": 328,
    "start_time": "2023-11-11T07:10:03.867Z"
   },
   {
    "duration": 5,
    "start_time": "2023-11-11T08:25:31.380Z"
   },
   {
    "duration": 178,
    "start_time": "2023-11-11T08:25:46.523Z"
   },
   {
    "duration": 1034,
    "start_time": "2023-11-11T08:26:03.271Z"
   },
   {
    "duration": 114,
    "start_time": "2023-11-11T08:26:04.307Z"
   },
   {
    "duration": 19,
    "start_time": "2023-11-11T08:26:04.422Z"
   },
   {
    "duration": 23,
    "start_time": "2023-11-11T08:26:04.442Z"
   },
   {
    "duration": 8,
    "start_time": "2023-11-11T08:26:04.467Z"
   },
   {
    "duration": 7,
    "start_time": "2023-11-11T08:26:04.477Z"
   },
   {
    "duration": 13,
    "start_time": "2023-11-11T08:26:04.485Z"
   },
   {
    "duration": 7,
    "start_time": "2023-11-11T08:26:04.499Z"
   },
   {
    "duration": 42,
    "start_time": "2023-11-11T08:26:04.507Z"
   },
   {
    "duration": 4,
    "start_time": "2023-11-11T08:26:04.551Z"
   },
   {
    "duration": 3,
    "start_time": "2023-11-11T08:26:04.556Z"
   },
   {
    "duration": 8,
    "start_time": "2023-11-11T08:26:04.561Z"
   },
   {
    "duration": 322,
    "start_time": "2023-11-11T08:26:04.570Z"
   },
   {
    "duration": 129,
    "start_time": "2023-11-11T08:26:04.894Z"
   },
   {
    "duration": 293,
    "start_time": "2023-11-11T08:26:05.025Z"
   },
   {
    "duration": 197,
    "start_time": "2023-11-11T08:26:05.320Z"
   },
   {
    "duration": 91,
    "start_time": "2023-11-11T08:26:05.519Z"
   },
   {
    "duration": 282,
    "start_time": "2023-11-11T08:26:05.613Z"
   },
   {
    "duration": 4,
    "start_time": "2023-11-11T08:26:05.897Z"
   },
   {
    "duration": 29,
    "start_time": "2023-11-11T08:26:05.902Z"
   },
   {
    "duration": 11,
    "start_time": "2023-11-11T08:26:05.933Z"
   },
   {
    "duration": 46,
    "start_time": "2023-11-11T08:26:05.946Z"
   },
   {
    "duration": 1265,
    "start_time": "2023-11-11T08:26:05.993Z"
   },
   {
    "duration": 336,
    "start_time": "2023-11-11T08:26:07.260Z"
   },
   {
    "duration": 184,
    "start_time": "2023-11-11T08:26:07.598Z"
   },
   {
    "duration": 13,
    "start_time": "2023-11-11T08:26:07.784Z"
   },
   {
    "duration": 26,
    "start_time": "2023-11-11T08:26:07.798Z"
   },
   {
    "duration": 6,
    "start_time": "2023-11-11T08:26:07.844Z"
   },
   {
    "duration": 211,
    "start_time": "2023-11-11T08:26:07.852Z"
   },
   {
    "duration": 11,
    "start_time": "2023-11-11T08:26:08.064Z"
   },
   {
    "duration": 16,
    "start_time": "2023-11-11T08:26:08.077Z"
   },
   {
    "duration": 13,
    "start_time": "2023-11-11T08:26:08.094Z"
   },
   {
    "duration": 22,
    "start_time": "2023-11-11T08:26:08.109Z"
   },
   {
    "duration": 23,
    "start_time": "2023-11-11T08:26:08.133Z"
   },
   {
    "duration": 14,
    "start_time": "2023-11-11T08:26:08.158Z"
   },
   {
    "duration": 8,
    "start_time": "2023-11-11T08:26:08.174Z"
   },
   {
    "duration": 6,
    "start_time": "2023-11-11T08:26:08.183Z"
   },
   {
    "duration": 10,
    "start_time": "2023-11-11T08:26:08.191Z"
   },
   {
    "duration": 1089,
    "start_time": "2023-11-11T14:25:01.683Z"
   },
   {
    "duration": 257,
    "start_time": "2023-11-11T14:25:02.774Z"
   },
   {
    "duration": 21,
    "start_time": "2023-11-11T14:25:03.033Z"
   },
   {
    "duration": 26,
    "start_time": "2023-11-11T14:25:03.056Z"
   },
   {
    "duration": 31,
    "start_time": "2023-11-11T14:25:03.084Z"
   },
   {
    "duration": 24,
    "start_time": "2023-11-11T14:25:03.117Z"
   },
   {
    "duration": 28,
    "start_time": "2023-11-11T14:25:03.142Z"
   },
   {
    "duration": 13,
    "start_time": "2023-11-11T14:25:03.172Z"
   },
   {
    "duration": 24,
    "start_time": "2023-11-11T14:25:03.186Z"
   },
   {
    "duration": 18,
    "start_time": "2023-11-11T14:25:03.213Z"
   },
   {
    "duration": 23,
    "start_time": "2023-11-11T14:25:03.232Z"
   },
   {
    "duration": 32,
    "start_time": "2023-11-11T14:25:03.257Z"
   },
   {
    "duration": 321,
    "start_time": "2023-11-11T14:25:03.290Z"
   },
   {
    "duration": 131,
    "start_time": "2023-11-11T14:25:03.613Z"
   },
   {
    "duration": 285,
    "start_time": "2023-11-11T14:25:03.745Z"
   },
   {
    "duration": 203,
    "start_time": "2023-11-11T14:25:04.032Z"
   },
   {
    "duration": 92,
    "start_time": "2023-11-11T14:25:04.237Z"
   },
   {
    "duration": 276,
    "start_time": "2023-11-11T14:25:04.331Z"
   },
   {
    "duration": 4,
    "start_time": "2023-11-11T14:25:04.608Z"
   },
   {
    "duration": 29,
    "start_time": "2023-11-11T14:25:04.613Z"
   },
   {
    "duration": 4,
    "start_time": "2023-11-11T14:25:04.643Z"
   },
   {
    "duration": 75,
    "start_time": "2023-11-11T14:25:04.649Z"
   },
   {
    "duration": 1277,
    "start_time": "2023-11-11T14:25:04.725Z"
   },
   {
    "duration": 344,
    "start_time": "2023-11-11T14:25:06.003Z"
   },
   {
    "duration": 190,
    "start_time": "2023-11-11T14:25:06.349Z"
   },
   {
    "duration": 12,
    "start_time": "2023-11-11T14:25:06.541Z"
   },
   {
    "duration": 25,
    "start_time": "2023-11-11T14:25:06.566Z"
   },
   {
    "duration": 6,
    "start_time": "2023-11-11T14:25:06.594Z"
   },
   {
    "duration": 207,
    "start_time": "2023-11-11T14:25:06.602Z"
   },
   {
    "duration": 11,
    "start_time": "2023-11-11T14:25:06.810Z"
   },
   {
    "duration": 15,
    "start_time": "2023-11-11T14:25:06.822Z"
   },
   {
    "duration": 31,
    "start_time": "2023-11-11T14:25:06.838Z"
   },
   {
    "duration": 9,
    "start_time": "2023-11-11T14:25:06.871Z"
   },
   {
    "duration": 137,
    "start_time": "2023-11-11T14:25:06.881Z"
   },
   {
    "duration": 51,
    "start_time": "2023-11-11T14:25:07.019Z"
   },
   {
    "duration": 8,
    "start_time": "2023-11-11T14:25:07.072Z"
   },
   {
    "duration": 6,
    "start_time": "2023-11-11T14:25:07.081Z"
   },
   {
    "duration": 15,
    "start_time": "2023-11-11T14:25:07.088Z"
   },
   {
    "duration": 9,
    "start_time": "2023-11-11T14:31:22.103Z"
   },
   {
    "duration": 9,
    "start_time": "2023-11-11T14:32:34.912Z"
   },
   {
    "duration": 1339,
    "start_time": "2023-11-11T14:38:27.520Z"
   },
   {
    "duration": 367,
    "start_time": "2023-11-11T14:38:28.861Z"
   },
   {
    "duration": 29,
    "start_time": "2023-11-11T14:38:29.230Z"
   },
   {
    "duration": 35,
    "start_time": "2023-11-11T14:38:29.260Z"
   },
   {
    "duration": 11,
    "start_time": "2023-11-11T14:38:29.298Z"
   },
   {
    "duration": 27,
    "start_time": "2023-11-11T14:38:29.311Z"
   },
   {
    "duration": 15,
    "start_time": "2023-11-11T14:38:29.342Z"
   },
   {
    "duration": 6,
    "start_time": "2023-11-11T14:38:29.358Z"
   },
   {
    "duration": 9,
    "start_time": "2023-11-11T14:38:29.366Z"
   },
   {
    "duration": 4,
    "start_time": "2023-11-11T14:38:29.377Z"
   },
   {
    "duration": 4,
    "start_time": "2023-11-11T14:38:29.383Z"
   },
   {
    "duration": 58,
    "start_time": "2023-11-11T14:38:29.389Z"
   },
   {
    "duration": 366,
    "start_time": "2023-11-11T14:38:29.448Z"
   },
   {
    "duration": 145,
    "start_time": "2023-11-11T14:38:29.817Z"
   },
   {
    "duration": 309,
    "start_time": "2023-11-11T14:38:29.964Z"
   },
   {
    "duration": 231,
    "start_time": "2023-11-11T14:38:30.275Z"
   },
   {
    "duration": 103,
    "start_time": "2023-11-11T14:38:30.507Z"
   },
   {
    "duration": 313,
    "start_time": "2023-11-11T14:38:30.612Z"
   },
   {
    "duration": 17,
    "start_time": "2023-11-11T14:38:30.927Z"
   },
   {
    "duration": 76,
    "start_time": "2023-11-11T14:38:30.946Z"
   },
   {
    "duration": 20,
    "start_time": "2023-11-11T14:38:31.023Z"
   },
   {
    "duration": 98,
    "start_time": "2023-11-11T14:38:31.045Z"
   },
   {
    "duration": 1244,
    "start_time": "2023-11-11T14:38:31.146Z"
   },
   {
    "duration": 355,
    "start_time": "2023-11-11T14:38:32.391Z"
   },
   {
    "duration": 182,
    "start_time": "2023-11-11T14:38:32.748Z"
   },
   {
    "duration": 13,
    "start_time": "2023-11-11T14:38:32.943Z"
   },
   {
    "duration": 26,
    "start_time": "2023-11-11T14:38:32.957Z"
   },
   {
    "duration": 6,
    "start_time": "2023-11-11T14:38:32.984Z"
   },
   {
    "duration": 206,
    "start_time": "2023-11-11T14:38:32.992Z"
   },
   {
    "duration": 11,
    "start_time": "2023-11-11T14:38:33.199Z"
   },
   {
    "duration": 41,
    "start_time": "2023-11-11T14:38:33.211Z"
   },
   {
    "duration": 16,
    "start_time": "2023-11-11T14:38:33.253Z"
   },
   {
    "duration": 26,
    "start_time": "2023-11-11T14:38:33.271Z"
   },
   {
    "duration": 23,
    "start_time": "2023-11-11T14:38:33.298Z"
   },
   {
    "duration": 40,
    "start_time": "2023-11-11T14:38:33.323Z"
   },
   {
    "duration": 11,
    "start_time": "2023-11-11T14:38:33.365Z"
   },
   {
    "duration": 27,
    "start_time": "2023-11-11T14:38:33.378Z"
   },
   {
    "duration": 39,
    "start_time": "2023-11-11T14:38:33.406Z"
   },
   {
    "duration": 1650,
    "start_time": "2023-11-11T14:42:34.659Z"
   },
   {
    "duration": 1492,
    "start_time": "2023-11-11T14:44:08.207Z"
   },
   {
    "duration": 1037,
    "start_time": "2023-11-11T14:44:22.248Z"
   },
   {
    "duration": 138,
    "start_time": "2023-11-11T14:44:23.287Z"
   },
   {
    "duration": 28,
    "start_time": "2023-11-11T14:44:23.427Z"
   },
   {
    "duration": 26,
    "start_time": "2023-11-11T14:44:23.457Z"
   },
   {
    "duration": 10,
    "start_time": "2023-11-11T14:44:23.485Z"
   },
   {
    "duration": 40,
    "start_time": "2023-11-11T14:44:23.497Z"
   },
   {
    "duration": 17,
    "start_time": "2023-11-11T14:44:23.540Z"
   },
   {
    "duration": 6,
    "start_time": "2023-11-11T14:44:23.559Z"
   },
   {
    "duration": 11,
    "start_time": "2023-11-11T14:44:23.567Z"
   },
   {
    "duration": 5,
    "start_time": "2023-11-11T14:44:23.581Z"
   },
   {
    "duration": 4,
    "start_time": "2023-11-11T14:44:23.588Z"
   },
   {
    "duration": 50,
    "start_time": "2023-11-11T14:44:23.593Z"
   },
   {
    "duration": 2154,
    "start_time": "2023-11-11T14:44:23.646Z"
   },
   {
    "duration": 0,
    "start_time": "2023-11-11T14:44:25.802Z"
   },
   {
    "duration": 0,
    "start_time": "2023-11-11T14:44:25.804Z"
   },
   {
    "duration": 0,
    "start_time": "2023-11-11T14:44:25.805Z"
   },
   {
    "duration": 0,
    "start_time": "2023-11-11T14:44:25.806Z"
   },
   {
    "duration": 0,
    "start_time": "2023-11-11T14:44:25.807Z"
   },
   {
    "duration": 0,
    "start_time": "2023-11-11T14:44:25.808Z"
   },
   {
    "duration": 0,
    "start_time": "2023-11-11T14:44:25.809Z"
   },
   {
    "duration": 0,
    "start_time": "2023-11-11T14:44:25.811Z"
   },
   {
    "duration": 0,
    "start_time": "2023-11-11T14:44:25.812Z"
   },
   {
    "duration": 0,
    "start_time": "2023-11-11T14:44:25.813Z"
   },
   {
    "duration": 0,
    "start_time": "2023-11-11T14:44:25.814Z"
   },
   {
    "duration": 0,
    "start_time": "2023-11-11T14:44:25.815Z"
   },
   {
    "duration": 0,
    "start_time": "2023-11-11T14:44:25.816Z"
   },
   {
    "duration": 0,
    "start_time": "2023-11-11T14:44:25.817Z"
   },
   {
    "duration": 0,
    "start_time": "2023-11-11T14:44:25.818Z"
   },
   {
    "duration": 0,
    "start_time": "2023-11-11T14:44:25.819Z"
   },
   {
    "duration": 0,
    "start_time": "2023-11-11T14:44:25.821Z"
   },
   {
    "duration": 0,
    "start_time": "2023-11-11T14:44:25.822Z"
   },
   {
    "duration": 0,
    "start_time": "2023-11-11T14:44:25.822Z"
   },
   {
    "duration": 0,
    "start_time": "2023-11-11T14:44:25.824Z"
   },
   {
    "duration": 0,
    "start_time": "2023-11-11T14:44:25.825Z"
   },
   {
    "duration": 0,
    "start_time": "2023-11-11T14:44:25.826Z"
   },
   {
    "duration": 0,
    "start_time": "2023-11-11T14:44:25.827Z"
   },
   {
    "duration": 0,
    "start_time": "2023-11-11T14:44:25.828Z"
   },
   {
    "duration": 3,
    "start_time": "2023-11-11T14:44:39.661Z"
   },
   {
    "duration": 3016,
    "start_time": "2023-11-11T14:44:43.358Z"
   },
   {
    "duration": 1668,
    "start_time": "2023-11-11T14:45:13.061Z"
   },
   {
    "duration": 33,
    "start_time": "2023-11-11T14:45:32.808Z"
   },
   {
    "duration": 215,
    "start_time": "2023-11-11T14:46:08.955Z"
   },
   {
    "duration": 190,
    "start_time": "2023-11-11T14:46:26.327Z"
   },
   {
    "duration": 175,
    "start_time": "2023-11-11T14:46:32.349Z"
   },
   {
    "duration": 189,
    "start_time": "2023-11-11T14:47:07.837Z"
   },
   {
    "duration": 173,
    "start_time": "2023-11-11T14:47:52.086Z"
   },
   {
    "duration": 12,
    "start_time": "2023-11-11T14:48:30.249Z"
   },
   {
    "duration": 21,
    "start_time": "2023-11-11T14:48:34.619Z"
   },
   {
    "duration": 174,
    "start_time": "2023-11-11T14:48:45.079Z"
   },
   {
    "duration": 224,
    "start_time": "2023-11-11T14:51:58.729Z"
   },
   {
    "duration": 212,
    "start_time": "2023-11-11T14:52:25.152Z"
   },
   {
    "duration": 188,
    "start_time": "2023-11-11T14:53:03.076Z"
   },
   {
    "duration": 179,
    "start_time": "2023-11-11T14:53:28.692Z"
   },
   {
    "duration": 290,
    "start_time": "2023-11-11T14:53:56.756Z"
   },
   {
    "duration": 1125,
    "start_time": "2023-11-11T14:54:15.941Z"
   },
   {
    "duration": 123,
    "start_time": "2023-11-11T14:54:17.069Z"
   },
   {
    "duration": 21,
    "start_time": "2023-11-11T14:54:17.193Z"
   },
   {
    "duration": 30,
    "start_time": "2023-11-11T14:54:17.215Z"
   },
   {
    "duration": 11,
    "start_time": "2023-11-11T14:54:17.248Z"
   },
   {
    "duration": 7,
    "start_time": "2023-11-11T14:54:17.261Z"
   },
   {
    "duration": 21,
    "start_time": "2023-11-11T14:54:17.270Z"
   },
   {
    "duration": 8,
    "start_time": "2023-11-11T14:54:17.293Z"
   },
   {
    "duration": 15,
    "start_time": "2023-11-11T14:54:17.330Z"
   },
   {
    "duration": 6,
    "start_time": "2023-11-11T14:54:17.347Z"
   },
   {
    "duration": 4,
    "start_time": "2023-11-11T14:54:17.355Z"
   },
   {
    "duration": 10,
    "start_time": "2023-11-11T14:54:17.360Z"
   },
   {
    "duration": 236,
    "start_time": "2023-11-11T14:54:17.371Z"
   },
   {
    "duration": 141,
    "start_time": "2023-11-11T14:54:17.611Z"
   },
   {
    "duration": 316,
    "start_time": "2023-11-11T14:54:17.754Z"
   },
   {
    "duration": 201,
    "start_time": "2023-11-11T14:54:18.072Z"
   },
   {
    "duration": 96,
    "start_time": "2023-11-11T14:54:18.275Z"
   },
   {
    "duration": 255,
    "start_time": "2023-11-11T14:54:18.372Z"
   },
   {
    "duration": 6,
    "start_time": "2023-11-11T14:54:18.629Z"
   },
   {
    "duration": 30,
    "start_time": "2023-11-11T14:54:18.638Z"
   },
   {
    "duration": 4,
    "start_time": "2023-11-11T14:54:18.670Z"
   },
   {
    "duration": 75,
    "start_time": "2023-11-11T14:54:18.676Z"
   },
   {
    "duration": 1454,
    "start_time": "2023-11-11T14:54:18.753Z"
   },
   {
    "duration": 385,
    "start_time": "2023-11-11T14:54:20.209Z"
   },
   {
    "duration": 13,
    "start_time": "2023-11-11T14:54:20.595Z"
   },
   {
    "duration": 46,
    "start_time": "2023-11-11T14:54:20.610Z"
   },
   {
    "duration": 9,
    "start_time": "2023-11-11T14:54:20.657Z"
   },
   {
    "duration": 216,
    "start_time": "2023-11-11T14:54:20.668Z"
   },
   {
    "duration": 12,
    "start_time": "2023-11-11T14:54:20.886Z"
   },
   {
    "duration": 36,
    "start_time": "2023-11-11T14:54:20.900Z"
   },
   {
    "duration": 21,
    "start_time": "2023-11-11T14:54:20.937Z"
   },
   {
    "duration": 10,
    "start_time": "2023-11-11T14:54:20.960Z"
   },
   {
    "duration": 13,
    "start_time": "2023-11-11T14:54:20.972Z"
   },
   {
    "duration": 29,
    "start_time": "2023-11-11T14:54:20.987Z"
   },
   {
    "duration": 29,
    "start_time": "2023-11-11T14:54:21.018Z"
   },
   {
    "duration": 6,
    "start_time": "2023-11-11T14:54:21.049Z"
   },
   {
    "duration": 7,
    "start_time": "2023-11-11T14:54:21.056Z"
   },
   {
    "duration": 19,
    "start_time": "2023-11-11T14:57:47.837Z"
   },
   {
    "duration": 7,
    "start_time": "2023-11-11T15:06:05.999Z"
   },
   {
    "duration": 7,
    "start_time": "2023-11-11T15:06:11.266Z"
   },
   {
    "duration": 1248,
    "start_time": "2023-11-11T15:09:25.930Z"
   },
   {
    "duration": 903,
    "start_time": "2023-11-11T15:11:32.554Z"
   },
   {
    "duration": 837,
    "start_time": "2023-11-11T15:12:13.287Z"
   },
   {
    "duration": 931,
    "start_time": "2023-11-11T15:13:06.709Z"
   },
   {
    "duration": 1067,
    "start_time": "2023-11-11T15:13:12.505Z"
   },
   {
    "duration": 913,
    "start_time": "2023-11-11T15:13:19.117Z"
   },
   {
    "duration": 1040,
    "start_time": "2023-11-11T15:13:49.227Z"
   },
   {
    "duration": 738,
    "start_time": "2023-11-11T15:15:14.230Z"
   },
   {
    "duration": 1052,
    "start_time": "2023-11-11T15:15:32.646Z"
   },
   {
    "duration": 930,
    "start_time": "2023-11-11T15:15:40.080Z"
   },
   {
    "duration": 766,
    "start_time": "2023-11-11T15:16:27.667Z"
   },
   {
    "duration": 869,
    "start_time": "2023-11-11T15:17:15.080Z"
   },
   {
    "duration": 678,
    "start_time": "2023-11-11T15:17:38.572Z"
   },
   {
    "duration": 853,
    "start_time": "2023-11-11T15:17:42.529Z"
   },
   {
    "duration": 102,
    "start_time": "2023-11-11T15:18:31.152Z"
   },
   {
    "duration": 386,
    "start_time": "2023-11-11T15:18:37.138Z"
   },
   {
    "duration": 373,
    "start_time": "2023-11-11T15:18:44.732Z"
   },
   {
    "duration": 187,
    "start_time": "2023-11-11T15:19:25.571Z"
   },
   {
    "duration": 133,
    "start_time": "2023-11-11T15:19:40.713Z"
   },
   {
    "duration": 141,
    "start_time": "2023-11-11T15:19:45.737Z"
   },
   {
    "duration": 152,
    "start_time": "2023-11-11T15:19:56.113Z"
   },
   {
    "duration": 163,
    "start_time": "2023-11-11T15:20:30.833Z"
   },
   {
    "duration": 155,
    "start_time": "2023-11-11T15:22:17.239Z"
   },
   {
    "duration": 136,
    "start_time": "2023-11-11T15:23:16.823Z"
   },
   {
    "duration": 139,
    "start_time": "2023-11-11T15:23:46.612Z"
   },
   {
    "duration": 180,
    "start_time": "2023-11-11T15:25:17.271Z"
   },
   {
    "duration": 143,
    "start_time": "2023-11-11T15:25:38.410Z"
   },
   {
    "duration": 153,
    "start_time": "2023-11-11T15:26:00.879Z"
   },
   {
    "duration": 389,
    "start_time": "2023-11-11T15:26:24.366Z"
   },
   {
    "duration": 302,
    "start_time": "2023-11-11T15:26:38.216Z"
   },
   {
    "duration": 315,
    "start_time": "2023-11-11T15:26:46.232Z"
   },
   {
    "duration": 343,
    "start_time": "2023-11-11T15:27:09.002Z"
   },
   {
    "duration": 360,
    "start_time": "2023-11-11T15:27:34.490Z"
   },
   {
    "duration": 350,
    "start_time": "2023-11-11T15:27:41.513Z"
   },
   {
    "duration": 1025,
    "start_time": "2023-11-11T16:10:26.772Z"
   },
   {
    "duration": 122,
    "start_time": "2023-11-11T16:10:27.799Z"
   },
   {
    "duration": 22,
    "start_time": "2023-11-11T16:10:27.923Z"
   },
   {
    "duration": 24,
    "start_time": "2023-11-11T16:10:27.947Z"
   },
   {
    "duration": 10,
    "start_time": "2023-11-11T16:10:27.973Z"
   },
   {
    "duration": 10,
    "start_time": "2023-11-11T16:10:27.985Z"
   },
   {
    "duration": 19,
    "start_time": "2023-11-11T16:10:28.031Z"
   },
   {
    "duration": 8,
    "start_time": "2023-11-11T16:10:28.052Z"
   },
   {
    "duration": 11,
    "start_time": "2023-11-11T16:10:28.062Z"
   },
   {
    "duration": 8,
    "start_time": "2023-11-11T16:10:28.077Z"
   },
   {
    "duration": 9,
    "start_time": "2023-11-11T16:10:28.087Z"
   },
   {
    "duration": 42,
    "start_time": "2023-11-11T16:10:28.098Z"
   },
   {
    "duration": 214,
    "start_time": "2023-11-11T16:10:28.141Z"
   },
   {
    "duration": 131,
    "start_time": "2023-11-11T16:10:28.358Z"
   },
   {
    "duration": 303,
    "start_time": "2023-11-11T16:10:28.491Z"
   },
   {
    "duration": 195,
    "start_time": "2023-11-11T16:10:28.796Z"
   },
   {
    "duration": 99,
    "start_time": "2023-11-11T16:10:28.993Z"
   },
   {
    "duration": 270,
    "start_time": "2023-11-11T16:10:29.094Z"
   },
   {
    "duration": 4,
    "start_time": "2023-11-11T16:10:29.365Z"
   },
   {
    "duration": 28,
    "start_time": "2023-11-11T16:10:29.371Z"
   },
   {
    "duration": 4,
    "start_time": "2023-11-11T16:10:29.401Z"
   },
   {
    "duration": 65,
    "start_time": "2023-11-11T16:10:29.407Z"
   },
   {
    "duration": 182,
    "start_time": "2023-11-11T16:10:29.473Z"
   },
   {
    "duration": 160,
    "start_time": "2023-11-11T16:10:29.657Z"
   },
   {
    "duration": 422,
    "start_time": "2023-11-11T16:10:29.819Z"
   },
   {
    "duration": 14,
    "start_time": "2023-11-11T16:10:30.243Z"
   },
   {
    "duration": 70,
    "start_time": "2023-11-11T16:10:30.258Z"
   },
   {
    "duration": 13,
    "start_time": "2023-11-11T16:10:30.332Z"
   },
   {
    "duration": 212,
    "start_time": "2023-11-11T16:10:30.347Z"
   },
   {
    "duration": 11,
    "start_time": "2023-11-11T16:10:30.561Z"
   },
   {
    "duration": 51,
    "start_time": "2023-11-11T16:10:30.574Z"
   },
   {
    "duration": 18,
    "start_time": "2023-11-11T16:10:30.627Z"
   },
   {
    "duration": 47,
    "start_time": "2023-11-11T16:10:30.646Z"
   },
   {
    "duration": 31,
    "start_time": "2023-11-11T16:10:30.695Z"
   },
   {
    "duration": 38,
    "start_time": "2023-11-11T16:10:30.728Z"
   },
   {
    "duration": 28,
    "start_time": "2023-11-11T16:10:30.768Z"
   },
   {
    "duration": 28,
    "start_time": "2023-11-11T16:10:30.798Z"
   },
   {
    "duration": 29,
    "start_time": "2023-11-11T16:10:30.828Z"
   },
   {
    "duration": 1145,
    "start_time": "2023-11-13T13:49:35.623Z"
   },
   {
    "duration": 347,
    "start_time": "2023-11-13T13:49:36.770Z"
   },
   {
    "duration": 21,
    "start_time": "2023-11-13T13:49:37.119Z"
   },
   {
    "duration": 23,
    "start_time": "2023-11-13T13:49:37.142Z"
   },
   {
    "duration": 10,
    "start_time": "2023-11-13T13:49:37.167Z"
   },
   {
    "duration": 20,
    "start_time": "2023-11-13T13:49:37.179Z"
   },
   {
    "duration": 11,
    "start_time": "2023-11-13T13:49:37.201Z"
   },
   {
    "duration": 16,
    "start_time": "2023-11-13T13:49:37.214Z"
   },
   {
    "duration": 15,
    "start_time": "2023-11-13T13:49:37.232Z"
   },
   {
    "duration": 7,
    "start_time": "2023-11-13T13:49:37.250Z"
   },
   {
    "duration": 12,
    "start_time": "2023-11-13T13:49:37.259Z"
   },
   {
    "duration": 12,
    "start_time": "2023-11-13T13:49:37.273Z"
   },
   {
    "duration": 207,
    "start_time": "2023-11-13T13:49:37.300Z"
   },
   {
    "duration": 133,
    "start_time": "2023-11-13T13:49:37.509Z"
   },
   {
    "duration": 308,
    "start_time": "2023-11-13T13:49:37.644Z"
   },
   {
    "duration": 199,
    "start_time": "2023-11-13T13:49:37.953Z"
   },
   {
    "duration": 95,
    "start_time": "2023-11-13T13:49:38.153Z"
   },
   {
    "duration": 282,
    "start_time": "2023-11-13T13:49:38.250Z"
   },
   {
    "duration": 4,
    "start_time": "2023-11-13T13:49:38.533Z"
   },
   {
    "duration": 27,
    "start_time": "2023-11-13T13:49:38.539Z"
   },
   {
    "duration": 3,
    "start_time": "2023-11-13T13:49:38.568Z"
   },
   {
    "duration": 59,
    "start_time": "2023-11-13T13:49:38.573Z"
   },
   {
    "duration": 177,
    "start_time": "2023-11-13T13:49:38.633Z"
   },
   {
    "duration": 166,
    "start_time": "2023-11-13T13:49:38.813Z"
   },
   {
    "duration": 427,
    "start_time": "2023-11-13T13:49:38.981Z"
   },
   {
    "duration": 13,
    "start_time": "2023-11-13T13:49:39.409Z"
   },
   {
    "duration": 26,
    "start_time": "2023-11-13T13:49:39.424Z"
   },
   {
    "duration": 6,
    "start_time": "2023-11-13T13:49:39.453Z"
   },
   {
    "duration": 216,
    "start_time": "2023-11-13T13:49:39.461Z"
   },
   {
    "duration": 12,
    "start_time": "2023-11-13T13:49:39.678Z"
   },
   {
    "duration": 19,
    "start_time": "2023-11-13T13:49:39.699Z"
   },
   {
    "duration": 11,
    "start_time": "2023-11-13T13:49:39.720Z"
   },
   {
    "duration": 20,
    "start_time": "2023-11-13T13:49:39.733Z"
   },
   {
    "duration": 6,
    "start_time": "2023-11-13T13:49:39.754Z"
   },
   {
    "duration": 44,
    "start_time": "2023-11-13T13:49:39.762Z"
   },
   {
    "duration": 11,
    "start_time": "2023-11-13T13:49:39.808Z"
   },
   {
    "duration": 7,
    "start_time": "2023-11-13T13:49:39.821Z"
   },
   {
    "duration": 9,
    "start_time": "2023-11-13T13:49:39.830Z"
   },
   {
    "duration": 9,
    "start_time": "2023-11-13T13:51:30.989Z"
   },
   {
    "duration": 106,
    "start_time": "2023-11-13T13:55:38.876Z"
   },
   {
    "duration": 1105,
    "start_time": "2023-11-13T13:55:44.076Z"
   },
   {
    "duration": 126,
    "start_time": "2023-11-13T13:55:45.183Z"
   },
   {
    "duration": 27,
    "start_time": "2023-11-13T13:55:45.311Z"
   },
   {
    "duration": 27,
    "start_time": "2023-11-13T13:55:45.340Z"
   },
   {
    "duration": 11,
    "start_time": "2023-11-13T13:55:45.369Z"
   },
   {
    "duration": 7,
    "start_time": "2023-11-13T13:55:45.400Z"
   },
   {
    "duration": 17,
    "start_time": "2023-11-13T13:55:45.409Z"
   },
   {
    "duration": 6,
    "start_time": "2023-11-13T13:55:45.428Z"
   },
   {
    "duration": 10,
    "start_time": "2023-11-13T13:55:45.437Z"
   },
   {
    "duration": 5,
    "start_time": "2023-11-13T13:55:45.449Z"
   },
   {
    "duration": 43,
    "start_time": "2023-11-13T13:55:45.456Z"
   },
   {
    "duration": 10,
    "start_time": "2023-11-13T13:55:45.501Z"
   },
   {
    "duration": 240,
    "start_time": "2023-11-13T13:55:45.513Z"
   },
   {
    "duration": 126,
    "start_time": "2023-11-13T13:55:45.755Z"
   },
   {
    "duration": 306,
    "start_time": "2023-11-13T13:55:45.883Z"
   },
   {
    "duration": 193,
    "start_time": "2023-11-13T13:55:46.191Z"
   },
   {
    "duration": 90,
    "start_time": "2023-11-13T13:55:46.385Z"
   },
   {
    "duration": 273,
    "start_time": "2023-11-13T13:55:46.476Z"
   },
   {
    "duration": 4,
    "start_time": "2023-11-13T13:55:46.751Z"
   },
   {
    "duration": 26,
    "start_time": "2023-11-13T13:55:46.757Z"
   },
   {
    "duration": 3,
    "start_time": "2023-11-13T13:55:46.800Z"
   },
   {
    "duration": 73,
    "start_time": "2023-11-13T13:55:46.804Z"
   },
   {
    "duration": 162,
    "start_time": "2023-11-13T13:55:46.880Z"
   },
   {
    "duration": 166,
    "start_time": "2023-11-13T13:55:47.043Z"
   },
   {
    "duration": 453,
    "start_time": "2023-11-13T13:55:47.210Z"
   },
   {
    "duration": 13,
    "start_time": "2023-11-13T13:55:47.665Z"
   },
   {
    "duration": 44,
    "start_time": "2023-11-13T13:55:47.680Z"
   },
   {
    "duration": 7,
    "start_time": "2023-11-13T13:55:47.728Z"
   },
   {
    "duration": 217,
    "start_time": "2023-11-13T13:55:47.737Z"
   },
   {
    "duration": 11,
    "start_time": "2023-11-13T13:55:47.956Z"
   },
   {
    "duration": 34,
    "start_time": "2023-11-13T13:55:47.969Z"
   },
   {
    "duration": 10,
    "start_time": "2023-11-13T13:55:48.005Z"
   },
   {
    "duration": 11,
    "start_time": "2023-11-13T13:55:48.017Z"
   },
   {
    "duration": 7,
    "start_time": "2023-11-13T13:55:48.030Z"
   },
   {
    "duration": 25,
    "start_time": "2023-11-13T13:55:48.039Z"
   },
   {
    "duration": 39,
    "start_time": "2023-11-13T13:55:48.066Z"
   },
   {
    "duration": 6,
    "start_time": "2023-11-13T13:55:48.107Z"
   },
   {
    "duration": 8,
    "start_time": "2023-11-13T13:55:48.115Z"
   },
   {
    "duration": 99,
    "start_time": "2023-11-13T13:56:02.694Z"
   },
   {
    "duration": 1160,
    "start_time": "2023-11-13T13:56:10.592Z"
   },
   {
    "duration": 123,
    "start_time": "2023-11-13T13:56:11.754Z"
   },
   {
    "duration": 23,
    "start_time": "2023-11-13T13:56:11.878Z"
   },
   {
    "duration": 26,
    "start_time": "2023-11-13T13:56:11.904Z"
   },
   {
    "duration": 10,
    "start_time": "2023-11-13T13:56:11.932Z"
   },
   {
    "duration": 30,
    "start_time": "2023-11-13T13:56:11.943Z"
   },
   {
    "duration": 12,
    "start_time": "2023-11-13T13:56:11.975Z"
   },
   {
    "duration": 14,
    "start_time": "2023-11-13T13:56:11.988Z"
   },
   {
    "duration": 19,
    "start_time": "2023-11-13T13:56:12.003Z"
   },
   {
    "duration": 5,
    "start_time": "2023-11-13T13:56:12.024Z"
   },
   {
    "duration": 4,
    "start_time": "2023-11-13T13:56:12.030Z"
   },
   {
    "duration": 12,
    "start_time": "2023-11-13T13:56:12.036Z"
   },
   {
    "duration": 223,
    "start_time": "2023-11-13T13:56:12.049Z"
   },
   {
    "duration": 137,
    "start_time": "2023-11-13T13:56:12.274Z"
   },
   {
    "duration": 328,
    "start_time": "2023-11-13T13:56:12.413Z"
   },
   {
    "duration": 204,
    "start_time": "2023-11-13T13:56:12.743Z"
   },
   {
    "duration": 108,
    "start_time": "2023-11-13T13:56:12.949Z"
   },
   {
    "duration": 279,
    "start_time": "2023-11-13T13:56:13.059Z"
   },
   {
    "duration": 4,
    "start_time": "2023-11-13T13:56:13.339Z"
   },
   {
    "duration": 43,
    "start_time": "2023-11-13T13:56:13.344Z"
   },
   {
    "duration": 5,
    "start_time": "2023-11-13T13:56:13.389Z"
   },
   {
    "duration": 77,
    "start_time": "2023-11-13T13:56:13.398Z"
   },
   {
    "duration": 161,
    "start_time": "2023-11-13T13:56:13.477Z"
   },
   {
    "duration": 185,
    "start_time": "2023-11-13T13:56:13.640Z"
   },
   {
    "duration": 435,
    "start_time": "2023-11-13T13:56:13.826Z"
   },
   {
    "duration": 14,
    "start_time": "2023-11-13T13:56:14.262Z"
   },
   {
    "duration": 45,
    "start_time": "2023-11-13T13:56:14.278Z"
   },
   {
    "duration": 8,
    "start_time": "2023-11-13T13:56:14.326Z"
   },
   {
    "duration": 217,
    "start_time": "2023-11-13T13:56:14.335Z"
   },
   {
    "duration": 11,
    "start_time": "2023-11-13T13:56:14.554Z"
   },
   {
    "duration": 14,
    "start_time": "2023-11-13T13:56:14.567Z"
   },
   {
    "duration": 25,
    "start_time": "2023-11-13T13:56:14.583Z"
   },
   {
    "duration": 11,
    "start_time": "2023-11-13T13:56:14.610Z"
   },
   {
    "duration": 8,
    "start_time": "2023-11-13T13:56:14.623Z"
   },
   {
    "duration": 23,
    "start_time": "2023-11-13T13:56:14.632Z"
   },
   {
    "duration": 10,
    "start_time": "2023-11-13T13:56:14.657Z"
   },
   {
    "duration": 6,
    "start_time": "2023-11-13T13:56:14.700Z"
   },
   {
    "duration": 18,
    "start_time": "2023-11-13T13:56:14.707Z"
   }
  ],
  "kernelspec": {
   "display_name": "Python 3 (ipykernel)",
   "language": "python",
   "name": "python3"
  },
  "language_info": {
   "codemirror_mode": {
    "name": "ipython",
    "version": 3
   },
   "file_extension": ".py",
   "mimetype": "text/x-python",
   "name": "python",
   "nbconvert_exporter": "python",
   "pygments_lexer": "ipython3",
   "version": "3.11.4"
  },
  "toc": {
   "base_numbering": 1,
   "nav_menu": {},
   "number_sections": true,
   "sideBar": true,
   "skip_h1_title": true,
   "title_cell": "Table of Contents",
   "title_sidebar": "Contents",
   "toc_cell": false,
   "toc_position": {
    "height": "calc(100% - 180px)",
    "left": "10px",
    "top": "150px",
    "width": "165px"
   },
   "toc_section_display": true,
   "toc_window_display": true
  }
 },
 "nbformat": 4,
 "nbformat_minor": 5
}
